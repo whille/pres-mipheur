{
 "cells": [
  {
   "cell_type": "markdown",
   "id": "191279ce",
   "metadata": {
    "slideshow": {
     "slide_type": "slide"
    },
    "tags": []
   },
   "source": [
    "# Faster MIPs Using Custom Heuristics"
   ]
  },
  {
   "cell_type": "markdown",
   "id": "057bf880",
   "metadata": {
    "slideshow": {
     "slide_type": "slide"
    }
   },
   "source": [
    "## Most important question"
   ]
  },
  {
   "cell_type": "markdown",
   "id": "5d50fc64",
   "metadata": {
    "slideshow": {
     "slide_type": "fragment"
    }
   },
   "source": [
    "- Q: How do you get a copy of the presentation and code?\n",
    "- A: Stay tuned until the end!"
   ]
  },
  {
   "cell_type": "markdown",
   "id": "a5390a97",
   "metadata": {
    "slideshow": {
     "slide_type": "slide"
    },
    "tags": []
   },
   "source": [
    "## About Heuristics in MIP\n",
    "- Heuristics help make MIP faster than branch-and-cut alone\n",
    "  - Find integer feasible solutions\n",
    "  - Improve incumbent solutions\n",
    "- Heuristics run alongside branch-and-cut\n",
    "  - At beginning of a solve\n",
    "  - After the LP relaxation\n",
    "  - Within the branch-and-cut tree"
   ]
  },
  {
   "cell_type": "markdown",
   "id": "c2f41242",
   "metadata": {
    "slideshow": {
     "slide_type": "slide"
    },
    "tags": []
   },
   "source": [
    "## Types of solution heuristics\n",
    "  - Construction: Find a feasible solution\n",
    "  - Improvement: Modify a feasible solution to get a better solution"
   ]
  },
  {
   "cell_type": "markdown",
   "id": "d8ffaba7",
   "metadata": {
    "slideshow": {
     "slide_type": "slide"
    },
    "tags": []
   },
   "source": [
    "## Why custom heuristics?\n",
    "- Gurobi provides _multiple_ general-purpose heuristics that are effective for many MIP models, including:\n",
    "  - Construction\n",
    "    - Zero: Try x=0 as a candidate solution (!)\n",
    "    - Zero objective: Set the objective to zero and solve\n",
    "  - Improvement\n",
    "    - RINS: Fix some variables and solve the reduced MIP\n",
    "- However, you may be able to do better for your model by exploiting its specific structure - that's the goal of this presentation"
   ]
  },
  {
   "cell_type": "markdown",
   "id": "15802723",
   "metadata": {
    "slideshow": {
     "slide_type": "slide"
    },
    "tags": []
   },
   "source": [
    "## Disclaimers\n",
    "- We use the Traveling Salesman Problem (TSP) **for illustration purposes**\n",
    "  - Why TSP? Because it is a rich model that is easy to understand\n",
    "- This is *not* designed to show the fastest method for the TSP\n",
    "  - Special-purpose TSP codes outperform this model\n",
    "  - If you want to solve a TSP, consider a state-of-the-art system like [Concorde TSP Solver](http://www.math.uwaterloo.ca/tsp/concorde.html)"
   ]
  },
  {
   "cell_type": "markdown",
   "id": "8417f747",
   "metadata": {
    "slideshow": {
     "slide_type": "slide"
    },
    "tags": []
   },
   "source": [
    "## Review of the Symmetric Traveling Salesman Problem\n",
    "- Given:\n",
    "  - A symmetric graph with Nodes and Edges\n",
    "  - A distance value for each edge\n",
    "- Find a tour that\n",
    "  - Visits each city exactly once\n",
    "  - Returns to the starting point\n",
    "  - Minimizes the total distance"
   ]
  },
  {
   "cell_type": "markdown",
   "id": "b1ff503d",
   "metadata": {
    "slideshow": {
     "slide_type": "slide"
    },
    "tags": []
   },
   "source": [
    "Example:\n",
    "  \n",
    "<img src=\"img/tour.png\" width=\"80%\">"
   ]
  },
  {
   "cell_type": "markdown",
   "id": "1286a052",
   "metadata": {
    "incorrectly_encoded_metadata": "rise={\"height\": \"80%\", \"width\": \"80%\"} slideshow={\"slide_type\": \"slide\"} tags=[] jp-MarkdownHeadingCollapsed=true"
   },
   "source": [
    "## Standard MIP model for symmetric TSP\n",
    "\n",
    "- Let $d_{ij}$ be the distance between nodes $i$ and $j$\n",
    "- Let binary variable $x_{ij} = 1$ if edge $i,j$ in the tour\n",
    "\n",
    "$$\n",
    "\\begin{align}\n",
    "\\min \\sum_{i,j} d_{ij} x_{ij} \\\\\n",
    "\\sum_{j} x_{ij} & = 2 & \\forall i \\quad (1) \\\\\n",
    "\\sum_{i,j \\in S : i<j} x_{ij} & \\le |S|-1 & \\forall S \\subset N, 2 \\le |S| \\le |N|-2 \\quad (2) \\\\\n",
    "x_{ij} & = x_{ji} & \\forall i,j \\quad (3) \n",
    "\\end{align}\n",
    "$$\n",
    "\n",
    "1. Degree constraint: ensures that two edges connect to each node.\n",
    "2. Subtour elimination constraint: there are an exponential number of these, but most are inactive. Typically, add them as needed via a lazy constraint callback that checks whether a solution contains subtours and adds the constraint.\n",
    "3. Symmetry constraints: handled by presolve or model formulation."
   ]
  },
  {
   "cell_type": "markdown",
   "id": "8b67456d",
   "metadata": {
    "slideshow": {
     "slide_type": "slide"
    },
    "tags": []
   },
   "source": [
    "## Status of MIP nodes\n",
    "- LP infeasible\n",
    "- LP feasible\n",
    "  - Integer feasible\n",
    "      - **Has subtours – needs lazy constraints**\n",
    "      - No subtours – new tour found\n",
    "  - **Fractional values**\n",
    "\n",
    "**Boldface** values can be exploited in heuristics"
   ]
  },
  {
   "cell_type": "markdown",
   "id": "381d8a73",
   "metadata": {
    "slideshow": {
     "slide_type": "slide"
    },
    "tags": []
   },
   "source": [
    "## MIP Heuristic: Greedy construction\n",
    "\n",
    "Given a path in the graph, add the closest node. Repeat until you visit\n",
    "all nodes, then return to the start to get a tour.\n",
    "\n",
    "<img src=\"img/greedy.png\" width=\"80%\">"
   ]
  },
  {
   "cell_type": "markdown",
   "id": "76620457",
   "metadata": {
    "slideshow": {
     "slide_type": "slide"
    },
    "tags": []
   },
   "source": [
    "## MIP Heuristic: Subtour patching\n",
    "\n",
    "Join subtours together to get a larger subtour. Repeat until there is\n",
    "just one tour.\n",
    "\n",
    "<img src=\"img/subtours.png\" width=\"80%\">"
   ]
  },
  {
   "cell_type": "markdown",
   "id": "aac0cf25",
   "metadata": {
    "slideshow": {
     "slide_type": "slide"
    },
    "tags": []
   },
   "source": [
    "## MIP Heuristic: Fix and dive\n",
    "\n",
    "Take variables $x_{ij}$ in the LP relaxation where $x_{ij} = 1$; fix\n",
    "those values and solve the reduced MIP.\n",
    "\n",
    "<img src=\"img/fixed.png\" width=\"80%\">"
   ]
  },
  {
   "cell_type": "markdown",
   "id": "8a994a6f",
   "metadata": {
    "slideshow": {
     "slide_type": "slide"
    },
    "tags": []
   },
   "source": [
    "## MIP Heuristic: Swap\n",
    "\n",
    "There are many different variations of swap heuristics. Here is\n",
    "a simple one where we swap 2 edges in a tour.\n",
    "\n",
    "<img src=\"img/swap.png\" width=\"80%\">"
   ]
  },
  {
   "cell_type": "markdown",
   "id": "3559f3a8",
   "metadata": {
    "slideshow": {
     "slide_type": "slide"
    },
    "tags": []
   },
   "source": [
    "# Model code\n",
    "\n",
    "- This code may seem pedantic since it's designed as a research testbed to try different heuristics\n",
    "- For a production application, you could simplify the code by including the heuristics directly and avoid some advanced (complex) Python programming.\n",
    "\n",
    "**Note** This code is provided for illustration purposes and comes with no warranty or technical support."
   ]
  },
  {
   "cell_type": "markdown",
   "id": "b9ba83be",
   "metadata": {
    "slideshow": {
     "slide_type": "slide"
    },
    "tags": []
   },
   "source": [
    "## Code to create the base model"
   ]
  },
  {
   "cell_type": "code",
   "execution_count": 2,
   "id": "9e6a7ced",
   "metadata": {
    "slideshow": {
     "slide_type": "subslide"
    },
    "tags": []
   },
   "outputs": [],
   "source": [
    "import math\n",
    "from itertools import combinations\n",
    "import gurobipy as gp\n",
    "from gurobipy import GRB\n",
    "import random\n",
    "\n",
    "def tspmip(n, dist, timelimit=60):\n",
    "    m = gp.Model()\n",
    "    # Objects to use inside callbacks\n",
    "    m._n = n\n",
    "    m._subtours = []\n",
    "    m._tours = []\n",
    "    m._dist = dict(dist)\n",
    "\n",
    "    # Create variables\n",
    "    vars = m.addVars(dist.keys(), obj=dist, vtype=GRB.BINARY, name='x')\n",
    "    # Create opposite direction (i,j) -> (j,i)\n",
    "    # This isn't a new variable - it's a pointer to the same variable\n",
    "    for i, j in vars.keys():\n",
    "        vars[j, i] = vars[i, j]\n",
    "        m._dist[j, i] = dist[i, j]\n",
    "    # Add degree-2 constraint\n",
    "    m.addConstrs(vars.sum(i, '*') == 2 for i in range(n))\n",
    "    # Set parameter for lazy constraints\n",
    "    m.Params.lazyConstraints = 1\n",
    "    # Set the relative MIP gap to 0 and the time limit\n",
    "    m.Params.MIPGap = 0\n",
    "    m.Params.TimeLimit = timelimit\n",
    "    \n",
    "    # Set the absolute MIP gap to the smallest nonzero difference in distances\n",
    "    distvals = sorted(dist.values())\n",
    "    # Default value: 1e-10\n",
    "    m.Params.MIPGapAbs = min(v[1]-v[0] for v in list(zip(distvals[:-1],distvals[1:])) if v[1] != v[0])\n",
    "    # vars object to use inside callbacks\n",
    "    m._vars = vars\n",
    "    \n",
    "    return m"
   ]
  },
  {
   "cell_type": "markdown",
   "id": "d11a7e36",
   "metadata": {
    "slideshow": {
     "slide_type": "slide"
    }
   },
   "source": [
    "## Subtours function\n",
    "Finds all subtours from an integer solution, sorted from smallest subtour to largest."
   ]
  },
  {
   "cell_type": "code",
   "execution_count": 3,
   "id": "9779ff4b",
   "metadata": {
    "slideshow": {
     "slide_type": "subslide"
    }
   },
   "outputs": [],
   "source": [
    "def subtours(vals):\n",
    "    # make a list of edges selected in the solution\n",
    "    edges = gp.tuplelist((i, j) for i, j in vals.keys()\n",
    "                         if vals[i, j] > 0.5)\n",
    "    cycles = []\n",
    "    while edges:\n",
    "        # Trace edges until we find a loop\n",
    "        i,j = edges[0]\n",
    "        thiscycle = [i]\n",
    "        while j != thiscycle[0]:\n",
    "            thiscycle.append(j)\n",
    "            i,j = next((i,j) for i,j in edges.select(j, '*')\n",
    "                       if j != thiscycle[-2])\n",
    "        cycles.append(thiscycle)\n",
    "        for j in thiscycle:\n",
    "            edges.remove((i,j))\n",
    "            edges.remove((j,i))\n",
    "            i = j\n",
    "    return sorted(cycles, key=lambda x: len(x))"
   ]
  },
  {
   "cell_type": "markdown",
   "id": "163d8db4",
   "metadata": {
    "slideshow": {
     "slide_type": "slide"
    }
   },
   "source": [
    "## Tour cost function\n",
    "A helper function to compute the cost of a tour"
   ]
  },
  {
   "cell_type": "code",
   "execution_count": 4,
   "id": "b15faba2",
   "metadata": {
    "slideshow": {
     "slide_type": "subslide"
    }
   },
   "outputs": [],
   "source": [
    "def tourcost(dist, tour):\n",
    "    return sum(dist[tour[k-1],tour[k]] for k in range(len(tour)))"
   ]
  },
  {
   "cell_type": "markdown",
   "id": "9262fed3",
   "metadata": {
    "slideshow": {
     "slide_type": "slide"
    }
   },
   "source": [
    "## Callback function\n",
    "There are several parts to the main callback function:\n",
    "1. Checks on integer solutions: if an integer solution is found, it either stores the tour or subtours\n",
    "2. A call to a heuristic function, which we specify later\n",
    "3. If subtours were found, add subtour elimination constraints\n",
    "4. If a tour was generated (like from a heuristic), set that as a candidate solution\n",
    "\n",
    "This function is written as a [closure](https://en.wikipedia.org/wiki/Closure_(computer_programming)): a function that _generates_ the callback. The reason for this is that we want to specify the heuristic function to call inside the callback! The main logic is in the inner function `basecb`; the optional heuristic function is `heurcb`."
   ]
  },
  {
   "cell_type": "code",
   "execution_count": 93,
   "id": "9337b273",
   "metadata": {
    "slideshow": {
     "slide_type": "subslide"
    }
   },
   "outputs": [],
   "source": [
    "def tspcb(heurcb=None):\n",
    "    def basecb(model, where):\n",
    "        # Check MIP solution\n",
    "        if where == GRB.Callback.MIPSOL:\n",
    "            vals = model.cbGetSolution(model._vars)\n",
    "            tours = subtours(vals)\n",
    "            if len(tours) > 1:\n",
    "                # Save the subtours for future use\n",
    "                print(f\"MIPSOL, subtours: {tours}\")\n",
    "                model._subtours.append(tours)\n",
    "            else:\n",
    "                # Save the whole tour for future use\n",
    "                model._tours.append(tours[0])\n",
    "                # Record time when first tour is found\n",
    "                try:\n",
    "                    model._firstsoltime\n",
    "                except AttributeError:\n",
    "                    model._firstsoltime = model.cbGet(GRB.Callback.RUNTIME)\n",
    "\n",
    "        # Call inner heuristic callback function, if specified\n",
    "        try:\n",
    "            heurcb(model, where)\n",
    "        except TypeError: # no heuristic callback specified\n",
    "            pass\n",
    "\n",
    "        # Add subtour constraints if there are any subtours\n",
    "        if where == GRB.Callback.MIPSOL:\n",
    "            for tours in model._subtours:\n",
    "                print(f\"MIPSOL, subtours len: {len(tours)}\")\n",
    "                # add a subtour elimination constraint for all but largest subtour\n",
    "                for tour in tours[:-1]:\n",
    "                    model.cbLazy(gp.quicksum(model._vars[i, j]\n",
    "                                             for i, j in combinations(tour, 2) if (i,j) in model._vars)\n",
    "                                 <= len(tour)-1)\n",
    "            # Reset the subtours\n",
    "            model._subtours = []\n",
    "\n",
    "        # Inject a heuristic solution, if there is a saved one\n",
    "        if where == GRB.Callback.MIPNODE:\n",
    "            # print(f\"MIPNODE, len(tours): {len(model._tours)}\")\n",
    "            try:\n",
    "                # There may be multiple tours - find the best one\n",
    "                tour,cost = min(((tour,tourcost(model._dist, tour))\n",
    "                              for tour in model._tours),\n",
    "                          key=lambda x: x[-1])\n",
    "                # Only apply if the tour is an improvement\n",
    "                if cost < model.cbGet(GRB.Callback.MIPNODE_OBJBST):\n",
    "                    print(f\"OBJBEST: {model.cbGet(GRB.Callback.MIPNODE_OBJBST)}, tour cost: {cost}\")\n",
    "                    # Set all variables to 0.0 - optional but helpful to suppress some warnings\n",
    "                    model.cbSetSolution(model._vars.values(), [0.0]*len(model._vars))\n",
    "                    # Now set variables in tour to 1.0\n",
    "                    model.cbSetSolution([model._vars[tour[k-1],tour[k]] for k in range(len(tour))], [1.0]*len(tour))\n",
    "                    # Use the solution - optional but a slight performance improvement\n",
    "                    model.cbUseSolution()\n",
    "                # Reset the tours\n",
    "                model._tours = []\n",
    "            except ValueError: # tours list was already empty\n",
    "                pass\n",
    "    \n",
    "    return basecb # the generated function"
   ]
  },
  {
   "cell_type": "markdown",
   "id": "449805c7",
   "metadata": {
    "slideshow": {
     "slide_type": "slide"
    }
   },
   "source": [
    "## Check solution\n",
    "Function to print and plot solution values."
   ]
  },
  {
   "cell_type": "code",
   "execution_count": 21,
   "id": "a1b4c096",
   "metadata": {
    "slideshow": {
     "slide_type": "subslide"
    }
   },
   "outputs": [
    {
     "data": {
      "text/html": [
       "\n",
       "    <div class=\"bk-root\">\n",
       "        <a href=\"https://bokeh.org\" target=\"_blank\" class=\"bk-logo bk-logo-small bk-logo-notebook\"></a>\n",
       "        <span id=\"1543\">Loading BokehJS ...</span>\n",
       "    </div>"
      ]
     },
     "metadata": {},
     "output_type": "display_data"
    },
    {
     "data": {
      "application/javascript": [
       "\n",
       "(function(root) {\n",
       "  function now() {\n",
       "    return new Date();\n",
       "  }\n",
       "\n",
       "  const force = true;\n",
       "\n",
       "  if (typeof root._bokeh_onload_callbacks === \"undefined\" || force === true) {\n",
       "    root._bokeh_onload_callbacks = [];\n",
       "    root._bokeh_is_loading = undefined;\n",
       "  }\n",
       "\n",
       "  const JS_MIME_TYPE = 'application/javascript';\n",
       "  const HTML_MIME_TYPE = 'text/html';\n",
       "  const EXEC_MIME_TYPE = 'application/vnd.bokehjs_exec.v0+json';\n",
       "  const CLASS_NAME = 'output_bokeh rendered_html';\n",
       "\n",
       "  /**\n",
       "   * Render data to the DOM node\n",
       "   */\n",
       "  function render(props, node) {\n",
       "    const script = document.createElement(\"script\");\n",
       "    node.appendChild(script);\n",
       "  }\n",
       "\n",
       "  /**\n",
       "   * Handle when an output is cleared or removed\n",
       "   */\n",
       "  function handleClearOutput(event, handle) {\n",
       "    const cell = handle.cell;\n",
       "\n",
       "    const id = cell.output_area._bokeh_element_id;\n",
       "    const server_id = cell.output_area._bokeh_server_id;\n",
       "    // Clean up Bokeh references\n",
       "    if (id != null && id in Bokeh.index) {\n",
       "      Bokeh.index[id].model.document.clear();\n",
       "      delete Bokeh.index[id];\n",
       "    }\n",
       "\n",
       "    if (server_id !== undefined) {\n",
       "      // Clean up Bokeh references\n",
       "      const cmd_clean = \"from bokeh.io.state import curstate; print(curstate().uuid_to_server['\" + server_id + \"'].get_sessions()[0].document.roots[0]._id)\";\n",
       "      cell.notebook.kernel.execute(cmd_clean, {\n",
       "        iopub: {\n",
       "          output: function(msg) {\n",
       "            const id = msg.content.text.trim();\n",
       "            if (id in Bokeh.index) {\n",
       "              Bokeh.index[id].model.document.clear();\n",
       "              delete Bokeh.index[id];\n",
       "            }\n",
       "          }\n",
       "        }\n",
       "      });\n",
       "      // Destroy server and session\n",
       "      const cmd_destroy = \"import bokeh.io.notebook as ion; ion.destroy_server('\" + server_id + \"')\";\n",
       "      cell.notebook.kernel.execute(cmd_destroy);\n",
       "    }\n",
       "  }\n",
       "\n",
       "  /**\n",
       "   * Handle when a new output is added\n",
       "   */\n",
       "  function handleAddOutput(event, handle) {\n",
       "    const output_area = handle.output_area;\n",
       "    const output = handle.output;\n",
       "\n",
       "    // limit handleAddOutput to display_data with EXEC_MIME_TYPE content only\n",
       "    if ((output.output_type != \"display_data\") || (!Object.prototype.hasOwnProperty.call(output.data, EXEC_MIME_TYPE))) {\n",
       "      return\n",
       "    }\n",
       "\n",
       "    const toinsert = output_area.element.find(\".\" + CLASS_NAME.split(' ')[0]);\n",
       "\n",
       "    if (output.metadata[EXEC_MIME_TYPE][\"id\"] !== undefined) {\n",
       "      toinsert[toinsert.length - 1].firstChild.textContent = output.data[JS_MIME_TYPE];\n",
       "      // store reference to embed id on output_area\n",
       "      output_area._bokeh_element_id = output.metadata[EXEC_MIME_TYPE][\"id\"];\n",
       "    }\n",
       "    if (output.metadata[EXEC_MIME_TYPE][\"server_id\"] !== undefined) {\n",
       "      const bk_div = document.createElement(\"div\");\n",
       "      bk_div.innerHTML = output.data[HTML_MIME_TYPE];\n",
       "      const script_attrs = bk_div.children[0].attributes;\n",
       "      for (let i = 0; i < script_attrs.length; i++) {\n",
       "        toinsert[toinsert.length - 1].firstChild.setAttribute(script_attrs[i].name, script_attrs[i].value);\n",
       "        toinsert[toinsert.length - 1].firstChild.textContent = bk_div.children[0].textContent\n",
       "      }\n",
       "      // store reference to server id on output_area\n",
       "      output_area._bokeh_server_id = output.metadata[EXEC_MIME_TYPE][\"server_id\"];\n",
       "    }\n",
       "  }\n",
       "\n",
       "  function register_renderer(events, OutputArea) {\n",
       "\n",
       "    function append_mime(data, metadata, element) {\n",
       "      // create a DOM node to render to\n",
       "      const toinsert = this.create_output_subarea(\n",
       "        metadata,\n",
       "        CLASS_NAME,\n",
       "        EXEC_MIME_TYPE\n",
       "      );\n",
       "      this.keyboard_manager.register_events(toinsert);\n",
       "      // Render to node\n",
       "      const props = {data: data, metadata: metadata[EXEC_MIME_TYPE]};\n",
       "      render(props, toinsert[toinsert.length - 1]);\n",
       "      element.append(toinsert);\n",
       "      return toinsert\n",
       "    }\n",
       "\n",
       "    /* Handle when an output is cleared or removed */\n",
       "    events.on('clear_output.CodeCell', handleClearOutput);\n",
       "    events.on('delete.Cell', handleClearOutput);\n",
       "\n",
       "    /* Handle when a new output is added */\n",
       "    events.on('output_added.OutputArea', handleAddOutput);\n",
       "\n",
       "    /**\n",
       "     * Register the mime type and append_mime function with output_area\n",
       "     */\n",
       "    OutputArea.prototype.register_mime_type(EXEC_MIME_TYPE, append_mime, {\n",
       "      /* Is output safe? */\n",
       "      safe: true,\n",
       "      /* Index of renderer in `output_area.display_order` */\n",
       "      index: 0\n",
       "    });\n",
       "  }\n",
       "\n",
       "  // register the mime type if in Jupyter Notebook environment and previously unregistered\n",
       "  if (root.Jupyter !== undefined) {\n",
       "    const events = require('base/js/events');\n",
       "    const OutputArea = require('notebook/js/outputarea').OutputArea;\n",
       "\n",
       "    if (OutputArea.prototype.mime_types().indexOf(EXEC_MIME_TYPE) == -1) {\n",
       "      register_renderer(events, OutputArea);\n",
       "    }\n",
       "  }\n",
       "\n",
       "  \n",
       "  if (typeof (root._bokeh_timeout) === \"undefined\" || force === true) {\n",
       "    root._bokeh_timeout = Date.now() + 5000;\n",
       "    root._bokeh_failed_load = false;\n",
       "  }\n",
       "\n",
       "  const NB_LOAD_WARNING = {'data': {'text/html':\n",
       "     \"<div style='background-color: #fdd'>\\n\"+\n",
       "     \"<p>\\n\"+\n",
       "     \"BokehJS does not appear to have successfully loaded. If loading BokehJS from CDN, this \\n\"+\n",
       "     \"may be due to a slow or bad network connection. Possible fixes:\\n\"+\n",
       "     \"</p>\\n\"+\n",
       "     \"<ul>\\n\"+\n",
       "     \"<li>re-rerun `output_notebook()` to attempt to load from CDN again, or</li>\\n\"+\n",
       "     \"<li>use INLINE resources instead, as so:</li>\\n\"+\n",
       "     \"</ul>\\n\"+\n",
       "     \"<code>\\n\"+\n",
       "     \"from bokeh.resources import INLINE\\n\"+\n",
       "     \"output_notebook(resources=INLINE)\\n\"+\n",
       "     \"</code>\\n\"+\n",
       "     \"</div>\"}};\n",
       "\n",
       "  function display_loaded() {\n",
       "    const el = document.getElementById(\"1543\");\n",
       "    if (el != null) {\n",
       "      el.textContent = \"BokehJS is loading...\";\n",
       "    }\n",
       "    if (root.Bokeh !== undefined) {\n",
       "      if (el != null) {\n",
       "        el.textContent = \"BokehJS \" + root.Bokeh.version + \" successfully loaded.\";\n",
       "      }\n",
       "    } else if (Date.now() < root._bokeh_timeout) {\n",
       "      setTimeout(display_loaded, 100)\n",
       "    }\n",
       "  }\n",
       "\n",
       "\n",
       "  function run_callbacks() {\n",
       "    try {\n",
       "      root._bokeh_onload_callbacks.forEach(function(callback) {\n",
       "        if (callback != null)\n",
       "          callback();\n",
       "      });\n",
       "    } finally {\n",
       "      delete root._bokeh_onload_callbacks\n",
       "    }\n",
       "    console.debug(\"Bokeh: all callbacks have finished\");\n",
       "  }\n",
       "\n",
       "  function load_libs(css_urls, js_urls, callback) {\n",
       "    if (css_urls == null) css_urls = [];\n",
       "    if (js_urls == null) js_urls = [];\n",
       "\n",
       "    root._bokeh_onload_callbacks.push(callback);\n",
       "    if (root._bokeh_is_loading > 0) {\n",
       "      console.debug(\"Bokeh: BokehJS is being loaded, scheduling callback at\", now());\n",
       "      return null;\n",
       "    }\n",
       "    if (js_urls == null || js_urls.length === 0) {\n",
       "      run_callbacks();\n",
       "      return null;\n",
       "    }\n",
       "    console.debug(\"Bokeh: BokehJS not loaded, scheduling load and callback at\", now());\n",
       "    root._bokeh_is_loading = css_urls.length + js_urls.length;\n",
       "\n",
       "    function on_load() {\n",
       "      root._bokeh_is_loading--;\n",
       "      if (root._bokeh_is_loading === 0) {\n",
       "        console.debug(\"Bokeh: all BokehJS libraries/stylesheets loaded\");\n",
       "        run_callbacks()\n",
       "      }\n",
       "    }\n",
       "\n",
       "    function on_error(url) {\n",
       "      console.error(\"failed to load \" + url);\n",
       "    }\n",
       "\n",
       "    for (let i = 0; i < css_urls.length; i++) {\n",
       "      const url = css_urls[i];\n",
       "      const element = document.createElement(\"link\");\n",
       "      element.onload = on_load;\n",
       "      element.onerror = on_error.bind(null, url);\n",
       "      element.rel = \"stylesheet\";\n",
       "      element.type = \"text/css\";\n",
       "      element.href = url;\n",
       "      console.debug(\"Bokeh: injecting link tag for BokehJS stylesheet: \", url);\n",
       "      document.body.appendChild(element);\n",
       "    }\n",
       "\n",
       "    for (let i = 0; i < js_urls.length; i++) {\n",
       "      const url = js_urls[i];\n",
       "      const element = document.createElement('script');\n",
       "      element.onload = on_load;\n",
       "      element.onerror = on_error.bind(null, url);\n",
       "      element.async = false;\n",
       "      element.src = url;\n",
       "      console.debug(\"Bokeh: injecting script tag for BokehJS library: \", url);\n",
       "      document.head.appendChild(element);\n",
       "    }\n",
       "  };\n",
       "\n",
       "  function inject_raw_css(css) {\n",
       "    const element = document.createElement(\"style\");\n",
       "    element.appendChild(document.createTextNode(css));\n",
       "    document.body.appendChild(element);\n",
       "  }\n",
       "\n",
       "  \n",
       "  const js_urls = [\"https://cdn.bokeh.org/bokeh/release/bokeh-2.4.2.min.js\", \"https://cdn.bokeh.org/bokeh/release/bokeh-gl-2.4.2.min.js\", \"https://cdn.bokeh.org/bokeh/release/bokeh-widgets-2.4.2.min.js\", \"https://cdn.bokeh.org/bokeh/release/bokeh-tables-2.4.2.min.js\", \"https://cdn.bokeh.org/bokeh/release/bokeh-mathjax-2.4.2.min.js\"];\n",
       "  const css_urls = [];\n",
       "  \n",
       "\n",
       "  const inline_js = [\n",
       "    function(Bokeh) {\n",
       "      Bokeh.set_log_level(\"info\");\n",
       "    },\n",
       "    function(Bokeh) {\n",
       "    \n",
       "    \n",
       "    }\n",
       "  ];\n",
       "\n",
       "  function run_inline_js() {\n",
       "    \n",
       "    if (root.Bokeh !== undefined || force === true) {\n",
       "      \n",
       "    for (let i = 0; i < inline_js.length; i++) {\n",
       "      inline_js[i].call(root, root.Bokeh);\n",
       "    }\n",
       "    if (force === true) {\n",
       "        display_loaded();\n",
       "      }} else if (Date.now() < root._bokeh_timeout) {\n",
       "      setTimeout(run_inline_js, 100);\n",
       "    } else if (!root._bokeh_failed_load) {\n",
       "      console.log(\"Bokeh: BokehJS failed to load within specified timeout.\");\n",
       "      root._bokeh_failed_load = true;\n",
       "    } else if (force !== true) {\n",
       "      const cell = $(document.getElementById(\"1543\")).parents('.cell').data().cell;\n",
       "      cell.output_area.append_execute_result(NB_LOAD_WARNING)\n",
       "    }\n",
       "\n",
       "  }\n",
       "\n",
       "  if (root._bokeh_is_loading === 0) {\n",
       "    console.debug(\"Bokeh: BokehJS loaded, going straight to plotting\");\n",
       "    run_inline_js();\n",
       "  } else {\n",
       "    load_libs(css_urls, js_urls, function() {\n",
       "      console.debug(\"Bokeh: BokehJS plotting callback run at\", now());\n",
       "      run_inline_js();\n",
       "    });\n",
       "  }\n",
       "}(window));"
      ],
      "application/vnd.bokehjs_load.v0+json": "\n(function(root) {\n  function now() {\n    return new Date();\n  }\n\n  const force = true;\n\n  if (typeof root._bokeh_onload_callbacks === \"undefined\" || force === true) {\n    root._bokeh_onload_callbacks = [];\n    root._bokeh_is_loading = undefined;\n  }\n\n  \n\n  \n  if (typeof (root._bokeh_timeout) === \"undefined\" || force === true) {\n    root._bokeh_timeout = Date.now() + 5000;\n    root._bokeh_failed_load = false;\n  }\n\n  const NB_LOAD_WARNING = {'data': {'text/html':\n     \"<div style='background-color: #fdd'>\\n\"+\n     \"<p>\\n\"+\n     \"BokehJS does not appear to have successfully loaded. If loading BokehJS from CDN, this \\n\"+\n     \"may be due to a slow or bad network connection. Possible fixes:\\n\"+\n     \"</p>\\n\"+\n     \"<ul>\\n\"+\n     \"<li>re-rerun `output_notebook()` to attempt to load from CDN again, or</li>\\n\"+\n     \"<li>use INLINE resources instead, as so:</li>\\n\"+\n     \"</ul>\\n\"+\n     \"<code>\\n\"+\n     \"from bokeh.resources import INLINE\\n\"+\n     \"output_notebook(resources=INLINE)\\n\"+\n     \"</code>\\n\"+\n     \"</div>\"}};\n\n  function display_loaded() {\n    const el = document.getElementById(\"1543\");\n    if (el != null) {\n      el.textContent = \"BokehJS is loading...\";\n    }\n    if (root.Bokeh !== undefined) {\n      if (el != null) {\n        el.textContent = \"BokehJS \" + root.Bokeh.version + \" successfully loaded.\";\n      }\n    } else if (Date.now() < root._bokeh_timeout) {\n      setTimeout(display_loaded, 100)\n    }\n  }\n\n\n  function run_callbacks() {\n    try {\n      root._bokeh_onload_callbacks.forEach(function(callback) {\n        if (callback != null)\n          callback();\n      });\n    } finally {\n      delete root._bokeh_onload_callbacks\n    }\n    console.debug(\"Bokeh: all callbacks have finished\");\n  }\n\n  function load_libs(css_urls, js_urls, callback) {\n    if (css_urls == null) css_urls = [];\n    if (js_urls == null) js_urls = [];\n\n    root._bokeh_onload_callbacks.push(callback);\n    if (root._bokeh_is_loading > 0) {\n      console.debug(\"Bokeh: BokehJS is being loaded, scheduling callback at\", now());\n      return null;\n    }\n    if (js_urls == null || js_urls.length === 0) {\n      run_callbacks();\n      return null;\n    }\n    console.debug(\"Bokeh: BokehJS not loaded, scheduling load and callback at\", now());\n    root._bokeh_is_loading = css_urls.length + js_urls.length;\n\n    function on_load() {\n      root._bokeh_is_loading--;\n      if (root._bokeh_is_loading === 0) {\n        console.debug(\"Bokeh: all BokehJS libraries/stylesheets loaded\");\n        run_callbacks()\n      }\n    }\n\n    function on_error(url) {\n      console.error(\"failed to load \" + url);\n    }\n\n    for (let i = 0; i < css_urls.length; i++) {\n      const url = css_urls[i];\n      const element = document.createElement(\"link\");\n      element.onload = on_load;\n      element.onerror = on_error.bind(null, url);\n      element.rel = \"stylesheet\";\n      element.type = \"text/css\";\n      element.href = url;\n      console.debug(\"Bokeh: injecting link tag for BokehJS stylesheet: \", url);\n      document.body.appendChild(element);\n    }\n\n    for (let i = 0; i < js_urls.length; i++) {\n      const url = js_urls[i];\n      const element = document.createElement('script');\n      element.onload = on_load;\n      element.onerror = on_error.bind(null, url);\n      element.async = false;\n      element.src = url;\n      console.debug(\"Bokeh: injecting script tag for BokehJS library: \", url);\n      document.head.appendChild(element);\n    }\n  };\n\n  function inject_raw_css(css) {\n    const element = document.createElement(\"style\");\n    element.appendChild(document.createTextNode(css));\n    document.body.appendChild(element);\n  }\n\n  \n  const js_urls = [\"https://cdn.bokeh.org/bokeh/release/bokeh-2.4.2.min.js\", \"https://cdn.bokeh.org/bokeh/release/bokeh-gl-2.4.2.min.js\", \"https://cdn.bokeh.org/bokeh/release/bokeh-widgets-2.4.2.min.js\", \"https://cdn.bokeh.org/bokeh/release/bokeh-tables-2.4.2.min.js\", \"https://cdn.bokeh.org/bokeh/release/bokeh-mathjax-2.4.2.min.js\"];\n  const css_urls = [];\n  \n\n  const inline_js = [\n    function(Bokeh) {\n      Bokeh.set_log_level(\"info\");\n    },\n    function(Bokeh) {\n    \n    \n    }\n  ];\n\n  function run_inline_js() {\n    \n    if (root.Bokeh !== undefined || force === true) {\n      \n    for (let i = 0; i < inline_js.length; i++) {\n      inline_js[i].call(root, root.Bokeh);\n    }\n    if (force === true) {\n        display_loaded();\n      }} else if (Date.now() < root._bokeh_timeout) {\n      setTimeout(run_inline_js, 100);\n    } else if (!root._bokeh_failed_load) {\n      console.log(\"Bokeh: BokehJS failed to load within specified timeout.\");\n      root._bokeh_failed_load = true;\n    } else if (force !== true) {\n      const cell = $(document.getElementById(\"1543\")).parents('.cell').data().cell;\n      cell.output_area.append_execute_result(NB_LOAD_WARNING)\n    }\n\n  }\n\n  if (root._bokeh_is_loading === 0) {\n    console.debug(\"Bokeh: BokehJS loaded, going straight to plotting\");\n    run_inline_js();\n  } else {\n    load_libs(css_urls, js_urls, function() {\n      console.debug(\"Bokeh: BokehJS plotting callback run at\", now());\n      run_inline_js();\n    });\n  }\n}(window));"
     },
     "metadata": {},
     "output_type": "display_data"
    }
   ],
   "source": [
    "from bokeh.plotting import figure, show\n",
    "from bokeh.io import output_notebook\n",
    "\n",
    "output_notebook()\n",
    "\n",
    "def checksol(m, plot=True):\n",
    "    print('')\n",
    "    if m.SolCount > 0:\n",
    "        vals = m.getAttr('x', m._vars)\n",
    "        tours = subtours(vals)\n",
    "        \n",
    "        if len(tours) == 1:\n",
    "            if m.Status == GRB.OPTIMAL:\n",
    "                status = \"Optimal TSP tour\"\n",
    "            else:\n",
    "                status = \"Suboptimal TSP tour\"\n",
    "            output = tours[0]\n",
    "        else:\n",
    "            status = \"%i TSP subtours\" % len(tours)\n",
    "            output = tours\n",
    "        print('%s: %s' % (status, str(output)))\n",
    "        print('Cost: %g' % m.objVal)\n",
    "        if plot:\n",
    "            plotsol(tours, \"%s on %i cities, length=%f\" % (status, n, m.objVal))\n",
    "    else:\n",
    "        print('No solution!')\n",
    "    print('')\n",
    "\n",
    "def plotsol(tours, title=\"\", path=False):\n",
    "    fig = figure(title=title, x_range=[0,100], y_range=[0,100])\n",
    "    x, y = zip(*points)\n",
    "    fig.circle(x, y, size=8)\n",
    "    for tour in tours:\n",
    "        ptseq = [points[k] for k in tour]\n",
    "        if not path:\n",
    "            ptseq.append(ptseq[0])\n",
    "        x, y = zip(*ptseq)\n",
    "        fig.line(x, y)\n",
    "    show(fig)"
   ]
  },
  {
   "cell_type": "markdown",
   "id": "960f27f0",
   "metadata": {
    "slideshow": {
     "slide_type": "slide"
    }
   },
   "source": [
    "## Generate data\n",
    "We create random points on a plane and compute the Euclidean distance:"
   ]
  },
  {
   "cell_type": "code",
   "execution_count": 90,
   "id": "6c6e4223",
   "metadata": {
    "slideshow": {
     "slide_type": "subslide"
    }
   },
   "outputs": [],
   "source": [
    "n = 60\n",
    "\n",
    "random.seed(1)\n",
    "points = [(random.randint(0, 100), random.randint(0, 100)) for i in range(n)]\n",
    "\n",
    "# Dictionary of Euclidean distance between each pair of points\n",
    "dist = {(i, j):\n",
    "        math.sqrt(sum((points[i][k]-points[j][k])**2 for k in range(2)))\n",
    "        for i in range(n) for j in range(i)}"
   ]
  },
  {
   "cell_type": "markdown",
   "id": "f032fc72",
   "metadata": {
    "slideshow": {
     "slide_type": "slide"
    }
   },
   "source": [
    "## Collect runtimes\n",
    "A dictionary and a function to collect runtimes"
   ]
  },
  {
   "cell_type": "code",
   "execution_count": 91,
   "id": "90d26d0f",
   "metadata": {
    "slideshow": {
     "slide_type": "subslide"
    }
   },
   "outputs": [],
   "source": [
    "runtimes = {'methods': [], 'optimal': [], 'firstsol': []}\n",
    "\n",
    "def addruntimes(runtimes, method, model):\n",
    "    # remove old copy, if one exists\n",
    "    try:\n",
    "        i = runtimes['methods'].index(method)\n",
    "        for rt in runtimes.values():\n",
    "            rt.pop(i)\n",
    "    except ValueError:\n",
    "        pass\n",
    "    # add new value\n",
    "    runtimes['methods'].append(method)\n",
    "    runtimes['optimal'].append(model.Runtime)\n",
    "    try:\n",
    "        runtimes['firstsol'].append(model._firstsoltime)\n",
    "    except AttributeError:\n",
    "        runtimes['firstsol'].append(model.Runtime)"
   ]
  },
  {
   "cell_type": "markdown",
   "id": "5bc9a01d",
   "metadata": {
    "slideshow": {
     "slide_type": "slide"
    }
   },
   "source": [
    "## Generate model and solve with basic callback\n",
    "Without any customization, the callback function `tspcb` simply finds subtours and adds constraints to prevent them."
   ]
  },
  {
   "cell_type": "code",
   "execution_count": 94,
   "id": "fb3bace6",
   "metadata": {
    "slideshow": {
     "slide_type": "subslide"
    }
   },
   "outputs": [
    {
     "name": "stdout",
     "output_type": "stream",
     "text": [
      "Set parameter LazyConstraints to value 1\n",
      "Set parameter MIPGap to value 0\n",
      "Set parameter TimeLimit to value 60\n",
      "Set parameter MIPGapAbs to value 5.0765999888398028e-03\n",
      "gapabs: 0.005076599988839803\n",
      "Gurobi Optimizer version 9.5.1 build v9.5.1rc2 (mac64[x86])\n",
      "Thread count: 2 physical cores, 4 logical processors, using up to 4 threads\n",
      "Optimize a model with 60 rows, 1770 columns and 3540 nonzeros\n",
      "Model fingerprint: 0xe22ed164\n",
      "Variable types: 0 continuous, 1770 integer (1770 binary)\n",
      "Coefficient statistics:\n",
      "  Matrix range     [1e+00, 1e+00]\n",
      "  Objective range  [1e+00, 1e+02]\n",
      "  Bounds range     [1e+00, 1e+00]\n",
      "  RHS range        [2e+00, 2e+00]\n",
      "MIPSOL, subtours: [[9, 4, 30], [20, 15, 35, 51, 48, 50], [38, 23, 49, 11, 45, 21, 53], [7, 0, 44, 55, 5, 33, 37, 58, 14, 43, 8, 27, 47, 22, 26, 16, 10, 34, 59, 1, 42, 41, 36, 39, 28, 31, 46, 40, 54, 12, 57, 13, 19, 2, 18, 32, 25, 17, 52, 29, 24, 6, 56, 3]]\n",
      "MIPSOL, subtours len: 4\n",
      "Presolve time: 0.01s\n",
      "Presolved: 60 rows, 1770 columns, 3540 nonzeros\n",
      "Variable types: 0 continuous, 1770 integer (1770 binary)\n",
      "MIPSOL, subtours: [[30, 28, 31, 29], [32, 26, 33, 27], [34, 24, 35, 25], [36, 22, 37, 23], [38, 20, 39, 21], [40, 18, 41, 19], [42, 16, 43, 17], [44, 14, 45, 15], [46, 12, 47, 13], [48, 10, 49, 11], [50, 8, 51, 9], [52, 6, 53, 7], [54, 4, 55, 5], [56, 2, 57, 3], [58, 0, 59, 1]]\n",
      "MIPSOL, subtours len: 15\n",
      "\n",
      "Root relaxation: objective 6.321593e+02, 79 iterations, 0.00 seconds (0.00 work units)\n",
      "\n",
      "    Nodes    |    Current Node    |     Objective Bounds      |     Work\n",
      " Expl Unexpl |  Obj  Depth IntInf | Incumbent    BestBd   Gap | It/Node Time\n",
      "\n",
      "     0     0  632.15925    0    6          -  632.15925      -     -    0s\n",
      "MIPSOL, subtours: [[18, 8, 56], [24, 12, 42], [26, 19, 37], [33, 11, 51], [46, 3, 54], [47, 10, 57], [15, 13, 32, 5, 48, 43, 27, 35, 50, 0, 52, 7, 21, 55, 49, 45, 38, 25, 53, 40, 4, 23, 36, 29, 9, 59, 44, 20, 34, 22, 31, 2, 30, 14, 41, 1, 39, 58, 17, 6, 16, 28]]\n",
      "MIPSOL, subtours len: 7\n",
      "MIPSOL, subtours: [[50, 17, 58, 39], [21, 7, 52, 0, 31, 22, 34, 20, 44, 59, 9, 29, 36, 23, 4, 40, 53, 25, 38, 45, 49, 55], [6, 1, 41, 14, 30, 37, 26, 19, 24, 12, 42, 2, 16, 28, 15, 56, 18, 8, 11, 51, 33, 3, 54, 46, 10, 57, 47, 35, 27, 43, 48, 5, 32, 13]]\n",
      "MIPSOL, subtours len: 3\n",
      "MIPSOL, subtours: [[30, 1, 41], [39, 17, 50], [15, 2, 16, 28], [18, 8, 55, 21, 11, 51, 33, 22, 31, 0, 52, 7, 49, 45, 56], [13, 6, 32, 5, 48, 43, 27, 35, 57, 47, 10, 58, 46, 3, 54, 20, 34, 44, 59, 9, 29, 36, 23, 4, 40, 53, 38, 25, 12, 42, 24, 14, 37, 26, 19]]\n",
      "MIPSOL, subtours len: 5\n",
      "     0     0  663.52012    0   18          -  663.52012      -     -    0s\n",
      "     0     0  664.66091    0   26          -  664.66091      -     -    0s\n",
      "     0     0  665.37508    0   24          -  665.37508      -     -    0s\n",
      "     0     0  665.37508    0   24          -  665.37508      -     -    0s\n",
      "MIPSOL, subtours: [[31, 0, 52], [33, 22, 34, 11, 51], [15, 2, 25, 38, 45, 49, 7, 21, 55, 8, 18, 56, 16, 28], [6, 1, 30, 41, 14, 24, 42, 12, 53, 40, 4, 23, 36, 29, 9, 59, 44, 20, 54, 3, 46, 10, 47, 57, 58, 39, 17, 50, 35, 27, 43, 48, 5, 32, 26, 37, 19, 13]]\n",
      "MIPSOL, subtours len: 4\n",
      "     0     2  665.37508    0   24          -  665.37508      -     -    0s\n",
      "MIPSOL, subtours: [[15, 2, 25, 38, 45, 49, 7, 52, 0, 31, 22, 33, 51, 11, 21, 55, 8, 18, 56, 16, 28], [6, 1, 30, 41, 14, 24, 42, 12, 53, 40, 4, 23, 36, 29, 9, 59, 44, 34, 20, 54, 3, 46, 10, 47, 57, 58, 39, 17, 50, 35, 27, 43, 48, 5, 32, 26, 37, 19, 13]]\n",
      "MIPSOL, subtours len: 2\n",
      "MIPSOL, subtours: [[15, 2, 25, 38, 45, 49, 7, 52, 0, 31, 34, 22, 33, 51, 11, 21, 55, 8, 18, 56, 16, 28], [6, 1, 30, 41, 14, 24, 42, 12, 53, 40, 4, 23, 36, 29, 9, 59, 44, 20, 54, 3, 46, 10, 47, 57, 58, 39, 17, 50, 35, 27, 43, 48, 5, 32, 26, 37, 19, 13]]\n",
      "MIPSOL, subtours len: 2\n",
      "*   15    16               5     673.7521420  667.35092  0.95%   2.9    0s\n",
      "MIPSOL, subtours: [[15, 2, 28], [30, 14, 41], [18, 8, 55, 21, 11, 51, 33, 22, 31, 0, 52, 7, 49, 45, 16, 56], [6, 1, 37, 19, 26, 24, 42, 12, 25, 38, 53, 40, 4, 23, 36, 29, 9, 59, 44, 34, 20, 54, 3, 46, 10, 47, 57, 58, 39, 17, 50, 35, 27, 43, 48, 5, 32, 13]]\n",
      "MIPSOL, subtours len: 4\n",
      "\n",
      "Cutting planes:\n",
      "  Zero half: 6\n",
      "  Lazy constraints: 34\n",
      "\n",
      "Explored 52 nodes (296 simplex iterations) in 0.55 seconds (0.04 work units)\n",
      "Thread count was 4 (of 4 available processors)\n",
      "\n",
      "Solution count 1: 673.752 \n",
      "\n",
      "Optimal solution found (tolerance 0.00e+00)\n",
      "Best objective 6.737521419883e+02, best bound 6.737521419883e+02, gap 0.0000%\n",
      "\n",
      "User-callback calls 376, time in user-callback 0.17 sec\n",
      "\n",
      "Optimal TSP tour: [6, 1, 30, 41, 14, 24, 42, 12, 25, 2, 15, 28, 16, 56, 18, 8, 55, 21, 11, 51, 33, 22, 31, 0, 52, 7, 49, 45, 38, 53, 40, 4, 23, 36, 29, 9, 59, 44, 34, 20, 54, 3, 46, 10, 47, 57, 58, 39, 17, 50, 35, 27, 43, 48, 5, 32, 26, 37, 19, 13]\n",
      "Cost: 673.752\n"
     ]
    },
    {
     "data": {
      "text/html": [
       "\n",
       "\n",
       "\n",
       "\n",
       "\n",
       "\n",
       "  <div class=\"bk-root\" id=\"52613ca2-536e-4755-810b-e89190336daf\" data-root-id=\"15753\"></div>\n"
      ]
     },
     "metadata": {},
     "output_type": "display_data"
    },
    {
     "data": {
      "application/javascript": [
       "(function(root) {\n",
       "  function embed_document(root) {\n",
       "    \n",
       "  const docs_json = {\"88eb63bd-8838-4e49-aefb-cf16419c8952\":{\"defs\":[],\"roots\":{\"references\":[{\"attributes\":{\"below\":[{\"id\":\"15764\"}],\"center\":[{\"id\":\"15767\"},{\"id\":\"15771\"}],\"left\":[{\"id\":\"15768\"}],\"renderers\":[{\"id\":\"15790\"},{\"id\":\"15796\"}],\"title\":{\"id\":\"15754\"},\"toolbar\":{\"id\":\"15779\"},\"x_range\":{\"id\":\"15756\"},\"x_scale\":{\"id\":\"15760\"},\"y_range\":{\"id\":\"15758\"},\"y_scale\":{\"id\":\"15762\"}},\"id\":\"15753\",\"subtype\":\"Figure\",\"type\":\"Plot\"},{\"attributes\":{\"fill_alpha\":{\"value\":0.1},\"fill_color\":{\"value\":\"#1f77b4\"},\"hatch_alpha\":{\"value\":0.1},\"line_alpha\":{\"value\":0.1},\"line_color\":{\"value\":\"#1f77b4\"},\"size\":{\"value\":8},\"x\":{\"field\":\"x\"},\"y\":{\"field\":\"y\"}},\"id\":\"15788\",\"type\":\"Circle\"},{\"attributes\":{\"data\":{\"x\":[100,97,82,75,75,70,61,57,44,32,40,37,2,5,1,3,3,3,0,13,15,28,23,17,20,12,11,22,38,50,64,57,56,54,53,55,50,53,42,54,62,63,70,97,99,90,75,75,83,84,91,97,95,94,83,92,86,85,87,92,100],\"y\":[26,8,12,4,13,29,31,34,29,15,3,2,3,39,48,49,60,67,89,99,95,97,80,72,66,62,56,46,36,47,50,60,63,64,71,77,82,85,92,92,93,97,89,98,86,78,74,63,69,65,64,58,51,47,48,37,28,24,27,29,26]},\"selected\":{\"id\":\"16300\"},\"selection_policy\":{\"id\":\"16299\"}},\"id\":\"15792\",\"type\":\"ColumnDataSource\"},{\"attributes\":{},\"id\":\"16298\",\"type\":\"Selection\"},{\"attributes\":{},\"id\":\"16300\",\"type\":\"Selection\"},{\"attributes\":{\"tools\":[{\"id\":\"15772\"},{\"id\":\"15773\"},{\"id\":\"15774\"},{\"id\":\"15775\"},{\"id\":\"15776\"},{\"id\":\"15777\"}]},\"id\":\"15779\",\"type\":\"Toolbar\"},{\"attributes\":{\"coordinates\":null,\"formatter\":{\"id\":\"16292\"},\"group\":null,\"major_label_policy\":{\"id\":\"16293\"},\"ticker\":{\"id\":\"15769\"}},\"id\":\"15768\",\"type\":\"LinearAxis\"},{\"attributes\":{},\"id\":\"15777\",\"type\":\"HelpTool\"},{\"attributes\":{\"coordinates\":null,\"formatter\":{\"id\":\"16295\"},\"group\":null,\"major_label_policy\":{\"id\":\"16296\"},\"ticker\":{\"id\":\"15765\"}},\"id\":\"15764\",\"type\":\"LinearAxis\"},{\"attributes\":{},\"id\":\"16297\",\"type\":\"UnionRenderers\"},{\"attributes\":{},\"id\":\"16292\",\"type\":\"BasicTickFormatter\"},{\"attributes\":{\"axis\":{\"id\":\"15768\"},\"coordinates\":null,\"dimension\":1,\"group\":null,\"ticker\":null},\"id\":\"15771\",\"type\":\"Grid\"},{\"attributes\":{},\"id\":\"15760\",\"type\":\"LinearScale\"},{\"attributes\":{\"line_alpha\":0.1,\"line_color\":\"#1f77b4\",\"x\":{\"field\":\"x\"},\"y\":{\"field\":\"y\"}},\"id\":\"15794\",\"type\":\"Line\"},{\"attributes\":{\"line_color\":\"#1f77b4\",\"x\":{\"field\":\"x\"},\"y\":{\"field\":\"y\"}},\"id\":\"15793\",\"type\":\"Line\"},{\"attributes\":{},\"id\":\"15776\",\"type\":\"ResetTool\"},{\"attributes\":{\"source\":{\"id\":\"15792\"}},\"id\":\"15797\",\"type\":\"CDSView\"},{\"attributes\":{\"overlay\":{\"id\":\"15778\"}},\"id\":\"15774\",\"type\":\"BoxZoomTool\"},{\"attributes\":{\"fill_alpha\":{\"value\":0.2},\"fill_color\":{\"value\":\"#1f77b4\"},\"hatch_alpha\":{\"value\":0.2},\"line_alpha\":{\"value\":0.2},\"line_color\":{\"value\":\"#1f77b4\"},\"size\":{\"value\":8},\"x\":{\"field\":\"x\"},\"y\":{\"field\":\"y\"}},\"id\":\"15789\",\"type\":\"Circle\"},{\"attributes\":{},\"id\":\"15773\",\"type\":\"WheelZoomTool\"},{\"attributes\":{\"coordinates\":null,\"data_source\":{\"id\":\"15786\"},\"glyph\":{\"id\":\"15787\"},\"group\":null,\"hover_glyph\":null,\"muted_glyph\":{\"id\":\"15789\"},\"nonselection_glyph\":{\"id\":\"15788\"},\"view\":{\"id\":\"15791\"}},\"id\":\"15790\",\"type\":\"GlyphRenderer\"},{\"attributes\":{},\"id\":\"15775\",\"type\":\"SaveTool\"},{\"attributes\":{\"end\":100},\"id\":\"15756\",\"type\":\"Range1d\"},{\"attributes\":{},\"id\":\"16296\",\"type\":\"AllLabels\"},{\"attributes\":{\"data\":{\"x\":[17,97,32,63,57,83,100,12,3,55,97,0,57,92,75,40,2,83,1,87,54,3,28,56,70,44,86,97,37,53,82,23,92,15,42,91,54,85,38,75,64,75,61,95,53,22,70,99,94,11,84,13,20,50,62,3,5,90,75,50],\"y\":[72,8,15,97,60,48,26,62,49,77,98,89,34,29,13,3,3,69,48,27,92,67,97,63,29,29,28,58,2,71,12,80,37,95,92,64,64,24,36,63,50,4,31,51,85,46,89,86,47,56,65,99,66,47,93,60,39,78,74,82]},\"selected\":{\"id\":\"16298\"},\"selection_policy\":{\"id\":\"16297\"}},\"id\":\"15786\",\"type\":\"ColumnDataSource\"},{\"attributes\":{},\"id\":\"15772\",\"type\":\"PanTool\"},{\"attributes\":{\"fill_color\":{\"value\":\"#1f77b4\"},\"line_color\":{\"value\":\"#1f77b4\"},\"size\":{\"value\":8},\"x\":{\"field\":\"x\"},\"y\":{\"field\":\"y\"}},\"id\":\"15787\",\"type\":\"Circle\"},{\"attributes\":{},\"id\":\"15765\",\"type\":\"BasicTicker\"},{\"attributes\":{\"end\":100},\"id\":\"15758\",\"type\":\"Range1d\"},{\"attributes\":{},\"id\":\"16299\",\"type\":\"UnionRenderers\"},{\"attributes\":{},\"id\":\"16295\",\"type\":\"BasicTickFormatter\"},{\"attributes\":{},\"id\":\"15769\",\"type\":\"BasicTicker\"},{\"attributes\":{\"coordinates\":null,\"data_source\":{\"id\":\"15792\"},\"glyph\":{\"id\":\"15793\"},\"group\":null,\"hover_glyph\":null,\"muted_glyph\":{\"id\":\"15795\"},\"nonselection_glyph\":{\"id\":\"15794\"},\"view\":{\"id\":\"15797\"}},\"id\":\"15796\",\"type\":\"GlyphRenderer\"},{\"attributes\":{\"coordinates\":null,\"group\":null,\"text\":\"Optimal TSP tour on 60 cities, length=673.752142\"},\"id\":\"15754\",\"type\":\"Title\"},{\"attributes\":{},\"id\":\"15762\",\"type\":\"LinearScale\"},{\"attributes\":{\"bottom_units\":\"screen\",\"coordinates\":null,\"fill_alpha\":0.5,\"fill_color\":\"lightgrey\",\"group\":null,\"left_units\":\"screen\",\"level\":\"overlay\",\"line_alpha\":1.0,\"line_color\":\"black\",\"line_dash\":[4,4],\"line_width\":2,\"right_units\":\"screen\",\"syncable\":false,\"top_units\":\"screen\"},\"id\":\"15778\",\"type\":\"BoxAnnotation\"},{\"attributes\":{\"line_alpha\":0.2,\"line_color\":\"#1f77b4\",\"x\":{\"field\":\"x\"},\"y\":{\"field\":\"y\"}},\"id\":\"15795\",\"type\":\"Line\"},{\"attributes\":{\"source\":{\"id\":\"15786\"}},\"id\":\"15791\",\"type\":\"CDSView\"},{\"attributes\":{},\"id\":\"16293\",\"type\":\"AllLabels\"},{\"attributes\":{\"axis\":{\"id\":\"15764\"},\"coordinates\":null,\"group\":null,\"ticker\":null},\"id\":\"15767\",\"type\":\"Grid\"}],\"root_ids\":[\"15753\"]},\"title\":\"Bokeh Application\",\"version\":\"2.4.2\"}};\n",
       "  const render_items = [{\"docid\":\"88eb63bd-8838-4e49-aefb-cf16419c8952\",\"root_ids\":[\"15753\"],\"roots\":{\"15753\":\"52613ca2-536e-4755-810b-e89190336daf\"}}];\n",
       "  root.Bokeh.embed.embed_items_notebook(docs_json, render_items);\n",
       "\n",
       "  }\n",
       "  if (root.Bokeh !== undefined) {\n",
       "    embed_document(root);\n",
       "  } else {\n",
       "    let attempts = 0;\n",
       "    const timer = setInterval(function(root) {\n",
       "      if (root.Bokeh !== undefined) {\n",
       "        clearInterval(timer);\n",
       "        embed_document(root);\n",
       "      } else {\n",
       "        attempts++;\n",
       "        if (attempts > 100) {\n",
       "          clearInterval(timer);\n",
       "          console.log(\"Bokeh: ERROR: Unable to run BokehJS code because BokehJS library is missing\");\n",
       "        }\n",
       "      }\n",
       "    }, 10, root)\n",
       "  }\n",
       "})(window);"
      ],
      "application/vnd.bokehjs_exec.v0+json": ""
     },
     "metadata": {
      "application/vnd.bokehjs_exec.v0+json": {
       "id": "15753"
      }
     },
     "output_type": "display_data"
    },
    {
     "name": "stdout",
     "output_type": "stream",
     "text": [
      "\n"
     ]
    }
   ],
   "source": [
    "m = tspmip(n, dist)\n",
    "m.optimize(tspcb())\n",
    "checksol(m)\n",
    "addruntimes(runtimes, 'noheur', m)"
   ]
  },
  {
   "cell_type": "markdown",
   "id": "073c7483",
   "metadata": {
    "slideshow": {
     "slide_type": "slide"
    }
   },
   "source": [
    "## Heuristic Code\n",
    "A Python class that computes some standard TSP heuristics:\n",
    "\n",
    "1. Greedy node insertion\n",
    "1. Subtour node patching\n",
    "1. Solution improvement via swapping\n",
    "\n",
    "In both the greedy and patch heuristics, we use Python aggreate [min](https://docs.python.org/3/library/functions.html#min) functions with a key function so that we can obtain the argmin value. The key is specified as a [lambda function](https://docs.python.org/3/reference/expressions.html#lambda) so that we don't need to define a named function."
   ]
  },
  {
   "cell_type": "code",
   "execution_count": 95,
   "id": "3852ba07",
   "metadata": {
    "slideshow": {
     "slide_type": "subslide"
    }
   },
   "outputs": [],
   "source": [
    "class pytsp:\n",
    "    def __init__(self, n, dist, logging=False):\n",
    "        self.n = n\n",
    "        self.dist = dist\n",
    "        self.logging = logging\n",
    "    \n",
    "    # Construct a heuristic tour via greedy insertion\n",
    "    def greedy(self, dist=None, sense=1):\n",
    "        if not dist:\n",
    "            dist = self.dist\n",
    "        unexplored = list(range(n))\n",
    "        tour = []\n",
    "        prev = 0\n",
    "        while unexplored:\n",
    "            best = min((i for i in unexplored if i != prev), key=lambda k: sense*dist[prev,k])\n",
    "            tour.append(best)\n",
    "            unexplored.remove(best)\n",
    "            prev = best\n",
    "        if self.logging:\n",
    "            print(\"**** greedy heuristic tour=%f, obj=%f, tour: %s\" % (\n",
    "                tourcost(self.dist, tour), tourcost(dist, tour), tour))\n",
    "        return tour\n",
    "\n",
    "    # Construct a heuristic tour via Karp patching method from subtours\n",
    "    def patch(self, subtours):\n",
    "        if self.logging:\n",
    "            print(\"**** patching %i subtours\" % len(subtours))\n",
    "        tours = list(subtours) # copy object to avoid destroying it\n",
    "        while len(tours) > 1:\n",
    "            # t1,t2 are tours to merge\n",
    "            # k1,k2 are positions to merge in the tours\n",
    "            # d is the direction - forwards or backwards\n",
    "            t2 = tours.pop()\n",
    "            # Find best merge\n",
    "            j1, k1, k2, d, obj = min(((j1,k1,k2,d,\n",
    "                                        self.dist[tours[j1][k1-1],  t2[k2-d]]      +\n",
    "                                        self.dist[tours[j1][k1],    t2[k2-1+d]]    -\n",
    "                                        self.dist[tours[j1][k1-1],  tours[j1][k1]] -\n",
    "                                        self.dist[t2[k2-1],         t2[k2]])\n",
    "                                      for j1 in range(len(tours))\n",
    "                                      for k1 in range(len(tours[j1]))\n",
    "                                      for k2 in range(len(t2))\n",
    "                                      for d in range(2)), # d=0 is forward, d=1 is reverse\n",
    "                                    key=lambda x: x[-1])\n",
    "            t1 = tours[j1]\n",
    "            k1 += 1 # include the position\n",
    "            k2 += 1\n",
    "            if d == 0: # forward\n",
    "                tour = t1[:k1]+t2[k2:]+t2[:k2]+t1[k1:]\n",
    "            else: # reverse\n",
    "                tour = t1[:k1]+list(reversed(t2[:k2]))+list(reversed(t2[k2:]))+t1[k1:]\n",
    "            tours[j1] = tour # replace j1 with new merge\n",
    "        if self.logging:\n",
    "            print(\"**** patched tour=%f\" % tourcost(self.dist, tour))\n",
    "        return tours[0]\n",
    "    \n",
    "    # Improve a tour via swapping\n",
    "    # This is simple - just do 2-opt\n",
    "    def swap(self, tour):\n",
    "        if self.logging:\n",
    "            beforecost = tourcost(self.dist, tour)\n",
    "        \n",
    "        for j1 in range(len(tour)):\n",
    "            for j2 in range(j1+1, len(tour)):\n",
    "                if self.dist[tour[j1-1],tour[j1]]+self.dist[tour[j2-1],tour[j2]] > \\\n",
    "                   self.dist[tour[j1-1],tour[j2-1]]+self.dist[tour[j1],tour[j2]]:\n",
    "                    # swap\n",
    "                    # print(f\"swap {j1}, {j2}\")\n",
    "                    tour = tour[:j1] + list(reversed(tour[j1:j2])) + tour[j2:]\n",
    "                \n",
    "        if self.logging:\n",
    "            print(\"**** swapping: before=%f after=%f\" % (beforecost, tourcost(self.dist, tour)))\n",
    "        return tour"
   ]
  },
  {
   "cell_type": "markdown",
   "id": "f29ea6cb",
   "metadata": {
    "slideshow": {
     "slide_type": "slide"
    }
   },
   "source": [
    "## Try swap heuristic\n",
    "When a tour has been discovered in the MIP, call the swap heuristic to try and improve it."
   ]
  },
  {
   "cell_type": "markdown",
   "id": "ec5dbe54",
   "metadata": {
    "slideshow": {
     "slide_type": "slide"
    }
   },
   "source": [
    "### Callback for swap heuristic\n",
    "Since the base callback injects a tour at a MIP node, this should be called at a MIP node."
   ]
  },
  {
   "cell_type": "code",
   "execution_count": 85,
   "id": "35615eaf",
   "metadata": {
    "slideshow": {
     "slide_type": "subslide"
    }
   },
   "outputs": [],
   "source": [
    "def swapcb(model, where):\n",
    "    if where == GRB.Callback.MIPNODE:\n",
    "        pt = pytsp(model._n, model._dist)\n",
    "        for k in range(len(model._tours)):\n",
    "            model._tours[k] = pt.swap(model._tours[k])"
   ]
  },
  {
   "cell_type": "markdown",
   "id": "5991753e",
   "metadata": {
    "slideshow": {
     "slide_type": "slide"
    }
   },
   "source": [
    "### Solve the TSP with the swap heuristic\n",
    "By itself, this should be no faster at finding the first solution, but it may reduce the time to optimality."
   ]
  },
  {
   "cell_type": "code",
   "execution_count": 70,
   "id": "ced1eefd",
   "metadata": {
    "slideshow": {
     "slide_type": "subslide"
    }
   },
   "outputs": [
    {
     "name": "stdout",
     "output_type": "stream",
     "text": [
      "Set parameter LazyConstraints to value 1\n",
      "Set parameter MIPGap to value 0\n",
      "Set parameter TimeLimit to value 60\n",
      "Set parameter MIPGapAbs to value 5.0765999888398028e-03\n",
      "gapabs: 0.005076599988839803\n",
      "Gurobi Optimizer version 9.5.1 build v9.5.1rc2 (mac64[x86])\n",
      "Thread count: 2 physical cores, 4 logical processors, using up to 4 threads\n",
      "Optimize a model with 60 rows, 1770 columns and 3540 nonzeros\n",
      "Model fingerprint: 0xe22ed164\n",
      "Variable types: 0 continuous, 1770 integer (1770 binary)\n",
      "Coefficient statistics:\n",
      "  Matrix range     [1e+00, 1e+00]\n",
      "  Objective range  [1e+00, 1e+02]\n",
      "  Bounds range     [1e+00, 1e+00]\n",
      "  RHS range        [2e+00, 2e+00]\n",
      "MIPSOL, subtours: [[9, 4, 30], [20, 15, 35, 51, 48, 50], [38, 23, 49, 11, 45, 21, 53], [7, 0, 44, 55, 5, 33, 37, 58, 14, 43, 8, 27, 47, 22, 26, 16, 10, 34, 59, 1, 42, 41, 36, 39, 28, 31, 46, 40, 54, 12, 57, 13, 19, 2, 18, 32, 25, 17, 52, 29, 24, 6, 56, 3]]\n",
      "MIPSOL, subtours len: 4\n",
      "Presolve time: 0.01s\n",
      "Presolved: 60 rows, 1770 columns, 3540 nonzeros\n",
      "Variable types: 0 continuous, 1770 integer (1770 binary)\n",
      "MIPSOL, subtours: [[30, 28, 31, 29], [32, 26, 33, 27], [34, 24, 35, 25], [36, 22, 37, 23], [38, 20, 39, 21], [40, 18, 41, 19], [42, 16, 43, 17], [44, 14, 45, 15], [46, 12, 47, 13], [48, 10, 49, 11], [50, 8, 51, 9], [52, 6, 53, 7], [54, 4, 55, 5], [56, 2, 57, 3], [58, 0, 59, 1]]\n",
      "MIPSOL, subtours len: 15\n",
      "\n",
      "Root relaxation: objective 6.321593e+02, 79 iterations, 0.00 seconds (0.00 work units)\n",
      "\n",
      "    Nodes    |    Current Node    |     Objective Bounds      |     Work\n",
      " Expl Unexpl |  Obj  Depth IntInf | Incumbent    BestBd   Gap | It/Node Time\n",
      "\n",
      "     0     0  632.15925    0    6          -  632.15925      -     -    0s\n",
      "MIPSOL, subtours: [[18, 8, 56], [24, 12, 42], [26, 19, 37], [33, 11, 51], [46, 3, 54], [47, 10, 57], [15, 13, 32, 5, 48, 43, 27, 35, 50, 0, 52, 7, 21, 55, 49, 45, 38, 25, 53, 40, 4, 23, 36, 29, 9, 59, 44, 20, 34, 22, 31, 2, 30, 14, 41, 1, 39, 58, 17, 6, 16, 28]]\n",
      "MIPSOL, subtours len: 7\n",
      "MIPSOL, subtours: [[50, 17, 58, 39], [21, 7, 52, 0, 31, 22, 34, 20, 44, 59, 9, 29, 36, 23, 4, 40, 53, 25, 38, 45, 49, 55], [6, 1, 41, 14, 30, 37, 26, 19, 24, 12, 42, 2, 16, 28, 15, 56, 18, 8, 11, 51, 33, 3, 54, 46, 10, 57, 47, 35, 27, 43, 48, 5, 32, 13]]\n",
      "MIPSOL, subtours len: 3\n",
      "MIPSOL, subtours: [[30, 1, 41], [39, 17, 50], [15, 2, 16, 28], [18, 8, 55, 21, 11, 51, 33, 22, 31, 0, 52, 7, 49, 45, 56], [13, 6, 32, 5, 48, 43, 27, 35, 57, 47, 10, 58, 46, 3, 54, 20, 34, 44, 59, 9, 29, 36, 23, 4, 40, 53, 38, 25, 12, 42, 24, 14, 37, 26, 19]]\n",
      "MIPSOL, subtours len: 5\n",
      "MIPNODE, len(tours): 0\n",
      "     0     0  663.52012    0   18          -  663.52012      -     -    0s\n",
      "MIPNODE, len(tours): 0\n",
      "     0     0  664.66091    0   26          -  664.66091      -     -    0s\n",
      "MIPNODE, len(tours): 0\n",
      "     0     0  665.37508    0   24          -  665.37508      -     -    0s\n",
      "MIPNODE, len(tours): 0\n",
      "     0     0  665.37508    0   24          -  665.37508      -     -    0s\n",
      "MIPNODE, len(tours): 0\n",
      "MIPSOL, subtours: [[31, 0, 52], [33, 22, 34, 11, 51], [15, 2, 25, 38, 45, 49, 7, 21, 55, 8, 18, 56, 16, 28], [6, 1, 30, 41, 14, 24, 42, 12, 53, 40, 4, 23, 36, 29, 9, 59, 44, 20, 54, 3, 46, 10, 47, 57, 58, 39, 17, 50, 35, 27, 43, 48, 5, 32, 26, 37, 19, 13]]\n",
      "MIPSOL, subtours len: 4\n",
      "MIPNODE, len(tours): 0\n",
      "     0     2  665.37508    0   24          -  665.37508      -     -    0s\n",
      "MIPNODE, len(tours): 0\n",
      "MIPNODE, len(tours): 0\n",
      "MIPNODE, len(tours): 0\n",
      "MIPNODE, len(tours): 0\n",
      "MIPNODE, len(tours): 0\n",
      "MIPSOL, subtours: [[15, 2, 25, 38, 45, 49, 7, 52, 0, 31, 22, 33, 51, 11, 21, 55, 8, 18, 56, 16, 28], [6, 1, 30, 41, 14, 24, 42, 12, 53, 40, 4, 23, 36, 29, 9, 59, 44, 34, 20, 54, 3, 46, 10, 47, 57, 58, 39, 17, 50, 35, 27, 43, 48, 5, 32, 26, 37, 19, 13]]\n",
      "MIPSOL, subtours len: 2\n",
      "MIPNODE, len(tours): 0\n",
      "MIPNODE, len(tours): 0\n",
      "MIPSOL, subtours: [[15, 2, 25, 38, 45, 49, 7, 52, 0, 31, 34, 22, 33, 51, 11, 21, 55, 8, 18, 56, 16, 28], [6, 1, 30, 41, 14, 24, 42, 12, 53, 40, 4, 23, 36, 29, 9, 59, 44, 20, 54, 3, 46, 10, 47, 57, 58, 39, 17, 50, 35, 27, 43, 48, 5, 32, 26, 37, 19, 13]]\n",
      "MIPSOL, subtours len: 2\n",
      "MIPNODE, len(tours): 0\n",
      "MIPNODE, len(tours): 0\n",
      "MIPNODE, len(tours): 0\n",
      "MIPNODE, len(tours): 0\n",
      "MIPNODE, len(tours): 0\n",
      "MIPNODE, len(tours): 0\n",
      "MIPNODE, len(tours): 0\n",
      "MIPNODE, len(tours): 0\n",
      "*   15    16               5     673.7521420  667.35092  0.95%   2.9    0s\n",
      "MIPNODE, len(tours): 1\n",
      "MIPNODE, len(tours): 0\n",
      "MIPNODE, len(tours): 0\n",
      "MIPNODE, len(tours): 0\n",
      "MIPNODE, len(tours): 0\n",
      "MIPNODE, len(tours): 0\n",
      "MIPNODE, len(tours): 0\n",
      "MIPNODE, len(tours): 0\n",
      "MIPNODE, len(tours): 0\n",
      "MIPNODE, len(tours): 0\n",
      "MIPSOL, subtours: [[15, 2, 28], [30, 14, 41], [18, 8, 55, 21, 11, 51, 33, 22, 31, 0, 52, 7, 49, 45, 16, 56], [6, 1, 37, 19, 26, 24, 42, 12, 25, 38, 53, 40, 4, 23, 36, 29, 9, 59, 44, 34, 20, 54, 3, 46, 10, 47, 57, 58, 39, 17, 50, 35, 27, 43, 48, 5, 32, 13]]\n",
      "MIPSOL, subtours len: 4\n",
      "MIPNODE, len(tours): 0\n",
      "MIPNODE, len(tours): 0\n",
      "MIPNODE, len(tours): 0\n",
      "MIPNODE, len(tours): 0\n",
      "MIPNODE, len(tours): 0\n",
      "MIPNODE, len(tours): 0\n",
      "MIPNODE, len(tours): 0\n",
      "MIPNODE, len(tours): 0\n",
      "MIPNODE, len(tours): 0\n",
      "MIPNODE, len(tours): 0\n",
      "MIPNODE, len(tours): 0\n",
      "MIPNODE, len(tours): 0\n",
      "MIPNODE, len(tours): 0\n",
      "MIPNODE, len(tours): 0\n",
      "MIPNODE, len(tours): 0\n",
      "MIPNODE, len(tours): 0\n",
      "MIPNODE, len(tours): 0\n",
      "MIPNODE, len(tours): 0\n",
      "MIPNODE, len(tours): 0\n",
      "MIPNODE, len(tours): 0\n",
      "MIPNODE, len(tours): 0\n",
      "MIPNODE, len(tours): 0\n",
      "MIPNODE, len(tours): 0\n",
      "MIPNODE, len(tours): 0\n",
      "MIPNODE, len(tours): 0\n",
      "MIPNODE, len(tours): 0\n",
      "\n",
      "Cutting planes:\n",
      "  Zero half: 6\n",
      "  Lazy constraints: 34\n",
      "\n",
      "Explored 52 nodes (296 simplex iterations) in 0.70 seconds (0.04 work units)\n",
      "Thread count was 4 (of 4 available processors)\n",
      "\n",
      "Solution count 1: 673.752 \n",
      "\n",
      "Optimal solution found (tolerance 0.00e+00)\n",
      "Best objective 6.737521419883e+02, best bound 6.737521419883e+02, gap 0.0000%\n",
      "\n",
      "User-callback calls 377, time in user-callback 0.27 sec\n",
      "\n",
      "Optimal TSP tour: [6, 1, 30, 41, 14, 24, 42, 12, 25, 2, 15, 28, 16, 56, 18, 8, 55, 21, 11, 51, 33, 22, 31, 0, 52, 7, 49, 45, 38, 53, 40, 4, 23, 36, 29, 9, 59, 44, 34, 20, 54, 3, 46, 10, 47, 57, 58, 39, 17, 50, 35, 27, 43, 48, 5, 32, 26, 37, 19, 13]\n",
      "Cost: 673.752\n"
     ]
    },
    {
     "data": {
      "text/html": [
       "\n",
       "\n",
       "\n",
       "\n",
       "\n",
       "\n",
       "  <div class=\"bk-root\" id=\"5cfaa58f-a2ea-43f4-924e-2f78b0e89eb5\" data-root-id=\"9762\"></div>\n"
      ]
     },
     "metadata": {},
     "output_type": "display_data"
    },
    {
     "data": {
      "application/javascript": [
       "(function(root) {\n",
       "  function embed_document(root) {\n",
       "    \n",
       "  const docs_json = {\"595a0c0d-34b0-4747-a426-bec498275836\":{\"defs\":[],\"roots\":{\"references\":[{\"attributes\":{\"below\":[{\"id\":\"9773\"}],\"center\":[{\"id\":\"9776\"},{\"id\":\"9780\"}],\"left\":[{\"id\":\"9777\"}],\"renderers\":[{\"id\":\"9799\"},{\"id\":\"9805\"}],\"title\":{\"id\":\"9763\"},\"toolbar\":{\"id\":\"9788\"},\"x_range\":{\"id\":\"9765\"},\"x_scale\":{\"id\":\"9769\"},\"y_range\":{\"id\":\"9767\"},\"y_scale\":{\"id\":\"9771\"}},\"id\":\"9762\",\"subtype\":\"Figure\",\"type\":\"Plot\"},{\"attributes\":{\"tools\":[{\"id\":\"9781\"},{\"id\":\"9782\"},{\"id\":\"9783\"},{\"id\":\"9784\"},{\"id\":\"9785\"},{\"id\":\"9786\"}]},\"id\":\"9788\",\"type\":\"Toolbar\"},{\"attributes\":{\"coordinates\":null,\"data_source\":{\"id\":\"9801\"},\"glyph\":{\"id\":\"9802\"},\"group\":null,\"hover_glyph\":null,\"muted_glyph\":{\"id\":\"9804\"},\"nonselection_glyph\":{\"id\":\"9803\"},\"view\":{\"id\":\"9806\"}},\"id\":\"9805\",\"type\":\"GlyphRenderer\"},{\"attributes\":{},\"id\":\"10169\",\"type\":\"BasicTickFormatter\"},{\"attributes\":{},\"id\":\"10172\",\"type\":\"BasicTickFormatter\"},{\"attributes\":{},\"id\":\"9781\",\"type\":\"PanTool\"},{\"attributes\":{\"fill_alpha\":{\"value\":0.1},\"fill_color\":{\"value\":\"#1f77b4\"},\"hatch_alpha\":{\"value\":0.1},\"line_alpha\":{\"value\":0.1},\"line_color\":{\"value\":\"#1f77b4\"},\"size\":{\"value\":8},\"x\":{\"field\":\"x\"},\"y\":{\"field\":\"y\"}},\"id\":\"9797\",\"type\":\"Circle\"},{\"attributes\":{},\"id\":\"10170\",\"type\":\"AllLabels\"},{\"attributes\":{},\"id\":\"10173\",\"type\":\"AllLabels\"},{\"attributes\":{\"coordinates\":null,\"group\":null,\"text\":\"Optimal TSP tour on 60 cities, length=673.752142\"},\"id\":\"9763\",\"type\":\"Title\"},{\"attributes\":{\"data\":{\"x\":[17,97,32,63,57,83,100,12,3,55,97,0,57,92,75,40,2,83,1,87,54,3,28,56,70,44,86,97,37,53,82,23,92,15,42,91,54,85,38,75,64,75,61,95,53,22,70,99,94,11,84,13,20,50,62,3,5,90,75,50],\"y\":[72,8,15,97,60,48,26,62,49,77,98,89,34,29,13,3,3,69,48,27,92,67,97,63,29,29,28,58,2,71,12,80,37,95,92,64,64,24,36,63,50,4,31,51,85,46,89,86,47,56,65,99,66,47,93,60,39,78,74,82]},\"selected\":{\"id\":\"10175\"},\"selection_policy\":{\"id\":\"10174\"}},\"id\":\"9795\",\"type\":\"ColumnDataSource\"},{\"attributes\":{},\"id\":\"9771\",\"type\":\"LinearScale\"},{\"attributes\":{},\"id\":\"10176\",\"type\":\"UnionRenderers\"},{\"attributes\":{},\"id\":\"10177\",\"type\":\"Selection\"},{\"attributes\":{\"end\":100},\"id\":\"9765\",\"type\":\"Range1d\"},{\"attributes\":{\"line_color\":\"#1f77b4\",\"x\":{\"field\":\"x\"},\"y\":{\"field\":\"y\"}},\"id\":\"9802\",\"type\":\"Line\"},{\"attributes\":{\"line_alpha\":0.2,\"line_color\":\"#1f77b4\",\"x\":{\"field\":\"x\"},\"y\":{\"field\":\"y\"}},\"id\":\"9804\",\"type\":\"Line\"},{\"attributes\":{},\"id\":\"10174\",\"type\":\"UnionRenderers\"},{\"attributes\":{},\"id\":\"9782\",\"type\":\"WheelZoomTool\"},{\"attributes\":{\"source\":{\"id\":\"9801\"}},\"id\":\"9806\",\"type\":\"CDSView\"},{\"attributes\":{\"fill_color\":{\"value\":\"#1f77b4\"},\"line_color\":{\"value\":\"#1f77b4\"},\"size\":{\"value\":8},\"x\":{\"field\":\"x\"},\"y\":{\"field\":\"y\"}},\"id\":\"9796\",\"type\":\"Circle\"},{\"attributes\":{\"line_alpha\":0.1,\"line_color\":\"#1f77b4\",\"x\":{\"field\":\"x\"},\"y\":{\"field\":\"y\"}},\"id\":\"9803\",\"type\":\"Line\"},{\"attributes\":{},\"id\":\"9778\",\"type\":\"BasicTicker\"},{\"attributes\":{},\"id\":\"10175\",\"type\":\"Selection\"},{\"attributes\":{},\"id\":\"9769\",\"type\":\"LinearScale\"},{\"attributes\":{\"axis\":{\"id\":\"9777\"},\"coordinates\":null,\"dimension\":1,\"group\":null,\"ticker\":null},\"id\":\"9780\",\"type\":\"Grid\"},{\"attributes\":{\"fill_alpha\":{\"value\":0.2},\"fill_color\":{\"value\":\"#1f77b4\"},\"hatch_alpha\":{\"value\":0.2},\"line_alpha\":{\"value\":0.2},\"line_color\":{\"value\":\"#1f77b4\"},\"size\":{\"value\":8},\"x\":{\"field\":\"x\"},\"y\":{\"field\":\"y\"}},\"id\":\"9798\",\"type\":\"Circle\"},{\"attributes\":{\"overlay\":{\"id\":\"9787\"}},\"id\":\"9783\",\"type\":\"BoxZoomTool\"},{\"attributes\":{},\"id\":\"9786\",\"type\":\"HelpTool\"},{\"attributes\":{\"axis\":{\"id\":\"9773\"},\"coordinates\":null,\"group\":null,\"ticker\":null},\"id\":\"9776\",\"type\":\"Grid\"},{\"attributes\":{\"coordinates\":null,\"data_source\":{\"id\":\"9795\"},\"glyph\":{\"id\":\"9796\"},\"group\":null,\"hover_glyph\":null,\"muted_glyph\":{\"id\":\"9798\"},\"nonselection_glyph\":{\"id\":\"9797\"},\"view\":{\"id\":\"9800\"}},\"id\":\"9799\",\"type\":\"GlyphRenderer\"},{\"attributes\":{\"data\":{\"x\":[100,97,82,75,75,70,61,57,44,32,40,37,2,5,1,3,3,3,0,13,15,28,23,17,20,12,11,22,38,50,64,57,56,54,53,55,50,53,42,54,62,63,70,97,99,90,75,75,83,84,91,97,95,94,83,92,86,85,87,92,100],\"y\":[26,8,12,4,13,29,31,34,29,15,3,2,3,39,48,49,60,67,89,99,95,97,80,72,66,62,56,46,36,47,50,60,63,64,71,77,82,85,92,92,93,97,89,98,86,78,74,63,69,65,64,58,51,47,48,37,28,24,27,29,26]},\"selected\":{\"id\":\"10177\"},\"selection_policy\":{\"id\":\"10176\"}},\"id\":\"9801\",\"type\":\"ColumnDataSource\"},{\"attributes\":{\"source\":{\"id\":\"9795\"}},\"id\":\"9800\",\"type\":\"CDSView\"},{\"attributes\":{\"end\":100},\"id\":\"9767\",\"type\":\"Range1d\"},{\"attributes\":{},\"id\":\"9785\",\"type\":\"ResetTool\"},{\"attributes\":{\"coordinates\":null,\"formatter\":{\"id\":\"10169\"},\"group\":null,\"major_label_policy\":{\"id\":\"10170\"},\"ticker\":{\"id\":\"9778\"}},\"id\":\"9777\",\"type\":\"LinearAxis\"},{\"attributes\":{},\"id\":\"9774\",\"type\":\"BasicTicker\"},{\"attributes\":{},\"id\":\"9784\",\"type\":\"SaveTool\"},{\"attributes\":{\"coordinates\":null,\"formatter\":{\"id\":\"10172\"},\"group\":null,\"major_label_policy\":{\"id\":\"10173\"},\"ticker\":{\"id\":\"9774\"}},\"id\":\"9773\",\"type\":\"LinearAxis\"},{\"attributes\":{\"bottom_units\":\"screen\",\"coordinates\":null,\"fill_alpha\":0.5,\"fill_color\":\"lightgrey\",\"group\":null,\"left_units\":\"screen\",\"level\":\"overlay\",\"line_alpha\":1.0,\"line_color\":\"black\",\"line_dash\":[4,4],\"line_width\":2,\"right_units\":\"screen\",\"syncable\":false,\"top_units\":\"screen\"},\"id\":\"9787\",\"type\":\"BoxAnnotation\"}],\"root_ids\":[\"9762\"]},\"title\":\"Bokeh Application\",\"version\":\"2.4.2\"}};\n",
       "  const render_items = [{\"docid\":\"595a0c0d-34b0-4747-a426-bec498275836\",\"root_ids\":[\"9762\"],\"roots\":{\"9762\":\"5cfaa58f-a2ea-43f4-924e-2f78b0e89eb5\"}}];\n",
       "  root.Bokeh.embed.embed_items_notebook(docs_json, render_items);\n",
       "\n",
       "  }\n",
       "  if (root.Bokeh !== undefined) {\n",
       "    embed_document(root);\n",
       "  } else {\n",
       "    let attempts = 0;\n",
       "    const timer = setInterval(function(root) {\n",
       "      if (root.Bokeh !== undefined) {\n",
       "        clearInterval(timer);\n",
       "        embed_document(root);\n",
       "      } else {\n",
       "        attempts++;\n",
       "        if (attempts > 100) {\n",
       "          clearInterval(timer);\n",
       "          console.log(\"Bokeh: ERROR: Unable to run BokehJS code because BokehJS library is missing\");\n",
       "        }\n",
       "      }\n",
       "    }, 10, root)\n",
       "  }\n",
       "})(window);"
      ],
      "application/vnd.bokehjs_exec.v0+json": ""
     },
     "metadata": {
      "application/vnd.bokehjs_exec.v0+json": {
       "id": "9762"
      }
     },
     "output_type": "display_data"
    },
    {
     "name": "stdout",
     "output_type": "stream",
     "text": [
      "\n"
     ]
    }
   ],
   "source": [
    "m = tspmip(n, dist)\n",
    "m.optimize(tspcb(swapcb))\n",
    "checksol(m)\n",
    "addruntimes(runtimes, 'swap', m)"
   ]
  },
  {
   "cell_type": "markdown",
   "id": "734907ff",
   "metadata": {
    "slideshow": {
     "slide_type": "slide"
    }
   },
   "source": [
    "## Try greedy heuristic\n",
    "- While solving the MIP, call the greedy heuristic using the _fractional values from the LP relaxation_\n",
    "- The motivation is that these fractional values should guide towards a good solution\n",
    "- When values are all zero (like crossing between subtours), pick the edge with the shortest length."
   ]
  },
  {
   "cell_type": "markdown",
   "id": "c5152646",
   "metadata": {
    "slideshow": {
     "slide_type": "slide"
    }
   },
   "source": [
    "### Callback for greedy heuristic"
   ]
  },
  {
   "cell_type": "code",
   "execution_count": 77,
   "id": "49c1c626",
   "metadata": {
    "slideshow": {
     "slide_type": "subslide"
    }
   },
   "outputs": [],
   "source": [
    "def greedycb(model, where):\n",
    "    if where == GRB.Callback.MIPNODE:\n",
    "        if model.cbGet(GRB.Callback.MIPNODE_STATUS) == GRB.OPTIMAL:\n",
    "            x = model.cbGetNodeRel(model._vars)\n",
    "            for k in x:\n",
    "                if x[k] < 0.001:     # no edge connection\n",
    "                    x[k] = model._dist[k]\n",
    "            pt = pytsp(model._n, model._dist, logging=False)\n",
    "            model._tours.append(pt.greedy(dist=x, sense=1)) # maximize using the x values"
   ]
  },
  {
   "cell_type": "markdown",
   "id": "e1f372ca",
   "metadata": {
    "slideshow": {
     "slide_type": "slide"
    }
   },
   "source": [
    "### Solve the TSP with the greedy heuristic"
   ]
  },
  {
   "cell_type": "code",
   "execution_count": 69,
   "id": "b1d75384",
   "metadata": {
    "slideshow": {
     "slide_type": "subslide"
    },
    "tags": []
   },
   "outputs": [
    {
     "name": "stdout",
     "output_type": "stream",
     "text": [
      "Set parameter LazyConstraints to value 1\n",
      "Set parameter MIPGap to value 0\n",
      "Set parameter TimeLimit to value 60\n",
      "Set parameter MIPGapAbs to value 5.0765999888398028e-03\n",
      "gapabs: 0.005076599988839803\n",
      "Gurobi Optimizer version 9.5.1 build v9.5.1rc2 (mac64[x86])\n",
      "Thread count: 2 physical cores, 4 logical processors, using up to 4 threads\n",
      "Optimize a model with 60 rows, 1770 columns and 3540 nonzeros\n",
      "Model fingerprint: 0xe22ed164\n",
      "Variable types: 0 continuous, 1770 integer (1770 binary)\n",
      "Coefficient statistics:\n",
      "  Matrix range     [1e+00, 1e+00]\n",
      "  Objective range  [1e+00, 1e+02]\n",
      "  Bounds range     [1e+00, 1e+00]\n",
      "  RHS range        [2e+00, 2e+00]\n",
      "MIPSOL, subtours: [[9, 4, 30], [20, 15, 35, 51, 48, 50], [38, 23, 49, 11, 45, 21, 53], [7, 0, 44, 55, 5, 33, 37, 58, 14, 43, 8, 27, 47, 22, 26, 16, 10, 34, 59, 1, 42, 41, 36, 39, 28, 31, 46, 40, 54, 12, 57, 13, 19, 2, 18, 32, 25, 17, 52, 29, 24, 6, 56, 3]]\n",
      "MIPSOL, subtours len: 4\n",
      "Presolve time: 0.01s\n",
      "Presolved: 60 rows, 1770 columns, 3540 nonzeros\n",
      "Variable types: 0 continuous, 1770 integer (1770 binary)\n",
      "MIPSOL, subtours: [[30, 28, 31, 29], [32, 26, 33, 27], [34, 24, 35, 25], [36, 22, 37, 23], [38, 20, 39, 21], [40, 18, 41, 19], [42, 16, 43, 17], [44, 14, 45, 15], [46, 12, 47, 13], [48, 10, 49, 11], [50, 8, 51, 9], [52, 6, 53, 7], [54, 4, 55, 5], [56, 2, 57, 3], [58, 0, 59, 1]]\n",
      "MIPSOL, subtours len: 15\n",
      "\n",
      "Root relaxation: objective 6.321593e+02, 79 iterations, 0.01 seconds (0.00 work units)\n",
      "\n",
      "    Nodes    |    Current Node    |     Objective Bounds      |     Work\n",
      " Expl Unexpl |  Obj  Depth IntInf | Incumbent    BestBd   Gap | It/Node Time\n",
      "\n",
      "     0     0  632.15925    0    6          -  632.15925      -     -    0s\n",
      "MIPSOL, subtours: [[18, 8, 56], [24, 12, 42], [26, 19, 37], [33, 11, 51], [46, 3, 54], [47, 10, 57], [15, 13, 32, 5, 48, 43, 27, 35, 50, 0, 52, 7, 21, 55, 49, 45, 38, 25, 53, 40, 4, 23, 36, 29, 9, 59, 44, 20, 34, 22, 31, 2, 30, 14, 41, 1, 39, 58, 17, 6, 16, 28]]\n",
      "MIPSOL, subtours len: 7\n",
      "MIPSOL, subtours: [[50, 17, 58, 39], [21, 7, 52, 0, 31, 22, 34, 20, 44, 59, 9, 29, 36, 23, 4, 40, 53, 25, 38, 45, 49, 55], [6, 1, 41, 14, 30, 37, 26, 19, 24, 12, 42, 2, 16, 28, 15, 56, 18, 8, 11, 51, 33, 3, 54, 46, 10, 57, 47, 35, 27, 43, 48, 5, 32, 13]]\n",
      "MIPSOL, subtours len: 3\n",
      "MIPSOL, subtours: [[30, 1, 41], [39, 17, 50], [15, 2, 16, 28], [18, 8, 55, 21, 11, 51, 33, 22, 31, 0, 52, 7, 49, 45, 56], [13, 6, 32, 5, 48, 43, 27, 35, 57, 47, 10, 58, 46, 3, 54, 20, 34, 44, 59, 9, 29, 36, 23, 4, 40, 53, 38, 25, 12, 42, 24, 14, 37, 26, 19]]\n",
      "MIPSOL, subtours len: 5\n",
      "**** greedy heuristic tour=873.482710, obj=397.630030, tour: [31, 0, 52, 7, 21, 55, 49, 45, 38, 25, 53, 40, 4, 23, 36, 29, 9, 59, 44, 20, 34, 22, 33, 11, 51, 54, 3, 46, 58, 17, 39, 50, 35, 27, 43, 48, 5, 32, 13, 6, 1, 30, 41, 14, 37, 19, 26, 24, 12, 42, 2, 15, 28, 16, 56, 8, 18, 57, 10, 47]\n",
      "MIPNODE, len(tours): 1\n",
      "OBJBEST: 1e+100, tour cost: 873.4827099181318\n",
      "H    0     0                     873.4827099  663.52012  24.0%     -    0s\n",
      "     0     0  663.52012    0   18  873.48271  663.52012  24.0%     -    0s\n",
      "**** greedy heuristic tour=811.534875, obj=244.718924, tour: [31, 11, 21, 7, 52, 0, 49, 45, 38, 25, 2, 15, 28, 16, 56, 18, 8, 55, 33, 22, 34, 20, 44, 59, 9, 29, 36, 23, 4, 40, 53, 12, 42, 24, 37, 1, 30, 14, 41, 19, 13, 32, 26, 6, 48, 5, 43, 27, 35, 50, 17, 39, 58, 57, 47, 10, 46, 3, 54, 51]\n",
      "MIPNODE, len(tours): 2\n",
      "OBJBEST: 873.4827099181321, tour cost: 811.5348751084689\n",
      "H    0     0                     811.5348751  664.66091  18.1%     -    0s\n",
      "     0     0  664.66091    0   26  811.53488  664.66091  18.1%     -    0s\n",
      "MIPSOL, subtours: [[15, 2, 25, 38, 45, 49, 7, 21, 55, 8, 18, 56, 16, 28], [6, 1, 30, 41, 14, 24, 42, 12, 53, 40, 4, 23, 36, 29, 9, 59, 44, 34, 22, 33, 51, 11, 31, 0, 52, 20, 3, 54, 46, 10, 47, 57, 58, 39, 17, 50, 35, 27, 43, 48, 5, 32, 26, 37, 19, 13]]\n",
      "MIPSOL, subtours len: 2\n",
      "**** greedy heuristic tour=820.441269, obj=259.765092, tour: [31, 11, 33, 22, 51, 0, 52, 7, 21, 55, 8, 18, 56, 16, 28, 15, 2, 25, 38, 45, 49, 53, 12, 42, 24, 37, 1, 30, 14, 41, 19, 13, 32, 26, 6, 48, 5, 43, 27, 35, 50, 17, 39, 58, 57, 47, 10, 46, 3, 20, 54, 44, 34, 59, 9, 29, 36, 23, 4, 40]\n",
      "MIPNODE, len(tours): 2\n",
      "OBJBEST: 811.5348751084694, tour cost: 811.5348751084692\n",
      "     0     0  666.27589    0   10  811.53488  666.27589  17.9%     -    0s\n",
      "MIPSOL, subtours: [[15, 2, 25, 38, 45, 49, 7, 52, 0, 31, 22, 33, 51, 11, 21, 55, 8, 18, 56, 16, 28], [6, 1, 30, 41, 14, 24, 42, 12, 53, 40, 4, 23, 36, 29, 9, 59, 44, 34, 20, 54, 3, 46, 10, 47, 57, 58, 39, 17, 50, 35, 27, 43, 48, 5, 32, 26, 37, 19, 13]]\n",
      "MIPSOL, subtours len: 2\n",
      "MIPSOL, subtours: [[30, 14, 41], [15, 2, 25, 38, 45, 49, 7, 52, 0, 31, 34, 22, 33, 51, 11, 21, 55, 8, 18, 56, 16, 28], [6, 1, 37, 19, 26, 24, 42, 12, 53, 40, 4, 23, 36, 29, 9, 59, 44, 20, 54, 3, 46, 10, 47, 57, 58, 39, 17, 50, 35, 27, 43, 48, 5, 32, 13]]\n",
      "MIPSOL, subtours len: 3\n",
      "MIPSOL, subtours: [[15, 2, 28], [18, 8, 55, 21, 11, 51, 33, 22, 31, 0, 52, 7, 49, 45, 16, 56], [6, 5, 48, 43, 27, 35, 50, 17, 39, 58, 57, 47, 10, 46, 3, 54, 20, 34, 44, 59, 9, 29, 36, 23, 4, 40, 53, 38, 25, 12, 42, 24, 14, 41, 30, 1, 37, 19, 13, 32, 26]]\n",
      "MIPSOL, subtours len: 3\n",
      "MIPSOL, subtours: [[23, 4, 36], [31, 0, 52], [29, 9, 44, 59], [6, 5, 48, 43, 27, 35, 50, 17, 39, 58, 57, 47, 10, 46, 3, 54, 20, 34, 22, 33, 51, 11, 21, 55, 7, 49, 45, 8, 18, 56, 16, 28, 15, 2, 25, 38, 53, 40, 12, 42, 24, 14, 41, 30, 1, 37, 19, 13, 32, 26]]\n",
      "MIPSOL, subtours len: 4\n",
      "H    0     0                     698.5690878  666.27589  4.62%     -    0s\n",
      "H    0     0                     673.7521420  666.27589  1.11%     -    0s\n",
      "**** greedy heuristic tour=730.843422, obj=172.901635, tour: [31, 0, 52, 7, 49, 45, 38, 25, 2, 15, 28, 16, 56, 18, 8, 55, 21, 11, 51, 33, 22, 34, 44, 59, 9, 29, 36, 23, 4, 40, 53, 12, 42, 24, 37, 1, 30, 14, 41, 19, 13, 32, 26, 6, 48, 5, 43, 27, 35, 50, 17, 39, 58, 57, 47, 10, 46, 3, 54, 20]\n",
      "MIPNODE, len(tours): 3\n",
      "OBJBEST: 673.7521419882773, tour cost: 673.7521419882772\n",
      "     0     0  670.26922    0   12  673.75214  670.26922  0.52%     -    0s\n",
      "**** greedy heuristic tour=792.674363, obj=213.641384, tour: [31, 0, 52, 7, 21, 55, 49, 8, 18, 56, 16, 28, 15, 2, 25, 12, 53, 38, 45, 36, 23, 4, 40, 39, 17, 50, 35, 27, 43, 48, 5, 32, 26, 37, 19, 13, 6, 1, 30, 41, 14, 24, 42, 29, 9, 44, 20, 34, 59, 54, 3, 46, 10, 47, 57, 58, 22, 33, 51, 11]\n",
      "MIPNODE, len(tours): 1\n",
      "     0     0     cutoff    0       673.75214  673.75214  0.00%     -    0s\n",
      "\n",
      "Explored 1 nodes (144 simplex iterations) in 0.88 seconds (0.03 work units)\n",
      "Thread count was 4 (of 4 available processors)\n",
      "\n",
      "Solution count 5: 673.752 677.387 698.569 ... 873.483\n",
      "\n",
      "Optimal solution found (tolerance 0.00e+00)\n",
      "Best objective 6.737521419883e+02, best bound 6.737521419883e+02, gap 0.0000%\n",
      "\n",
      "User-callback calls 299, time in user-callback 0.40 sec\n",
      "\n",
      "Optimal TSP tour: [6, 1, 30, 41, 14, 24, 42, 12, 25, 2, 15, 28, 16, 56, 18, 8, 55, 21, 11, 51, 33, 22, 31, 0, 52, 7, 49, 45, 38, 53, 40, 4, 23, 36, 29, 9, 59, 44, 34, 20, 54, 3, 46, 10, 47, 57, 58, 39, 17, 50, 35, 27, 43, 48, 5, 32, 26, 37, 19, 13]\n",
      "Cost: 673.752\n"
     ]
    },
    {
     "data": {
      "text/html": [
       "\n",
       "\n",
       "\n",
       "\n",
       "\n",
       "\n",
       "  <div class=\"bk-root\" id=\"55baac8a-bef4-49d3-9bb6-0119b8027e8f\" data-root-id=\"9297\"></div>\n"
      ]
     },
     "metadata": {},
     "output_type": "display_data"
    },
    {
     "data": {
      "application/javascript": [
       "(function(root) {\n",
       "  function embed_document(root) {\n",
       "    \n",
       "  const docs_json = {\"c0bce661-f10e-43bf-a446-6164e47dd674\":{\"defs\":[],\"roots\":{\"references\":[{\"attributes\":{\"below\":[{\"id\":\"9308\"}],\"center\":[{\"id\":\"9311\"},{\"id\":\"9315\"}],\"left\":[{\"id\":\"9312\"}],\"renderers\":[{\"id\":\"9334\"},{\"id\":\"9340\"}],\"title\":{\"id\":\"9298\"},\"toolbar\":{\"id\":\"9323\"},\"x_range\":{\"id\":\"9300\"},\"x_scale\":{\"id\":\"9304\"},\"y_range\":{\"id\":\"9302\"},\"y_scale\":{\"id\":\"9306\"}},\"id\":\"9297\",\"subtype\":\"Figure\",\"type\":\"Plot\"},{\"attributes\":{},\"id\":\"9700\",\"type\":\"Selection\"},{\"attributes\":{\"end\":100},\"id\":\"9302\",\"type\":\"Range1d\"},{\"attributes\":{\"fill_alpha\":{\"value\":0.2},\"fill_color\":{\"value\":\"#1f77b4\"},\"hatch_alpha\":{\"value\":0.2},\"line_alpha\":{\"value\":0.2},\"line_color\":{\"value\":\"#1f77b4\"},\"size\":{\"value\":8},\"x\":{\"field\":\"x\"},\"y\":{\"field\":\"y\"}},\"id\":\"9333\",\"type\":\"Circle\"},{\"attributes\":{},\"id\":\"9698\",\"type\":\"Selection\"},{\"attributes\":{\"fill_alpha\":{\"value\":0.1},\"fill_color\":{\"value\":\"#1f77b4\"},\"hatch_alpha\":{\"value\":0.1},\"line_alpha\":{\"value\":0.1},\"line_color\":{\"value\":\"#1f77b4\"},\"size\":{\"value\":8},\"x\":{\"field\":\"x\"},\"y\":{\"field\":\"y\"}},\"id\":\"9332\",\"type\":\"Circle\"},{\"attributes\":{\"line_alpha\":0.2,\"line_color\":\"#1f77b4\",\"x\":{\"field\":\"x\"},\"y\":{\"field\":\"y\"}},\"id\":\"9339\",\"type\":\"Line\"},{\"attributes\":{\"coordinates\":null,\"data_source\":{\"id\":\"9330\"},\"glyph\":{\"id\":\"9331\"},\"group\":null,\"hover_glyph\":null,\"muted_glyph\":{\"id\":\"9333\"},\"nonselection_glyph\":{\"id\":\"9332\"},\"view\":{\"id\":\"9335\"}},\"id\":\"9334\",\"type\":\"GlyphRenderer\"},{\"attributes\":{\"bottom_units\":\"screen\",\"coordinates\":null,\"fill_alpha\":0.5,\"fill_color\":\"lightgrey\",\"group\":null,\"left_units\":\"screen\",\"level\":\"overlay\",\"line_alpha\":1.0,\"line_color\":\"black\",\"line_dash\":[4,4],\"line_width\":2,\"right_units\":\"screen\",\"syncable\":false,\"top_units\":\"screen\"},\"id\":\"9322\",\"type\":\"BoxAnnotation\"},{\"attributes\":{},\"id\":\"9320\",\"type\":\"ResetTool\"},{\"attributes\":{},\"id\":\"9304\",\"type\":\"LinearScale\"},{\"attributes\":{},\"id\":\"9319\",\"type\":\"SaveTool\"},{\"attributes\":{\"fill_color\":{\"value\":\"#1f77b4\"},\"line_color\":{\"value\":\"#1f77b4\"},\"size\":{\"value\":8},\"x\":{\"field\":\"x\"},\"y\":{\"field\":\"y\"}},\"id\":\"9331\",\"type\":\"Circle\"},{\"attributes\":{\"overlay\":{\"id\":\"9322\"}},\"id\":\"9318\",\"type\":\"BoxZoomTool\"},{\"attributes\":{},\"id\":\"9321\",\"type\":\"HelpTool\"},{\"attributes\":{},\"id\":\"9317\",\"type\":\"WheelZoomTool\"},{\"attributes\":{\"coordinates\":null,\"group\":null,\"text\":\"Optimal TSP tour on 60 cities, length=673.752142\"},\"id\":\"9298\",\"type\":\"Title\"},{\"attributes\":{},\"id\":\"9316\",\"type\":\"PanTool\"},{\"attributes\":{\"data\":{\"x\":[17,97,32,63,57,83,100,12,3,55,97,0,57,92,75,40,2,83,1,87,54,3,28,56,70,44,86,97,37,53,82,23,92,15,42,91,54,85,38,75,64,75,61,95,53,22,70,99,94,11,84,13,20,50,62,3,5,90,75,50],\"y\":[72,8,15,97,60,48,26,62,49,77,98,89,34,29,13,3,3,69,48,27,92,67,97,63,29,29,28,58,2,71,12,80,37,95,92,64,64,24,36,63,50,4,31,51,85,46,89,86,47,56,65,99,66,47,93,60,39,78,74,82]},\"selected\":{\"id\":\"9698\"},\"selection_policy\":{\"id\":\"9697\"}},\"id\":\"9330\",\"type\":\"ColumnDataSource\"},{\"attributes\":{},\"id\":\"9695\",\"type\":\"BasicTickFormatter\"},{\"attributes\":{\"data\":{\"x\":[100,97,82,75,75,70,61,57,44,32,40,37,2,5,1,3,3,3,0,13,15,28,23,17,20,12,11,22,38,50,64,57,56,54,53,55,50,53,42,54,62,63,70,97,99,90,75,75,83,84,91,97,95,94,83,92,86,85,87,92,100],\"y\":[26,8,12,4,13,29,31,34,29,15,3,2,3,39,48,49,60,67,89,99,95,97,80,72,66,62,56,46,36,47,50,60,63,64,71,77,82,85,92,92,93,97,89,98,86,78,74,63,69,65,64,58,51,47,48,37,28,24,27,29,26]},\"selected\":{\"id\":\"9700\"},\"selection_policy\":{\"id\":\"9699\"}},\"id\":\"9336\",\"type\":\"ColumnDataSource\"},{\"attributes\":{\"axis\":{\"id\":\"9308\"},\"coordinates\":null,\"group\":null,\"ticker\":null},\"id\":\"9311\",\"type\":\"Grid\"},{\"attributes\":{\"end\":100},\"id\":\"9300\",\"type\":\"Range1d\"},{\"attributes\":{\"coordinates\":null,\"formatter\":{\"id\":\"9695\"},\"group\":null,\"major_label_policy\":{\"id\":\"9696\"},\"ticker\":{\"id\":\"9309\"}},\"id\":\"9308\",\"type\":\"LinearAxis\"},{\"attributes\":{},\"id\":\"9699\",\"type\":\"UnionRenderers\"},{\"attributes\":{},\"id\":\"9693\",\"type\":\"AllLabels\"},{\"attributes\":{},\"id\":\"9309\",\"type\":\"BasicTicker\"},{\"attributes\":{},\"id\":\"9696\",\"type\":\"AllLabels\"},{\"attributes\":{},\"id\":\"9692\",\"type\":\"BasicTickFormatter\"},{\"attributes\":{\"line_color\":\"#1f77b4\",\"x\":{\"field\":\"x\"},\"y\":{\"field\":\"y\"}},\"id\":\"9337\",\"type\":\"Line\"},{\"attributes\":{},\"id\":\"9306\",\"type\":\"LinearScale\"},{\"attributes\":{\"line_alpha\":0.1,\"line_color\":\"#1f77b4\",\"x\":{\"field\":\"x\"},\"y\":{\"field\":\"y\"}},\"id\":\"9338\",\"type\":\"Line\"},{\"attributes\":{\"tools\":[{\"id\":\"9316\"},{\"id\":\"9317\"},{\"id\":\"9318\"},{\"id\":\"9319\"},{\"id\":\"9320\"},{\"id\":\"9321\"}]},\"id\":\"9323\",\"type\":\"Toolbar\"},{\"attributes\":{},\"id\":\"9313\",\"type\":\"BasicTicker\"},{\"attributes\":{\"axis\":{\"id\":\"9312\"},\"coordinates\":null,\"dimension\":1,\"group\":null,\"ticker\":null},\"id\":\"9315\",\"type\":\"Grid\"},{\"attributes\":{\"source\":{\"id\":\"9336\"}},\"id\":\"9341\",\"type\":\"CDSView\"},{\"attributes\":{\"coordinates\":null,\"data_source\":{\"id\":\"9336\"},\"glyph\":{\"id\":\"9337\"},\"group\":null,\"hover_glyph\":null,\"muted_glyph\":{\"id\":\"9339\"},\"nonselection_glyph\":{\"id\":\"9338\"},\"view\":{\"id\":\"9341\"}},\"id\":\"9340\",\"type\":\"GlyphRenderer\"},{\"attributes\":{\"source\":{\"id\":\"9330\"}},\"id\":\"9335\",\"type\":\"CDSView\"},{\"attributes\":{},\"id\":\"9697\",\"type\":\"UnionRenderers\"},{\"attributes\":{\"coordinates\":null,\"formatter\":{\"id\":\"9692\"},\"group\":null,\"major_label_policy\":{\"id\":\"9693\"},\"ticker\":{\"id\":\"9313\"}},\"id\":\"9312\",\"type\":\"LinearAxis\"}],\"root_ids\":[\"9297\"]},\"title\":\"Bokeh Application\",\"version\":\"2.4.2\"}};\n",
       "  const render_items = [{\"docid\":\"c0bce661-f10e-43bf-a446-6164e47dd674\",\"root_ids\":[\"9297\"],\"roots\":{\"9297\":\"55baac8a-bef4-49d3-9bb6-0119b8027e8f\"}}];\n",
       "  root.Bokeh.embed.embed_items_notebook(docs_json, render_items);\n",
       "\n",
       "  }\n",
       "  if (root.Bokeh !== undefined) {\n",
       "    embed_document(root);\n",
       "  } else {\n",
       "    let attempts = 0;\n",
       "    const timer = setInterval(function(root) {\n",
       "      if (root.Bokeh !== undefined) {\n",
       "        clearInterval(timer);\n",
       "        embed_document(root);\n",
       "      } else {\n",
       "        attempts++;\n",
       "        if (attempts > 100) {\n",
       "          clearInterval(timer);\n",
       "          console.log(\"Bokeh: ERROR: Unable to run BokehJS code because BokehJS library is missing\");\n",
       "        }\n",
       "      }\n",
       "    }, 10, root)\n",
       "  }\n",
       "})(window);"
      ],
      "application/vnd.bokehjs_exec.v0+json": ""
     },
     "metadata": {
      "application/vnd.bokehjs_exec.v0+json": {
       "id": "9297"
      }
     },
     "output_type": "display_data"
    },
    {
     "name": "stdout",
     "output_type": "stream",
     "text": [
      "\n"
     ]
    }
   ],
   "source": [
    "m = tspmip(n, dist)\n",
    "m.optimize(tspcb(greedycb))\n",
    "checksol(m)\n",
    "addruntimes(runtimes, 'greedy', m)"
   ]
  },
  {
   "cell_type": "markdown",
   "id": "1d1c2baa",
   "metadata": {
    "slideshow": {
     "slide_type": "slide"
    }
   },
   "source": [
    "## Try patch heuristic\n",
    "When an integer solution contains subtours, call the patching heuristic to create a tour, and try that as a heuristic solution."
   ]
  },
  {
   "cell_type": "markdown",
   "id": "bbe96cf9",
   "metadata": {
    "slideshow": {
     "slide_type": "slide"
    }
   },
   "source": [
    "### Callback for patch heuristic"
   ]
  },
  {
   "cell_type": "code",
   "execution_count": 96,
   "id": "e9dc0ef2",
   "metadata": {
    "slideshow": {
     "slide_type": "subslide"
    }
   },
   "outputs": [],
   "source": [
    "def patchcb(model, where):\n",
    "    if where == GRB.Callback.MIPSOL:\n",
    "        pt = pytsp(model._n, model._dist, logging=True)\n",
    "        for subtour in model._subtours:\n",
    "            model._tours.append(pt.patch(subtour))"
   ]
  },
  {
   "cell_type": "markdown",
   "id": "8610a74f",
   "metadata": {
    "slideshow": {
     "slide_type": "slide"
    }
   },
   "source": [
    "### Solve the TSP with the patch heuristic"
   ]
  },
  {
   "cell_type": "code",
   "execution_count": 97,
   "id": "0a7d0115",
   "metadata": {
    "slideshow": {
     "slide_type": "subslide"
    },
    "tags": []
   },
   "outputs": [
    {
     "name": "stdout",
     "output_type": "stream",
     "text": [
      "Set parameter LazyConstraints to value 1\n",
      "Set parameter MIPGap to value 0\n",
      "Set parameter TimeLimit to value 60\n",
      "Set parameter MIPGapAbs to value 5.0765999888398028e-03\n",
      "gapabs: 0.005076599988839803\n",
      "Gurobi Optimizer version 9.5.1 build v9.5.1rc2 (mac64[x86])\n",
      "Thread count: 2 physical cores, 4 logical processors, using up to 4 threads\n",
      "Optimize a model with 60 rows, 1770 columns and 3540 nonzeros\n",
      "Model fingerprint: 0xe22ed164\n",
      "Variable types: 0 continuous, 1770 integer (1770 binary)\n",
      "Coefficient statistics:\n",
      "  Matrix range     [1e+00, 1e+00]\n",
      "  Objective range  [1e+00, 1e+02]\n",
      "  Bounds range     [1e+00, 1e+00]\n",
      "  RHS range        [2e+00, 2e+00]\n",
      "MIPSOL, subtours: [[9, 4, 30], [20, 15, 35, 51, 48, 50], [38, 23, 49, 11, 45, 21, 53], [7, 0, 44, 55, 5, 33, 37, 58, 14, 43, 8, 27, 47, 22, 26, 16, 10, 34, 59, 1, 42, 41, 36, 39, 28, 31, 46, 40, 54, 12, 57, 13, 19, 2, 18, 32, 25, 17, 52, 29, 24, 6, 56, 3]]\n",
      "**** patching 4 subtours\n",
      "**** patched tour=3392.509584\n",
      "MIPSOL, subtours len: 4\n",
      "Presolve time: 0.01s\n",
      "Presolved: 60 rows, 1770 columns, 3540 nonzeros\n",
      "Variable types: 0 continuous, 1770 integer (1770 binary)\n",
      "MIPSOL, subtours: [[30, 28, 31, 29], [32, 26, 33, 27], [34, 24, 35, 25], [36, 22, 37, 23], [38, 20, 39, 21], [40, 18, 41, 19], [42, 16, 43, 17], [44, 14, 45, 15], [46, 12, 47, 13], [48, 10, 49, 11], [50, 8, 51, 9], [52, 6, 53, 7], [54, 4, 55, 5], [56, 2, 57, 3], [58, 0, 59, 1]]\n",
      "**** patching 15 subtours\n",
      "**** patched tour=3179.823855\n",
      "MIPSOL, subtours len: 15\n",
      "\n",
      "Root relaxation: objective 6.321593e+02, 79 iterations, 0.00 seconds (0.00 work units)\n",
      "\n",
      "    Nodes    |    Current Node    |     Objective Bounds      |     Work\n",
      " Expl Unexpl |  Obj  Depth IntInf | Incumbent    BestBd   Gap | It/Node Time\n",
      "\n",
      "     0     0  632.15925    0    6          -  632.15925      -     -    0s\n",
      "MIPSOL, subtours: [[18, 8, 56], [24, 12, 42], [26, 19, 37], [33, 11, 51], [46, 3, 54], [47, 10, 57], [15, 13, 32, 5, 48, 43, 27, 35, 50, 0, 52, 7, 21, 55, 49, 45, 38, 25, 53, 40, 4, 23, 36, 29, 9, 59, 44, 20, 34, 22, 31, 2, 30, 14, 41, 1, 39, 58, 17, 6, 16, 28]]\n",
      "**** patching 7 subtours\n",
      "**** patched tour=1295.121029\n",
      "MIPSOL, subtours len: 7\n",
      "MIPSOL, subtours: [[50, 17, 58, 39], [21, 7, 52, 0, 31, 22, 34, 20, 44, 59, 9, 29, 36, 23, 4, 40, 53, 25, 38, 45, 49, 55], [6, 1, 41, 14, 30, 37, 26, 19, 24, 12, 42, 2, 16, 28, 15, 56, 18, 8, 11, 51, 33, 3, 54, 46, 10, 57, 47, 35, 27, 43, 48, 5, 32, 13]]\n",
      "**** patching 3 subtours\n",
      "**** patched tour=832.227203\n",
      "MIPSOL, subtours len: 3\n",
      "MIPSOL, subtours: [[30, 1, 41], [39, 17, 50], [15, 2, 16, 28], [18, 8, 55, 21, 11, 51, 33, 22, 31, 0, 52, 7, 49, 45, 56], [13, 6, 32, 5, 48, 43, 27, 35, 57, 47, 10, 58, 46, 3, 54, 20, 34, 44, 59, 9, 29, 36, 23, 4, 40, 53, 38, 25, 12, 42, 24, 14, 37, 26, 19]]\n",
      "**** patching 5 subtours\n",
      "**** patched tour=831.169898\n",
      "MIPSOL, subtours len: 5\n",
      "OBJBEST: 1e+100, tour cost: 831.169898272869\n",
      "H    0     0                     831.1698983  663.52012  20.2%     -    0s\n",
      "     0     0  663.52012    0   18  831.16990  663.52012  20.2%     -    0s\n",
      "OBJBEST: 831.1698982728692, tour cost: 831.169898272869\n",
      "     0     0  664.66091    0   26  831.16990  664.66091  20.0%     -    0s\n",
      "MIPSOL, subtours: [[15, 2, 25, 38, 45, 49, 7, 21, 55, 8, 18, 56, 16, 28], [6, 1, 30, 41, 14, 24, 42, 12, 53, 40, 4, 23, 36, 29, 9, 59, 44, 34, 22, 33, 51, 11, 31, 0, 52, 20, 3, 54, 46, 10, 47, 57, 58, 39, 17, 50, 35, 27, 43, 48, 5, 32, 26, 37, 19, 13]]\n",
      "**** patching 2 subtours\n",
      "**** patched tour=725.153708\n",
      "MIPSOL, subtours len: 2\n",
      "H    0     0                     802.2660639  664.66091  17.2%     -    0s\n",
      "OBJBEST: 802.2660639147722, tour cost: 725.1537083196256\n",
      "H    0     0                     725.1537083  666.27589  8.12%     -    0s\n",
      "     0     0  666.27589    0   10  725.15371  666.27589  8.12%     -    0s\n",
      "MIPSOL, subtours: [[15, 2, 25, 38, 45, 49, 7, 52, 0, 31, 22, 33, 51, 11, 21, 55, 8, 18, 56, 16, 28], [6, 1, 30, 41, 14, 24, 42, 12, 53, 40, 4, 23, 36, 29, 9, 59, 44, 34, 20, 54, 3, 46, 10, 47, 57, 58, 39, 17, 50, 35, 27, 43, 48, 5, 32, 26, 37, 19, 13]]\n",
      "**** patching 2 subtours\n",
      "**** patched tour=692.812384\n",
      "MIPSOL, subtours len: 2\n",
      "MIPSOL, subtours: [[30, 14, 41], [15, 2, 25, 38, 45, 49, 7, 52, 0, 31, 34, 22, 33, 51, 11, 21, 55, 8, 18, 56, 16, 28], [6, 1, 37, 19, 26, 24, 42, 12, 53, 40, 4, 23, 36, 29, 9, 59, 44, 20, 54, 3, 46, 10, 47, 57, 58, 39, 17, 50, 35, 27, 43, 48, 5, 32, 13]]\n",
      "**** patching 3 subtours\n",
      "**** patched tour=733.956543\n",
      "MIPSOL, subtours len: 3\n",
      "MIPSOL, subtours: [[15, 2, 28], [18, 8, 55, 21, 11, 51, 33, 22, 31, 0, 52, 7, 49, 45, 16, 56], [6, 5, 48, 43, 27, 35, 50, 17, 39, 58, 57, 47, 10, 46, 3, 54, 20, 34, 44, 59, 9, 29, 36, 23, 4, 40, 53, 38, 25, 12, 42, 24, 14, 41, 30, 1, 37, 19, 13, 32, 26]]\n",
      "**** patching 3 subtours\n",
      "**** patched tour=796.341098\n",
      "MIPSOL, subtours len: 3\n",
      "MIPSOL, subtours: [[23, 4, 36], [31, 0, 52], [29, 9, 44, 59], [6, 5, 48, 43, 27, 35, 50, 17, 39, 58, 57, 47, 10, 46, 3, 54, 20, 34, 22, 33, 51, 11, 21, 55, 7, 49, 45, 8, 18, 56, 16, 28, 15, 2, 25, 38, 53, 40, 12, 42, 24, 14, 41, 30, 1, 37, 19, 13, 32, 26]]\n",
      "**** patching 4 subtours\n",
      "**** patched tour=837.268846\n",
      "MIPSOL, subtours len: 4\n",
      "H    0     0                     698.5690873  666.27589  4.62%     -    0s\n",
      "H    0     0                     673.7521420  666.27589  1.11%     -    0s\n",
      "OBJBEST: 673.7521419882773, tour cost: 673.7521419882772\n",
      "     0     0  670.26922    0   12  673.75214  670.26922  0.52%     -    0s\n",
      "     0     0     cutoff    0       673.75214  673.75214  0.00%     -    0s\n",
      "\n",
      "Explored 1 nodes (144 simplex iterations) in 0.83 seconds (0.03 work units)\n",
      "Thread count was 4 (of 4 available processors)\n",
      "\n",
      "Solution count 7: 673.752 677.387 677.934 ... 831.17\n",
      "\n",
      "Optimal solution found (tolerance 0.00e+00)\n",
      "Best objective 6.737521419883e+02, best bound 6.737521419883e+02, gap 0.0000%\n",
      "\n",
      "User-callback calls 305, time in user-callback 0.45 sec\n",
      "\n",
      "Optimal TSP tour: [6, 1, 30, 41, 14, 24, 42, 12, 25, 2, 15, 28, 16, 56, 18, 8, 55, 21, 11, 51, 33, 22, 31, 0, 52, 7, 49, 45, 38, 53, 40, 4, 23, 36, 29, 9, 59, 44, 34, 20, 54, 3, 46, 10, 47, 57, 58, 39, 17, 50, 35, 27, 43, 48, 5, 32, 26, 37, 19, 13]\n",
      "Cost: 673.752\n"
     ]
    },
    {
     "data": {
      "text/html": [
       "\n",
       "\n",
       "\n",
       "\n",
       "\n",
       "\n",
       "  <div class=\"bk-root\" id=\"4168decc-73b3-4b29-9476-ec8dbb989bec\" data-root-id=\"16362\"></div>\n"
      ]
     },
     "metadata": {},
     "output_type": "display_data"
    },
    {
     "data": {
      "application/javascript": [
       "(function(root) {\n",
       "  function embed_document(root) {\n",
       "    \n",
       "  const docs_json = {\"b488f179-4785-4998-bef5-624be722f621\":{\"defs\":[],\"roots\":{\"references\":[{\"attributes\":{\"below\":[{\"id\":\"16373\"}],\"center\":[{\"id\":\"16376\"},{\"id\":\"16380\"}],\"left\":[{\"id\":\"16377\"}],\"renderers\":[{\"id\":\"16399\"},{\"id\":\"16405\"}],\"title\":{\"id\":\"16363\"},\"toolbar\":{\"id\":\"16388\"},\"x_range\":{\"id\":\"16365\"},\"x_scale\":{\"id\":\"16369\"},\"y_range\":{\"id\":\"16367\"},\"y_scale\":{\"id\":\"16371\"}},\"id\":\"16362\",\"subtype\":\"Figure\",\"type\":\"Plot\"},{\"attributes\":{\"tools\":[{\"id\":\"16381\"},{\"id\":\"16382\"},{\"id\":\"16383\"},{\"id\":\"16384\"},{\"id\":\"16385\"},{\"id\":\"16386\"}]},\"id\":\"16388\",\"type\":\"Toolbar\"},{\"attributes\":{\"line_alpha\":0.2,\"line_color\":\"#1f77b4\",\"x\":{\"field\":\"x\"},\"y\":{\"field\":\"y\"}},\"id\":\"16404\",\"type\":\"Line\"},{\"attributes\":{\"coordinates\":null,\"data_source\":{\"id\":\"16395\"},\"glyph\":{\"id\":\"16396\"},\"group\":null,\"hover_glyph\":null,\"muted_glyph\":{\"id\":\"16398\"},\"nonselection_glyph\":{\"id\":\"16397\"},\"view\":{\"id\":\"16400\"}},\"id\":\"16399\",\"type\":\"GlyphRenderer\"},{\"attributes\":{\"coordinates\":null,\"group\":null,\"text\":\"Optimal TSP tour on 60 cities, length=673.752142\"},\"id\":\"16363\",\"type\":\"Title\"},{\"attributes\":{\"axis\":{\"id\":\"16377\"},\"coordinates\":null,\"dimension\":1,\"group\":null,\"ticker\":null},\"id\":\"16380\",\"type\":\"Grid\"},{\"attributes\":{},\"id\":\"16916\",\"type\":\"BasicTickFormatter\"},{\"attributes\":{},\"id\":\"16369\",\"type\":\"LinearScale\"},{\"attributes\":{},\"id\":\"16917\",\"type\":\"AllLabels\"},{\"attributes\":{\"fill_alpha\":{\"value\":0.2},\"fill_color\":{\"value\":\"#1f77b4\"},\"hatch_alpha\":{\"value\":0.2},\"line_alpha\":{\"value\":0.2},\"line_color\":{\"value\":\"#1f77b4\"},\"size\":{\"value\":8},\"x\":{\"field\":\"x\"},\"y\":{\"field\":\"y\"}},\"id\":\"16398\",\"type\":\"Circle\"},{\"attributes\":{\"end\":100},\"id\":\"16367\",\"type\":\"Range1d\"},{\"attributes\":{},\"id\":\"16918\",\"type\":\"UnionRenderers\"},{\"attributes\":{},\"id\":\"16920\",\"type\":\"UnionRenderers\"},{\"attributes\":{\"data\":{\"x\":[17,97,32,63,57,83,100,12,3,55,97,0,57,92,75,40,2,83,1,87,54,3,28,56,70,44,86,97,37,53,82,23,92,15,42,91,54,85,38,75,64,75,61,95,53,22,70,99,94,11,84,13,20,50,62,3,5,90,75,50],\"y\":[72,8,15,97,60,48,26,62,49,77,98,89,34,29,13,3,3,69,48,27,92,67,97,63,29,29,28,58,2,71,12,80,37,95,92,64,64,24,36,63,50,4,31,51,85,46,89,86,47,56,65,99,66,47,93,60,39,78,74,82]},\"selected\":{\"id\":\"16919\"},\"selection_policy\":{\"id\":\"16918\"}},\"id\":\"16395\",\"type\":\"ColumnDataSource\"},{\"attributes\":{\"overlay\":{\"id\":\"16387\"}},\"id\":\"16383\",\"type\":\"BoxZoomTool\"},{\"attributes\":{},\"id\":\"16382\",\"type\":\"WheelZoomTool\"},{\"attributes\":{\"source\":{\"id\":\"16395\"}},\"id\":\"16400\",\"type\":\"CDSView\"},{\"attributes\":{},\"id\":\"16381\",\"type\":\"PanTool\"},{\"attributes\":{},\"id\":\"16386\",\"type\":\"HelpTool\"},{\"attributes\":{},\"id\":\"16913\",\"type\":\"BasicTickFormatter\"},{\"attributes\":{\"fill_color\":{\"value\":\"#1f77b4\"},\"line_color\":{\"value\":\"#1f77b4\"},\"size\":{\"value\":8},\"x\":{\"field\":\"x\"},\"y\":{\"field\":\"y\"}},\"id\":\"16396\",\"type\":\"Circle\"},{\"attributes\":{},\"id\":\"16919\",\"type\":\"Selection\"},{\"attributes\":{\"axis\":{\"id\":\"16373\"},\"coordinates\":null,\"group\":null,\"ticker\":null},\"id\":\"16376\",\"type\":\"Grid\"},{\"attributes\":{\"line_color\":\"#1f77b4\",\"x\":{\"field\":\"x\"},\"y\":{\"field\":\"y\"}},\"id\":\"16402\",\"type\":\"Line\"},{\"attributes\":{},\"id\":\"16378\",\"type\":\"BasicTicker\"},{\"attributes\":{\"coordinates\":null,\"formatter\":{\"id\":\"16916\"},\"group\":null,\"major_label_policy\":{\"id\":\"16917\"},\"ticker\":{\"id\":\"16374\"}},\"id\":\"16373\",\"type\":\"LinearAxis\"},{\"attributes\":{\"source\":{\"id\":\"16401\"}},\"id\":\"16406\",\"type\":\"CDSView\"},{\"attributes\":{\"end\":100},\"id\":\"16365\",\"type\":\"Range1d\"},{\"attributes\":{\"data\":{\"x\":[100,97,82,75,75,70,61,57,44,32,40,37,2,5,1,3,3,3,0,13,15,28,23,17,20,12,11,22,38,50,64,57,56,54,53,55,50,53,42,54,62,63,70,97,99,90,75,75,83,84,91,97,95,94,83,92,86,85,87,92,100],\"y\":[26,8,12,4,13,29,31,34,29,15,3,2,3,39,48,49,60,67,89,99,95,97,80,72,66,62,56,46,36,47,50,60,63,64,71,77,82,85,92,92,93,97,89,98,86,78,74,63,69,65,64,58,51,47,48,37,28,24,27,29,26]},\"selected\":{\"id\":\"16921\"},\"selection_policy\":{\"id\":\"16920\"}},\"id\":\"16401\",\"type\":\"ColumnDataSource\"},{\"attributes\":{},\"id\":\"16371\",\"type\":\"LinearScale\"},{\"attributes\":{\"coordinates\":null,\"formatter\":{\"id\":\"16913\"},\"group\":null,\"major_label_policy\":{\"id\":\"16914\"},\"ticker\":{\"id\":\"16378\"}},\"id\":\"16377\",\"type\":\"LinearAxis\"},{\"attributes\":{\"line_alpha\":0.1,\"line_color\":\"#1f77b4\",\"x\":{\"field\":\"x\"},\"y\":{\"field\":\"y\"}},\"id\":\"16403\",\"type\":\"Line\"},{\"attributes\":{},\"id\":\"16914\",\"type\":\"AllLabels\"},{\"attributes\":{},\"id\":\"16374\",\"type\":\"BasicTicker\"},{\"attributes\":{\"fill_alpha\":{\"value\":0.1},\"fill_color\":{\"value\":\"#1f77b4\"},\"hatch_alpha\":{\"value\":0.1},\"line_alpha\":{\"value\":0.1},\"line_color\":{\"value\":\"#1f77b4\"},\"size\":{\"value\":8},\"x\":{\"field\":\"x\"},\"y\":{\"field\":\"y\"}},\"id\":\"16397\",\"type\":\"Circle\"},{\"attributes\":{},\"id\":\"16384\",\"type\":\"SaveTool\"},{\"attributes\":{\"coordinates\":null,\"data_source\":{\"id\":\"16401\"},\"glyph\":{\"id\":\"16402\"},\"group\":null,\"hover_glyph\":null,\"muted_glyph\":{\"id\":\"16404\"},\"nonselection_glyph\":{\"id\":\"16403\"},\"view\":{\"id\":\"16406\"}},\"id\":\"16405\",\"type\":\"GlyphRenderer\"},{\"attributes\":{\"bottom_units\":\"screen\",\"coordinates\":null,\"fill_alpha\":0.5,\"fill_color\":\"lightgrey\",\"group\":null,\"left_units\":\"screen\",\"level\":\"overlay\",\"line_alpha\":1.0,\"line_color\":\"black\",\"line_dash\":[4,4],\"line_width\":2,\"right_units\":\"screen\",\"syncable\":false,\"top_units\":\"screen\"},\"id\":\"16387\",\"type\":\"BoxAnnotation\"},{\"attributes\":{},\"id\":\"16385\",\"type\":\"ResetTool\"},{\"attributes\":{},\"id\":\"16921\",\"type\":\"Selection\"}],\"root_ids\":[\"16362\"]},\"title\":\"Bokeh Application\",\"version\":\"2.4.2\"}};\n",
       "  const render_items = [{\"docid\":\"b488f179-4785-4998-bef5-624be722f621\",\"root_ids\":[\"16362\"],\"roots\":{\"16362\":\"4168decc-73b3-4b29-9476-ec8dbb989bec\"}}];\n",
       "  root.Bokeh.embed.embed_items_notebook(docs_json, render_items);\n",
       "\n",
       "  }\n",
       "  if (root.Bokeh !== undefined) {\n",
       "    embed_document(root);\n",
       "  } else {\n",
       "    let attempts = 0;\n",
       "    const timer = setInterval(function(root) {\n",
       "      if (root.Bokeh !== undefined) {\n",
       "        clearInterval(timer);\n",
       "        embed_document(root);\n",
       "      } else {\n",
       "        attempts++;\n",
       "        if (attempts > 100) {\n",
       "          clearInterval(timer);\n",
       "          console.log(\"Bokeh: ERROR: Unable to run BokehJS code because BokehJS library is missing\");\n",
       "        }\n",
       "      }\n",
       "    }, 10, root)\n",
       "  }\n",
       "})(window);"
      ],
      "application/vnd.bokehjs_exec.v0+json": ""
     },
     "metadata": {
      "application/vnd.bokehjs_exec.v0+json": {
       "id": "16362"
      }
     },
     "output_type": "display_data"
    },
    {
     "name": "stdout",
     "output_type": "stream",
     "text": [
      "\n"
     ]
    }
   ],
   "source": [
    "m = tspmip(n, dist)\n",
    "m.optimize(tspcb(patchcb))\n",
    "checksol(m)\n",
    "addruntimes(runtimes, 'patch', m)"
   ]
  },
  {
   "cell_type": "markdown",
   "id": "b2899792",
   "metadata": {
    "slideshow": {
     "slide_type": "slide"
    }
   },
   "source": [
    "## Try fix-and-dive heuristic\n",
    "- When a fractional solution contains some variables at 1, try to fix those and solve the submodel\n",
    "- Although this is similar to a built-in MIP heuristic, this also calls the subtour callback inside."
   ]
  },
  {
   "cell_type": "markdown",
   "id": "762ad0b6",
   "metadata": {
    "slideshow": {
     "slide_type": "slide"
    }
   },
   "source": [
    "### Callback for fix-and-dive heuristic\n",
    "Note that this is also written as a closure. The reason for this is that we want to specify a heuristic callback function when solving the fixed model!"
   ]
  },
  {
   "cell_type": "code",
   "execution_count": 59,
   "id": "7fa53306",
   "metadata": {
    "slideshow": {
     "slide_type": "subslide"
    }
   },
   "outputs": [],
   "source": [
    "def fixcb(subcb=None):\n",
    "    def inner(model, where):\n",
    "        if where == GRB.Callback.MIPNODE:\n",
    "            if model.cbGet(GRB.Callback.MIPNODE_STATUS) == GRB.OPTIMAL:\n",
    "                # Try solving the fixed submodel\n",
    "                fixed = model._fixed\n",
    "                # Relaxed values near 1.0 get the lower bound set to 1.0\n",
    "                for k,v in model.cbGetNodeRel(model._vars).items():\n",
    "                    fixed._vars[k].LB = math.floor(v+0.01)\n",
    "                # Set a cutoff for the fixed model, based on the current best solution\n",
    "                if model.cbGet(GRB.Callback.MIPNODE_SOLCNT) > 0:\n",
    "                    fixed.Params.Cutoff = model.cbGet(GRB.Callback.MIPNODE_OBJBST)\n",
    "                fixed.optimize(tspcb(subcb)) # call subproblem callback\n",
    "                if fixed.status == GRB.OPTIMAL:\n",
    "                    fixedvals = fixed.getAttr('x', fixed._vars)\n",
    "                    model.cbSetSolution(model._vars, fixedvals)\n",
    "    return inner"
   ]
  },
  {
   "cell_type": "markdown",
   "id": "3d5f83ac",
   "metadata": {
    "slideshow": {
     "slide_type": "slide"
    }
   },
   "source": [
    "### Create the fixed model\n",
    "\n",
    "We create two copies of the model and disable output when solving the smaller fixed model."
   ]
  },
  {
   "cell_type": "code",
   "execution_count": 60,
   "id": "8470140c",
   "metadata": {
    "slideshow": {
     "slide_type": "subslide"
    }
   },
   "outputs": [],
   "source": [
    "def tspmipwithfixed(n, dist):\n",
    "    m = tspmip(n, dist) # main model\n",
    "    m._fixed = tspmip(n, dist) # fixed model\n",
    "    m._fixed.Params.OutputFlag = 0\n",
    "    m._fixed._parent = m\n",
    "    return m"
   ]
  },
  {
   "cell_type": "markdown",
   "id": "21f5ac08",
   "metadata": {
    "slideshow": {
     "slide_type": "slide"
    }
   },
   "source": [
    "### Solve the TSP with the fix-and-dive heuristic"
   ]
  },
  {
   "cell_type": "code",
   "execution_count": 61,
   "id": "8ba6cf66",
   "metadata": {
    "slideshow": {
     "slide_type": "subslide"
    },
    "tags": []
   },
   "outputs": [
    {
     "name": "stdout",
     "output_type": "stream",
     "text": [
      "Set parameter LazyConstraints to value 1\n",
      "Set parameter MIPGap to value 0\n",
      "Set parameter TimeLimit to value 60\n",
      "Set parameter MIPGapAbs to value 5.0765999888398028e-03\n",
      "gapabs: 0.005076599988839803\n",
      "Set parameter LazyConstraints to value 1\n",
      "Set parameter MIPGap to value 0\n",
      "Set parameter TimeLimit to value 60\n",
      "Set parameter MIPGapAbs to value 5.0765999888398028e-03\n",
      "gapabs: 0.005076599988839803\n",
      "Gurobi Optimizer version 9.5.1 build v9.5.1rc2 (mac64[x86])\n",
      "Thread count: 2 physical cores, 4 logical processors, using up to 4 threads\n",
      "Optimize a model with 60 rows, 1770 columns and 3540 nonzeros\n",
      "Model fingerprint: 0xe22ed164\n",
      "Variable types: 0 continuous, 1770 integer (1770 binary)\n",
      "Coefficient statistics:\n",
      "  Matrix range     [1e+00, 1e+00]\n",
      "  Objective range  [1e+00, 1e+02]\n",
      "  Bounds range     [1e+00, 1e+00]\n",
      "  RHS range        [2e+00, 2e+00]\n",
      "MIPSOL, subtours: [[9, 4, 30], [20, 15, 35, 51, 48, 50], [38, 23, 49, 11, 45, 21, 53], [7, 0, 44, 55, 5, 33, 37, 58, 14, 43, 8, 27, 47, 22, 26, 16, 10, 34, 59, 1, 42, 41, 36, 39, 28, 31, 46, 40, 54, 12, 57, 13, 19, 2, 18, 32, 25, 17, 52, 29, 24, 6, 56, 3]]\n",
      "MIPSOL, subtours len: 4\n",
      "Presolve time: 0.02s\n",
      "Presolved: 60 rows, 1770 columns, 3540 nonzeros\n",
      "Variable types: 0 continuous, 1770 integer (1770 binary)\n",
      "MIPSOL, subtours: [[30, 28, 31, 29], [32, 26, 33, 27], [34, 24, 35, 25], [36, 22, 37, 23], [38, 20, 39, 21], [40, 18, 41, 19], [42, 16, 43, 17], [44, 14, 45, 15], [46, 12, 47, 13], [48, 10, 49, 11], [50, 8, 51, 9], [52, 6, 53, 7], [54, 4, 55, 5], [56, 2, 57, 3], [58, 0, 59, 1]]\n",
      "MIPSOL, subtours len: 15\n",
      "\n",
      "Root relaxation: objective 6.321593e+02, 79 iterations, 0.00 seconds (0.00 work units)\n",
      "\n",
      "    Nodes    |    Current Node    |     Objective Bounds      |     Work\n",
      " Expl Unexpl |  Obj  Depth IntInf | Incumbent    BestBd   Gap | It/Node Time\n",
      "\n",
      "     0     0  632.15925    0    6          -  632.15925      -     -    0s\n",
      "MIPSOL, subtours: [[18, 8, 56], [24, 12, 42], [26, 19, 37], [33, 11, 51], [46, 3, 54], [47, 10, 57], [15, 13, 32, 5, 48, 43, 27, 35, 50, 0, 52, 7, 21, 55, 49, 45, 38, 25, 53, 40, 4, 23, 36, 29, 9, 59, 44, 20, 34, 22, 31, 2, 30, 14, 41, 1, 39, 58, 17, 6, 16, 28]]\n",
      "MIPSOL, subtours len: 7\n",
      "MIPSOL, subtours: [[50, 17, 58, 39], [21, 7, 52, 0, 31, 22, 34, 20, 44, 59, 9, 29, 36, 23, 4, 40, 53, 25, 38, 45, 49, 55], [6, 1, 41, 14, 30, 37, 26, 19, 24, 12, 42, 2, 16, 28, 15, 56, 18, 8, 11, 51, 33, 3, 54, 46, 10, 57, 47, 35, 27, 43, 48, 5, 32, 13]]\n",
      "MIPSOL, subtours len: 3\n",
      "MIPSOL, subtours: [[30, 1, 41], [39, 17, 50], [15, 2, 16, 28], [18, 8, 55, 21, 11, 51, 33, 22, 31, 0, 52, 7, 49, 45, 56], [13, 6, 32, 5, 48, 43, 27, 35, 57, 47, 10, 58, 46, 3, 54, 20, 34, 44, 59, 9, 29, 36, 23, 4, 40, 53, 38, 25, 12, 42, 24, 14, 37, 26, 19]]\n",
      "MIPSOL, subtours len: 5\n",
      "MIPSOL, subtours: [[18, 8, 56], [24, 12, 42], [26, 19, 37], [33, 11, 51], [46, 3, 54], [47, 10, 57], [15, 2, 16, 28], [6, 1, 17, 58, 39, 41, 14, 30, 50, 35, 27, 43, 48, 5, 32, 13], [21, 7, 52, 0, 31, 22, 34, 20, 44, 59, 9, 29, 36, 23, 4, 40, 53, 25, 38, 45, 49, 55]]\n",
      "MIPSOL, subtours len: 9\n",
      "MIPSOL, subtours: [[18, 8, 56], [24, 12, 42], [26, 19, 37], [30, 14, 41], [33, 11, 51], [39, 17, 58], [46, 3, 54], [47, 10, 57], [15, 2, 16, 28], [6, 1, 50, 35, 27, 43, 48, 5, 32, 13], [21, 7, 52, 0, 31, 22, 34, 20, 44, 59, 9, 29, 36, 23, 4, 40, 53, 25, 38, 45, 49, 55]]\n",
      "MIPSOL, subtours len: 11\n",
      "MIPNODE, len(tours): 0\n",
      "     0     0  663.52012    0   18          -  663.52012      -     -    0s\n",
      "MIPSOL, subtours: [[26, 19, 37], [15, 2, 25, 38, 45, 49, 7, 21, 55, 8, 18, 56, 16, 28], [6, 1, 30, 41, 14, 24, 42, 12, 53, 40, 4, 23, 36, 29, 9, 59, 44, 34, 22, 33, 51, 11, 31, 0, 52, 20, 54, 3, 46, 10, 47, 57, 58, 39, 17, 50, 35, 27, 43, 48, 5, 32, 13]]\n",
      "MIPSOL, subtours len: 3\n",
      "MIPNODE, len(tours): 1\n",
      "MIPSOL, subtours: [[30, 14, 41], [15, 2, 25, 38, 45, 49, 7, 52, 0, 31, 34, 22, 33, 51, 11, 21, 55, 8, 18, 56, 16, 28], [6, 1, 37, 24, 42, 12, 53, 40, 4, 23, 36, 29, 9, 59, 44, 20, 54, 3, 46, 10, 47, 57, 58, 39, 17, 50, 35, 27, 43, 48, 5, 32, 26, 19, 13]]\n",
      "MIPSOL, subtours len: 3\n",
      "MIPSOL, subtours: [[15, 2, 25, 38, 45, 49, 7, 37, 31, 0, 52, 34, 22, 33, 51, 11, 21, 55, 8, 18, 56, 16, 28], [6, 1, 30, 41, 14, 24, 42, 12, 53, 40, 4, 23, 36, 29, 9, 59, 44, 20, 54, 3, 46, 10, 47, 57, 58, 39, 17, 50, 35, 27, 43, 48, 5, 32, 26, 19, 13]]\n",
      "MIPSOL, subtours len: 2\n",
      "MIPNODE, len(tours): 1\n",
      "OBJBEST: 840.3017021344367, tour cost: 840.3017021344366\n",
      "MIPNODE, len(tours): 0\n",
      "H    0     0                     682.5590005  664.66091  2.62%     -    0s\n",
      "     0     0  664.66091    0   26  682.55900  664.66091  2.62%     -    0s\n",
      "MIPSOL, subtours: [[26, 19, 37], [15, 2, 25, 38, 45, 49, 7, 52, 0, 31, 34, 22, 33, 51, 11, 21, 55, 8, 18, 56, 16, 28], [6, 1, 30, 41, 14, 24, 42, 12, 53, 40, 4, 23, 36, 29, 9, 59, 44, 20, 54, 3, 46, 10, 47, 57, 58, 39, 17, 50, 35, 27, 43, 48, 5, 32, 13]]\n",
      "MIPSOL, subtours len: 3\n",
      "MIPNODE, len(tours): 2\n",
      "MIPNODE, len(tours): 0\n",
      "MIPSOL, subtours: [[30, 14, 41], [31, 0, 52], [33, 11, 51], [15, 2, 25, 38, 45, 49, 7, 21, 55, 8, 18, 56, 16, 28], [6, 1, 37, 24, 42, 12, 53, 40, 4, 23, 36, 29, 9, 59, 44, 34, 22, 20, 54, 3, 46, 10, 47, 57, 58, 39, 17, 50, 35, 27, 43, 48, 5, 32, 26, 19, 13]]\n",
      "MIPSOL, subtours len: 5\n",
      "MIPNODE, len(tours): 0\n",
      "MIPNODE, len(tours): 1\n",
      "     0     0  665.37508    0   24  682.55900  665.37508  2.52%     -    0s\n",
      "MIPSOL, subtours: [[26, 19, 37], [6, 1, 30, 41, 14, 24, 42, 12, 53, 40, 4, 23, 36, 29, 9, 59, 44, 34, 22, 33, 51, 11, 21, 55, 8, 18, 56, 16, 28, 15, 2, 25, 38, 45, 49, 7, 52, 0, 31, 20, 54, 3, 46, 10, 47, 57, 58, 39, 17, 50, 35, 27, 43, 48, 5, 32, 13]]\n",
      "MIPSOL, subtours len: 2\n",
      "MIPNODE, len(tours): 1\n",
      "MIPNODE, len(tours): 0\n",
      "MIPNODE, len(tours): 0\n",
      "MIPSOL, subtours: [[30, 14, 41], [15, 2, 25, 38, 45, 49, 7, 52, 0, 31, 34, 22, 33, 51, 11, 21, 55, 8, 18, 56, 16, 28], [6, 1, 37, 19, 26, 24, 42, 12, 53, 40, 4, 23, 36, 29, 9, 59, 44, 20, 54, 3, 46, 10, 47, 57, 58, 39, 17, 50, 35, 27, 43, 48, 5, 32, 13]]\n",
      "MIPSOL, subtours len: 3\n",
      "MIPNODE, len(tours): 0\n",
      "H    0     0                     680.3943040  665.37508  2.21%     -    0s\n",
      "     0     0  665.37508    0   16  680.39430  665.37508  2.21%     -    0s\n",
      "MIPSOL, subtours: [[6, 1, 13], [30, 14, 41], [15, 2, 25, 38, 45, 49, 7, 52, 0, 31, 34, 22, 33, 51, 11, 21, 55, 8, 18, 56, 16, 28], [23, 4, 40, 53, 12, 42, 24, 37, 19, 26, 32, 5, 48, 43, 27, 35, 50, 17, 39, 58, 57, 47, 10, 46, 3, 54, 20, 44, 59, 9, 29, 36]]\n",
      "MIPSOL, subtours len: 4\n",
      "MIPNODE, len(tours): 1\n",
      "OBJBEST: 1e+100, tour cost: 680.3943040001589\n",
      "MIPNODE, len(tours): 1\n",
      "MIPSOL, subtours: [[30, 14, 41], [15, 2, 25, 38, 45, 49, 7, 52, 0, 31, 22, 33, 51, 11, 21, 55, 8, 18, 56, 16, 28], [6, 1, 37, 19, 26, 24, 42, 12, 53, 40, 4, 23, 36, 29, 9, 59, 44, 34, 20, 54, 3, 46, 10, 47, 57, 58, 39, 17, 50, 35, 27, 43, 48, 5, 32, 13]]\n",
      "MIPSOL, subtours len: 3\n",
      "MIPSOL, subtours: [[15, 2, 25, 38, 45, 49, 7, 52, 0, 31, 34, 22, 33, 51, 11, 21, 55, 8, 18, 56, 16, 28], [6, 1, 30, 41, 14, 24, 42, 12, 53, 40, 4, 23, 36, 29, 9, 59, 44, 20, 54, 3, 46, 10, 47, 57, 58, 39, 17, 50, 35, 27, 43, 48, 5, 32, 26, 37, 19, 13]]\n",
      "MIPSOL, subtours len: 2\n",
      "     0     0  670.59128    0   14  680.39430  670.59128  1.44%     -    0s\n",
      "MIPSOL, subtours: [[15, 2, 28], [18, 8, 55, 21, 11, 51, 33, 22, 31, 0, 52, 7, 49, 45, 16, 56], [6, 1, 30, 41, 14, 24, 42, 12, 25, 38, 53, 40, 4, 23, 36, 29, 9, 59, 44, 34, 20, 54, 3, 46, 10, 47, 57, 58, 39, 17, 50, 35, 27, 43, 48, 5, 32, 26, 37, 19, 13]]\n",
      "MIPSOL, subtours len: 3\n",
      "H    0     0                     679.8860356  670.59128  1.37%     -    0s\n",
      "MIPSOL, subtours: [[15, 2, 28], [18, 8, 55, 21, 11, 51, 33, 22, 31, 0, 52, 7, 49, 45, 38, 25, 16, 56], [6, 1, 30, 41, 14, 24, 42, 12, 53, 40, 4, 23, 36, 29, 9, 59, 44, 34, 20, 54, 3, 46, 10, 47, 57, 58, 39, 17, 50, 35, 27, 43, 48, 5, 32, 26, 37, 19, 13]]\n",
      "MIPSOL, subtours len: 3\n",
      "MIPSOL, subtours: [[15, 2, 16, 56, 18, 8, 55, 21, 11, 51, 33, 22, 31, 0, 52, 7, 49, 45, 38, 25, 28], [6, 1, 30, 41, 14, 24, 42, 12, 53, 40, 4, 23, 36, 29, 9, 59, 44, 34, 20, 54, 3, 46, 10, 47, 57, 58, 39, 17, 50, 35, 27, 43, 48, 5, 32, 26, 37, 19, 13]]\n",
      "MIPSOL, subtours len: 2\n",
      "MIPSOL, subtours: [[15, 2, 16, 56, 18, 8, 55, 21, 11, 51, 33, 22, 34, 31, 0, 52, 7, 49, 45, 38, 25, 28], [6, 1, 30, 41, 14, 24, 42, 12, 53, 40, 4, 23, 36, 29, 9, 59, 44, 20, 54, 3, 46, 10, 47, 57, 58, 39, 17, 50, 35, 27, 43, 48, 5, 32, 26, 37, 19, 13]]\n",
      "MIPSOL, subtours len: 2\n",
      "MIPNODE, len(tours): 0\n",
      "MIPNODE, len(tours): 0\n"
     ]
    },
    {
     "name": "stdout",
     "output_type": "stream",
     "text": [
      "MIPSOL, subtours: [[15, 2, 45, 49, 7, 52, 0, 31, 22, 33, 51, 11, 21, 55, 8, 18, 56, 16, 28], [6, 1, 30, 41, 14, 24, 42, 12, 25, 38, 53, 40, 4, 23, 36, 29, 9, 59, 44, 34, 20, 54, 3, 46, 10, 47, 57, 58, 39, 17, 50, 35, 27, 43, 48, 5, 32, 26, 37, 19, 13]]\n",
      "MIPSOL, subtours len: 2\n",
      "MIPNODE, len(tours): 1\n",
      "MIPSOL, subtours: [[23, 4, 36], [31, 0, 52], [29, 9, 44, 59], [6, 1, 30, 41, 14, 24, 42, 12, 40, 53, 38, 25, 2, 15, 28, 16, 56, 18, 8, 45, 49, 7, 55, 21, 11, 51, 33, 22, 34, 20, 54, 3, 46, 10, 47, 57, 58, 39, 17, 50, 35, 27, 43, 48, 5, 32, 26, 37, 19, 13]]\n",
      "MIPSOL, subtours len: 4\n",
      "*    0     0               0     673.7521420  673.75214  0.00%     -    1s\n",
      "\n",
      "Cutting planes:\n",
      "  Gomory: 5\n",
      "  Zero half: 7\n",
      "  Lazy constraints: 8\n",
      "\n",
      "Explored 1 nodes (218 simplex iterations) in 1.22 seconds (0.02 work units)\n",
      "Thread count was 4 (of 4 available processors)\n",
      "\n",
      "Solution count 4: 673.752 679.886 680.394 682.559 \n",
      "\n",
      "Optimal solution found (tolerance 0.00e+00)\n",
      "Best objective 6.737521419883e+02, best bound 6.737521419883e+02, gap 0.0000%\n",
      "\n",
      "User-callback calls 247, time in user-callback 0.94 sec\n",
      "\n",
      "Optimal TSP tour: [6, 1, 30, 41, 14, 24, 42, 12, 25, 2, 15, 28, 16, 56, 18, 8, 55, 21, 11, 51, 33, 22, 31, 0, 52, 7, 49, 45, 38, 53, 40, 4, 23, 36, 29, 9, 59, 44, 34, 20, 54, 3, 46, 10, 47, 57, 58, 39, 17, 50, 35, 27, 43, 48, 5, 32, 26, 37, 19, 13]\n",
      "Cost: 673.752\n"
     ]
    },
    {
     "data": {
      "text/html": [
       "\n",
       "\n",
       "\n",
       "\n",
       "\n",
       "\n",
       "  <div class=\"bk-root\" id=\"9cea5a7e-15cb-4f9f-b9ff-76a541d6efef\" data-root-id=\"6350\"></div>\n"
      ]
     },
     "metadata": {},
     "output_type": "display_data"
    },
    {
     "data": {
      "application/javascript": [
       "(function(root) {\n",
       "  function embed_document(root) {\n",
       "    \n",
       "  const docs_json = {\"1d59bd68-ac62-445a-be0e-a093dffdc99f\":{\"defs\":[],\"roots\":{\"references\":[{\"attributes\":{\"below\":[{\"id\":\"6361\"}],\"center\":[{\"id\":\"6364\"},{\"id\":\"6368\"}],\"left\":[{\"id\":\"6365\"}],\"renderers\":[{\"id\":\"6387\"},{\"id\":\"6393\"}],\"title\":{\"id\":\"6351\"},\"toolbar\":{\"id\":\"6376\"},\"x_range\":{\"id\":\"6353\"},\"x_scale\":{\"id\":\"6357\"},\"y_range\":{\"id\":\"6355\"},\"y_scale\":{\"id\":\"6359\"}},\"id\":\"6350\",\"subtype\":\"Figure\",\"type\":\"Plot\"},{\"attributes\":{},\"id\":\"6666\",\"type\":\"UnionRenderers\"},{\"attributes\":{},\"id\":\"6362\",\"type\":\"BasicTicker\"},{\"attributes\":{},\"id\":\"6665\",\"type\":\"AllLabels\"},{\"attributes\":{\"source\":{\"id\":\"6383\"}},\"id\":\"6388\",\"type\":\"CDSView\"},{\"attributes\":{\"coordinates\":null,\"data_source\":{\"id\":\"6389\"},\"glyph\":{\"id\":\"6390\"},\"group\":null,\"hover_glyph\":null,\"muted_glyph\":{\"id\":\"6392\"},\"nonselection_glyph\":{\"id\":\"6391\"},\"view\":{\"id\":\"6394\"}},\"id\":\"6393\",\"type\":\"GlyphRenderer\"},{\"attributes\":{\"line_alpha\":0.2,\"line_color\":\"#1f77b4\",\"x\":{\"field\":\"x\"},\"y\":{\"field\":\"y\"}},\"id\":\"6392\",\"type\":\"Line\"},{\"attributes\":{\"source\":{\"id\":\"6389\"}},\"id\":\"6394\",\"type\":\"CDSView\"},{\"attributes\":{},\"id\":\"6370\",\"type\":\"WheelZoomTool\"},{\"attributes\":{\"end\":100},\"id\":\"6353\",\"type\":\"Range1d\"},{\"attributes\":{\"fill_color\":{\"value\":\"#1f77b4\"},\"line_color\":{\"value\":\"#1f77b4\"},\"size\":{\"value\":8},\"x\":{\"field\":\"x\"},\"y\":{\"field\":\"y\"}},\"id\":\"6384\",\"type\":\"Circle\"},{\"attributes\":{},\"id\":\"6359\",\"type\":\"LinearScale\"},{\"attributes\":{},\"id\":\"6669\",\"type\":\"Selection\"},{\"attributes\":{\"end\":100},\"id\":\"6355\",\"type\":\"Range1d\"},{\"attributes\":{},\"id\":\"6664\",\"type\":\"BasicTickFormatter\"},{\"attributes\":{\"data\":{\"x\":[100,97,82,75,75,70,61,57,44,32,40,37,2,5,1,3,3,3,0,13,15,28,23,17,20,12,11,22,38,50,64,57,56,54,53,55,50,53,42,54,62,63,70,97,99,90,75,75,83,84,91,97,95,94,83,92,86,85,87,92,100],\"y\":[26,8,12,4,13,29,31,34,29,15,3,2,3,39,48,49,60,67,89,99,95,97,80,72,66,62,56,46,36,47,50,60,63,64,71,77,82,85,92,92,93,97,89,98,86,78,74,63,69,65,64,58,51,47,48,37,28,24,27,29,26]},\"selected\":{\"id\":\"6669\"},\"selection_policy\":{\"id\":\"6668\"}},\"id\":\"6389\",\"type\":\"ColumnDataSource\"},{\"attributes\":{},\"id\":\"6372\",\"type\":\"SaveTool\"},{\"attributes\":{},\"id\":\"6374\",\"type\":\"HelpTool\"},{\"attributes\":{},\"id\":\"6662\",\"type\":\"AllLabels\"},{\"attributes\":{\"data\":{\"x\":[17,97,32,63,57,83,100,12,3,55,97,0,57,92,75,40,2,83,1,87,54,3,28,56,70,44,86,97,37,53,82,23,92,15,42,91,54,85,38,75,64,75,61,95,53,22,70,99,94,11,84,13,20,50,62,3,5,90,75,50],\"y\":[72,8,15,97,60,48,26,62,49,77,98,89,34,29,13,3,3,69,48,27,92,67,97,63,29,29,28,58,2,71,12,80,37,95,92,64,64,24,36,63,50,4,31,51,85,46,89,86,47,56,65,99,66,47,93,60,39,78,74,82]},\"selected\":{\"id\":\"6667\"},\"selection_policy\":{\"id\":\"6666\"}},\"id\":\"6383\",\"type\":\"ColumnDataSource\"},{\"attributes\":{},\"id\":\"6661\",\"type\":\"BasicTickFormatter\"},{\"attributes\":{\"line_alpha\":0.1,\"line_color\":\"#1f77b4\",\"x\":{\"field\":\"x\"},\"y\":{\"field\":\"y\"}},\"id\":\"6391\",\"type\":\"Line\"},{\"attributes\":{\"coordinates\":null,\"formatter\":{\"id\":\"6664\"},\"group\":null,\"major_label_policy\":{\"id\":\"6665\"},\"ticker\":{\"id\":\"6362\"}},\"id\":\"6361\",\"type\":\"LinearAxis\"},{\"attributes\":{\"bottom_units\":\"screen\",\"coordinates\":null,\"fill_alpha\":0.5,\"fill_color\":\"lightgrey\",\"group\":null,\"left_units\":\"screen\",\"level\":\"overlay\",\"line_alpha\":1.0,\"line_color\":\"black\",\"line_dash\":[4,4],\"line_width\":2,\"right_units\":\"screen\",\"syncable\":false,\"top_units\":\"screen\"},\"id\":\"6375\",\"type\":\"BoxAnnotation\"},{\"attributes\":{\"line_color\":\"#1f77b4\",\"x\":{\"field\":\"x\"},\"y\":{\"field\":\"y\"}},\"id\":\"6390\",\"type\":\"Line\"},{\"attributes\":{\"fill_alpha\":{\"value\":0.2},\"fill_color\":{\"value\":\"#1f77b4\"},\"hatch_alpha\":{\"value\":0.2},\"line_alpha\":{\"value\":0.2},\"line_color\":{\"value\":\"#1f77b4\"},\"size\":{\"value\":8},\"x\":{\"field\":\"x\"},\"y\":{\"field\":\"y\"}},\"id\":\"6386\",\"type\":\"Circle\"},{\"attributes\":{\"coordinates\":null,\"group\":null,\"text\":\"Optimal TSP tour on 60 cities, length=673.752142\"},\"id\":\"6351\",\"type\":\"Title\"},{\"attributes\":{\"coordinates\":null,\"data_source\":{\"id\":\"6383\"},\"glyph\":{\"id\":\"6384\"},\"group\":null,\"hover_glyph\":null,\"muted_glyph\":{\"id\":\"6386\"},\"nonselection_glyph\":{\"id\":\"6385\"},\"view\":{\"id\":\"6388\"}},\"id\":\"6387\",\"type\":\"GlyphRenderer\"},{\"attributes\":{\"fill_alpha\":{\"value\":0.1},\"fill_color\":{\"value\":\"#1f77b4\"},\"hatch_alpha\":{\"value\":0.1},\"line_alpha\":{\"value\":0.1},\"line_color\":{\"value\":\"#1f77b4\"},\"size\":{\"value\":8},\"x\":{\"field\":\"x\"},\"y\":{\"field\":\"y\"}},\"id\":\"6385\",\"type\":\"Circle\"},{\"attributes\":{},\"id\":\"6373\",\"type\":\"ResetTool\"},{\"attributes\":{\"coordinates\":null,\"formatter\":{\"id\":\"6661\"},\"group\":null,\"major_label_policy\":{\"id\":\"6662\"},\"ticker\":{\"id\":\"6366\"}},\"id\":\"6365\",\"type\":\"LinearAxis\"},{\"attributes\":{},\"id\":\"6668\",\"type\":\"UnionRenderers\"},{\"attributes\":{\"tools\":[{\"id\":\"6369\"},{\"id\":\"6370\"},{\"id\":\"6371\"},{\"id\":\"6372\"},{\"id\":\"6373\"},{\"id\":\"6374\"}]},\"id\":\"6376\",\"type\":\"Toolbar\"},{\"attributes\":{\"overlay\":{\"id\":\"6375\"}},\"id\":\"6371\",\"type\":\"BoxZoomTool\"},{\"attributes\":{},\"id\":\"6667\",\"type\":\"Selection\"},{\"attributes\":{},\"id\":\"6369\",\"type\":\"PanTool\"},{\"attributes\":{},\"id\":\"6366\",\"type\":\"BasicTicker\"},{\"attributes\":{},\"id\":\"6357\",\"type\":\"LinearScale\"},{\"attributes\":{\"axis\":{\"id\":\"6361\"},\"coordinates\":null,\"group\":null,\"ticker\":null},\"id\":\"6364\",\"type\":\"Grid\"},{\"attributes\":{\"axis\":{\"id\":\"6365\"},\"coordinates\":null,\"dimension\":1,\"group\":null,\"ticker\":null},\"id\":\"6368\",\"type\":\"Grid\"}],\"root_ids\":[\"6350\"]},\"title\":\"Bokeh Application\",\"version\":\"2.4.2\"}};\n",
       "  const render_items = [{\"docid\":\"1d59bd68-ac62-445a-be0e-a093dffdc99f\",\"root_ids\":[\"6350\"],\"roots\":{\"6350\":\"9cea5a7e-15cb-4f9f-b9ff-76a541d6efef\"}}];\n",
       "  root.Bokeh.embed.embed_items_notebook(docs_json, render_items);\n",
       "\n",
       "  }\n",
       "  if (root.Bokeh !== undefined) {\n",
       "    embed_document(root);\n",
       "  } else {\n",
       "    let attempts = 0;\n",
       "    const timer = setInterval(function(root) {\n",
       "      if (root.Bokeh !== undefined) {\n",
       "        clearInterval(timer);\n",
       "        embed_document(root);\n",
       "      } else {\n",
       "        attempts++;\n",
       "        if (attempts > 100) {\n",
       "          clearInterval(timer);\n",
       "          console.log(\"Bokeh: ERROR: Unable to run BokehJS code because BokehJS library is missing\");\n",
       "        }\n",
       "      }\n",
       "    }, 10, root)\n",
       "  }\n",
       "})(window);"
      ],
      "application/vnd.bokehjs_exec.v0+json": ""
     },
     "metadata": {
      "application/vnd.bokehjs_exec.v0+json": {
       "id": "6350"
      }
     },
     "output_type": "display_data"
    },
    {
     "name": "stdout",
     "output_type": "stream",
     "text": [
      "\n"
     ]
    }
   ],
   "source": [
    "m = tspmipwithfixed(n, dist)\n",
    "m.optimize(tspcb(fixcb()))\n",
    "checksol(m)"
   ]
  },
  {
   "cell_type": "markdown",
   "id": "d31cad52",
   "metadata": {
    "slideshow": {
     "slide_type": "slide"
    }
   },
   "source": [
    "### Tuning the callback for the fixed model\n",
    "\n",
    "- One issue is that the fixed values may be infeasible due to subtours\n",
    "- Let's exploit this by passing subtours found by the fixed model back to the parent model\n",
    "\n",
    "First, create a callback function _for the fixed model_ that appends the subtours to the subtours for parent model:"
   ]
  },
  {
   "cell_type": "code",
   "execution_count": 62,
   "id": "fd847fcf",
   "metadata": {
    "slideshow": {
     "slide_type": "subslide"
    }
   },
   "outputs": [],
   "source": [
    "def passfixsubtours(model, where):\n",
    "    if where == GRB.Callback.MIPSOL:\n",
    "        model._parent._subtours += model._subtours"
   ]
  },
  {
   "cell_type": "markdown",
   "id": "2a8c491e",
   "metadata": {
    "slideshow": {
     "slide_type": "slide"
    }
   },
   "source": [
    "### Solve the TSP with the enhanced fix-and-dive heuristic\n",
    "The callback function appears complicated!\n",
    "\n",
    "- What it's doing is to call the main callback (`tspcb`) on the MIP with the heuristic fixed callback `fixcb`\n",
    "- The fixed model uses the callback `passfixsubtours`, which sends subtours back to the original MIP."
   ]
  },
  {
   "cell_type": "code",
   "execution_count": 63,
   "id": "85608d87",
   "metadata": {
    "slideshow": {
     "slide_type": "subslide"
    },
    "tags": []
   },
   "outputs": [
    {
     "name": "stdout",
     "output_type": "stream",
     "text": [
      "Set parameter LazyConstraints to value 1\n",
      "Set parameter MIPGap to value 0\n",
      "Set parameter TimeLimit to value 60\n",
      "Set parameter MIPGapAbs to value 5.0765999888398028e-03\n",
      "gapabs: 0.005076599988839803\n",
      "Set parameter LazyConstraints to value 1\n",
      "Set parameter MIPGap to value 0\n",
      "Set parameter TimeLimit to value 60\n",
      "Set parameter MIPGapAbs to value 5.0765999888398028e-03\n",
      "gapabs: 0.005076599988839803\n",
      "Gurobi Optimizer version 9.5.1 build v9.5.1rc2 (mac64[x86])\n",
      "Thread count: 2 physical cores, 4 logical processors, using up to 4 threads\n",
      "Optimize a model with 60 rows, 1770 columns and 3540 nonzeros\n",
      "Model fingerprint: 0xe22ed164\n",
      "Variable types: 0 continuous, 1770 integer (1770 binary)\n",
      "Coefficient statistics:\n",
      "  Matrix range     [1e+00, 1e+00]\n",
      "  Objective range  [1e+00, 1e+02]\n",
      "  Bounds range     [1e+00, 1e+00]\n",
      "  RHS range        [2e+00, 2e+00]\n",
      "MIPSOL, subtours: [[9, 4, 30], [20, 15, 35, 51, 48, 50], [38, 23, 49, 11, 45, 21, 53], [7, 0, 44, 55, 5, 33, 37, 58, 14, 43, 8, 27, 47, 22, 26, 16, 10, 34, 59, 1, 42, 41, 36, 39, 28, 31, 46, 40, 54, 12, 57, 13, 19, 2, 18, 32, 25, 17, 52, 29, 24, 6, 56, 3]]\n",
      "MIPSOL, subtours len: 4\n",
      "Presolve time: 0.01s\n",
      "Presolved: 60 rows, 1770 columns, 3540 nonzeros\n",
      "Variable types: 0 continuous, 1770 integer (1770 binary)\n",
      "MIPSOL, subtours: [[30, 28, 31, 29], [32, 26, 33, 27], [34, 24, 35, 25], [36, 22, 37, 23], [38, 20, 39, 21], [40, 18, 41, 19], [42, 16, 43, 17], [44, 14, 45, 15], [46, 12, 47, 13], [48, 10, 49, 11], [50, 8, 51, 9], [52, 6, 53, 7], [54, 4, 55, 5], [56, 2, 57, 3], [58, 0, 59, 1]]\n",
      "MIPSOL, subtours len: 15\n",
      "\n",
      "Root relaxation: objective 6.321593e+02, 79 iterations, 0.01 seconds (0.00 work units)\n",
      "\n",
      "    Nodes    |    Current Node    |     Objective Bounds      |     Work\n",
      " Expl Unexpl |  Obj  Depth IntInf | Incumbent    BestBd   Gap | It/Node Time\n",
      "\n",
      "     0     0  632.15925    0    6          -  632.15925      -     -    0s\n",
      "MIPSOL, subtours: [[18, 8, 56], [24, 12, 42], [26, 19, 37], [33, 11, 51], [46, 3, 54], [47, 10, 57], [15, 13, 32, 5, 48, 43, 27, 35, 50, 0, 52, 7, 21, 55, 49, 45, 38, 25, 53, 40, 4, 23, 36, 29, 9, 59, 44, 20, 34, 22, 31, 2, 30, 14, 41, 1, 39, 58, 17, 6, 16, 28]]\n",
      "MIPSOL, subtours len: 7\n",
      "MIPSOL, subtours: [[50, 17, 58, 39], [21, 7, 52, 0, 31, 22, 34, 20, 44, 59, 9, 29, 36, 23, 4, 40, 53, 25, 38, 45, 49, 55], [6, 1, 41, 14, 30, 37, 26, 19, 24, 12, 42, 2, 16, 28, 15, 56, 18, 8, 11, 51, 33, 3, 54, 46, 10, 57, 47, 35, 27, 43, 48, 5, 32, 13]]\n",
      "MIPSOL, subtours len: 3\n",
      "MIPSOL, subtours: [[30, 1, 41], [39, 17, 50], [15, 2, 16, 28], [18, 8, 55, 21, 11, 51, 33, 22, 31, 0, 52, 7, 49, 45, 56], [13, 6, 32, 5, 48, 43, 27, 35, 57, 47, 10, 58, 46, 3, 54, 20, 34, 44, 59, 9, 29, 36, 23, 4, 40, 53, 38, 25, 12, 42, 24, 14, 37, 26, 19]]\n",
      "MIPSOL, subtours len: 5\n",
      "MIPSOL, subtours: [[18, 8, 56], [24, 12, 42], [26, 19, 37], [33, 11, 51], [46, 3, 54], [47, 10, 57], [15, 2, 16, 28], [6, 1, 17, 58, 39, 41, 14, 30, 50, 35, 27, 43, 48, 5, 32, 13], [21, 7, 52, 0, 31, 22, 34, 20, 44, 59, 9, 29, 36, 23, 4, 40, 53, 25, 38, 45, 49, 55]]\n",
      "MIPSOL, subtours len: 9\n",
      "MIPSOL, subtours: [[18, 8, 56], [24, 12, 42], [26, 19, 37], [30, 14, 41], [33, 11, 51], [39, 17, 58], [46, 3, 54], [47, 10, 57], [15, 2, 16, 28], [6, 1, 50, 35, 27, 43, 48, 5, 32, 13], [21, 7, 52, 0, 31, 22, 34, 20, 44, 59, 9, 29, 36, 23, 4, 40, 53, 25, 38, 45, 49, 55]]\n",
      "MIPSOL, subtours len: 11\n",
      "MIPNODE, len(tours): 0\n",
      "     0     0  663.52012    0   18          -  663.52012      -     -    0s\n",
      "MIPSOL, subtours: [[26, 19, 37], [15, 2, 25, 38, 45, 49, 7, 21, 55, 8, 18, 56, 16, 28], [6, 1, 30, 41, 14, 24, 42, 12, 53, 40, 4, 23, 36, 29, 9, 59, 44, 34, 22, 33, 51, 11, 31, 0, 52, 20, 54, 3, 46, 10, 47, 57, 58, 39, 17, 50, 35, 27, 43, 48, 5, 32, 13]]\n",
      "MIPSOL, subtours len: 3\n",
      "MIPNODE, len(tours): 1\n",
      "MIPSOL, subtours: [[30, 14, 41], [15, 2, 25, 38, 45, 49, 7, 52, 0, 31, 34, 22, 33, 51, 11, 21, 55, 8, 18, 56, 16, 28], [6, 1, 37, 24, 42, 12, 53, 40, 4, 23, 36, 29, 9, 59, 44, 20, 54, 3, 46, 10, 47, 57, 58, 39, 17, 50, 35, 27, 43, 48, 5, 32, 26, 19, 13]]\n",
      "MIPSOL, subtours len: 3\n",
      "MIPSOL, subtours: [[15, 2, 25, 38, 45, 49, 7, 37, 31, 0, 52, 34, 22, 33, 51, 11, 21, 55, 8, 18, 56, 16, 28], [6, 1, 30, 41, 14, 24, 42, 12, 53, 40, 4, 23, 36, 29, 9, 59, 44, 20, 54, 3, 46, 10, 47, 57, 58, 39, 17, 50, 35, 27, 43, 48, 5, 32, 26, 19, 13]]\n",
      "MIPSOL, subtours len: 2\n",
      "MIPNODE, len(tours): 1\n",
      "OBJBEST: 840.3017021344367, tour cost: 840.3017021344366\n",
      "MIPNODE, len(tours): 0\n",
      "MIPSOL, subtours len: 9\n",
      "MIPSOL, subtours len: 11\n",
      "MIPSOL, subtours len: 3\n",
      "MIPSOL, subtours len: 3\n",
      "MIPSOL, subtours len: 2\n",
      "     0     0  664.66091    0   26          -  664.66091      -     -    0s\n",
      "MIPSOL, subtours: [[33, 22, 51], [15, 2, 25, 38, 45, 49, 7, 52, 0, 31, 11, 21, 55, 8, 18, 56, 16, 28], [6, 1, 30, 41, 14, 24, 42, 12, 53, 40, 4, 23, 36, 29, 9, 59, 44, 34, 20, 54, 3, 46, 10, 47, 57, 58, 39, 17, 50, 35, 27, 43, 48, 5, 32, 26, 37, 19, 13]]\n",
      "MIPSOL, subtours len: 3\n",
      "MIPSOL, subtours: [[26, 19, 37], [15, 2, 25, 38, 45, 49, 7, 52, 0, 31, 34, 22, 33, 51, 11, 21, 55, 8, 18, 56, 16, 28], [6, 1, 30, 41, 14, 24, 42, 12, 53, 40, 4, 23, 36, 29, 9, 59, 44, 20, 54, 3, 46, 10, 47, 57, 58, 39, 17, 50, 35, 27, 43, 48, 5, 32, 13]]\n",
      "MIPSOL, subtours len: 3\n",
      "MIPNODE, len(tours): 2\n",
      "MIPNODE, len(tours): 0\n",
      "MIPSOL, subtours: [[30, 14, 41], [31, 0, 52], [33, 11, 51], [15, 2, 25, 38, 45, 49, 7, 21, 55, 8, 18, 56, 16, 28], [6, 1, 37, 24, 42, 12, 53, 40, 4, 23, 36, 29, 9, 59, 44, 34, 22, 20, 54, 3, 46, 10, 47, 57, 58, 39, 17, 50, 35, 27, 43, 48, 5, 32, 26, 19, 13]]\n",
      "MIPSOL, subtours len: 5\n",
      "MIPNODE, len(tours): 0\n",
      "MIPNODE, len(tours): 1\n",
      "OBJBEST: 1e+100, tour cost: 682.5590004709184\n",
      "MIPSOL, subtours: [[15, 2, 25, 38, 45, 49, 7, 52, 0, 31, 22, 33, 51, 11, 21, 55, 8, 18, 56, 16, 28], [6, 1, 30, 41, 14, 24, 42, 12, 53, 40, 4, 23, 36, 29, 9, 59, 44, 34, 20, 54, 3, 46, 10, 47, 57, 58, 39, 17, 50, 35, 27, 43, 48, 5, 32, 26, 37, 19, 13]]\n",
      "MIPSOL, subtours len: 3\n",
      "MIPSOL, subtours len: 5\n",
      "MIPSOL, subtours len: 2\n",
      "H    0     0                     682.5590005  669.39433  1.93%     -    0s\n",
      "     0     0  669.39433    0   16  682.55900  669.39433  1.93%     -    0s\n",
      "MIPSOL, subtours: [[15, 2, 28], [18, 8, 55, 21, 11, 51, 33, 22, 31, 0, 52, 7, 49, 45, 16, 56], [6, 1, 30, 41, 14, 24, 42, 12, 25, 38, 53, 40, 4, 23, 36, 29, 9, 59, 44, 34, 20, 54, 3, 46, 10, 47, 57, 58, 39, 17, 50, 35, 27, 43, 48, 5, 32, 26, 37, 19, 13]]\n",
      "MIPSOL, subtours len: 3\n",
      "H    0     0                     673.7521420  669.39433  0.65%     -    0s\n",
      "MIPNODE, len(tours): 2\n",
      "OBJBEST: 673.7521419882773, tour cost: 673.7521419882772\n",
      "     0     0  670.26922    0   12  673.75214  670.26922  0.52%     -    0s\n",
      "MIPNODE, len(tours): 0\n",
      "     0     0     cutoff    0       673.75214  673.75214  0.00%     -    0s\n",
      "\n",
      "Explored 1 nodes (154 simplex iterations) in 0.95 seconds (0.02 work units)\n",
      "Thread count was 4 (of 4 available processors)\n",
      "\n",
      "Solution count 3: 673.752 674.26 682.559 \n",
      "\n",
      "Optimal solution found (tolerance 0.00e+00)\n",
      "Best objective 6.737521419883e+02, best bound 6.737521419883e+02, gap 0.0000%\n",
      "\n",
      "User-callback calls 237, time in user-callback 0.63 sec\n",
      "\n",
      "Optimal TSP tour: [6, 1, 30, 41, 14, 24, 42, 12, 25, 2, 15, 28, 16, 56, 18, 8, 55, 21, 11, 51, 33, 22, 31, 0, 52, 7, 49, 45, 38, 53, 40, 4, 23, 36, 29, 9, 59, 44, 34, 20, 54, 3, 46, 10, 47, 57, 58, 39, 17, 50, 35, 27, 43, 48, 5, 32, 26, 37, 19, 13]\n",
      "Cost: 673.752\n"
     ]
    },
    {
     "data": {
      "text/html": [
       "\n",
       "\n",
       "\n",
       "\n",
       "\n",
       "\n",
       "  <div class=\"bk-root\" id=\"d30eb312-4497-40fa-a3a1-5350632f007b\" data-root-id=\"6731\"></div>\n"
      ]
     },
     "metadata": {},
     "output_type": "display_data"
    },
    {
     "data": {
      "application/javascript": [
       "(function(root) {\n",
       "  function embed_document(root) {\n",
       "    \n",
       "  const docs_json = {\"947b57a7-e572-443e-872d-2fcf79b36d9e\":{\"defs\":[],\"roots\":{\"references\":[{\"attributes\":{\"below\":[{\"id\":\"6742\"}],\"center\":[{\"id\":\"6745\"},{\"id\":\"6749\"}],\"left\":[{\"id\":\"6746\"}],\"renderers\":[{\"id\":\"6768\"},{\"id\":\"6774\"}],\"title\":{\"id\":\"6732\"},\"toolbar\":{\"id\":\"6757\"},\"x_range\":{\"id\":\"6734\"},\"x_scale\":{\"id\":\"6738\"},\"y_range\":{\"id\":\"6736\"},\"y_scale\":{\"id\":\"6740\"}},\"id\":\"6731\",\"subtype\":\"Figure\",\"type\":\"Plot\"},{\"attributes\":{},\"id\":\"6751\",\"type\":\"WheelZoomTool\"},{\"attributes\":{},\"id\":\"6750\",\"type\":\"PanTool\"},{\"attributes\":{},\"id\":\"7059\",\"type\":\"UnionRenderers\"},{\"attributes\":{\"overlay\":{\"id\":\"6756\"}},\"id\":\"6752\",\"type\":\"BoxZoomTool\"},{\"attributes\":{},\"id\":\"6753\",\"type\":\"SaveTool\"},{\"attributes\":{},\"id\":\"6754\",\"type\":\"ResetTool\"},{\"attributes\":{},\"id\":\"7060\",\"type\":\"Selection\"},{\"attributes\":{\"bottom_units\":\"screen\",\"coordinates\":null,\"fill_alpha\":0.5,\"fill_color\":\"lightgrey\",\"group\":null,\"left_units\":\"screen\",\"level\":\"overlay\",\"line_alpha\":1.0,\"line_color\":\"black\",\"line_dash\":[4,4],\"line_width\":2,\"right_units\":\"screen\",\"syncable\":false,\"top_units\":\"screen\"},\"id\":\"6756\",\"type\":\"BoxAnnotation\"},{\"attributes\":{\"line_alpha\":0.2,\"line_color\":\"#1f77b4\",\"x\":{\"field\":\"x\"},\"y\":{\"field\":\"y\"}},\"id\":\"6773\",\"type\":\"Line\"},{\"attributes\":{\"line_alpha\":0.1,\"line_color\":\"#1f77b4\",\"x\":{\"field\":\"x\"},\"y\":{\"field\":\"y\"}},\"id\":\"6772\",\"type\":\"Line\"},{\"attributes\":{\"coordinates\":null,\"data_source\":{\"id\":\"6770\"},\"glyph\":{\"id\":\"6771\"},\"group\":null,\"hover_glyph\":null,\"muted_glyph\":{\"id\":\"6773\"},\"nonselection_glyph\":{\"id\":\"6772\"},\"view\":{\"id\":\"6775\"}},\"id\":\"6774\",\"type\":\"GlyphRenderer\"},{\"attributes\":{\"data\":{\"x\":[17,97,32,63,57,83,100,12,3,55,97,0,57,92,75,40,2,83,1,87,54,3,28,56,70,44,86,97,37,53,82,23,92,15,42,91,54,85,38,75,64,75,61,95,53,22,70,99,94,11,84,13,20,50,62,3,5,90,75,50],\"y\":[72,8,15,97,60,48,26,62,49,77,98,89,34,29,13,3,3,69,48,27,92,67,97,63,29,29,28,58,2,71,12,80,37,95,92,64,64,24,36,63,50,4,31,51,85,46,89,86,47,56,65,99,66,47,93,60,39,78,74,82]},\"selected\":{\"id\":\"7060\"},\"selection_policy\":{\"id\":\"7059\"}},\"id\":\"6764\",\"type\":\"ColumnDataSource\"},{\"attributes\":{\"fill_alpha\":{\"value\":0.1},\"fill_color\":{\"value\":\"#1f77b4\"},\"hatch_alpha\":{\"value\":0.1},\"line_alpha\":{\"value\":0.1},\"line_color\":{\"value\":\"#1f77b4\"},\"size\":{\"value\":8},\"x\":{\"field\":\"x\"},\"y\":{\"field\":\"y\"}},\"id\":\"6766\",\"type\":\"Circle\"},{\"attributes\":{},\"id\":\"6743\",\"type\":\"BasicTicker\"},{\"attributes\":{\"source\":{\"id\":\"6764\"}},\"id\":\"6769\",\"type\":\"CDSView\"},{\"attributes\":{\"end\":100},\"id\":\"6736\",\"type\":\"Range1d\"},{\"attributes\":{\"line_color\":\"#1f77b4\",\"x\":{\"field\":\"x\"},\"y\":{\"field\":\"y\"}},\"id\":\"6771\",\"type\":\"Line\"},{\"attributes\":{},\"id\":\"7061\",\"type\":\"UnionRenderers\"},{\"attributes\":{},\"id\":\"7054\",\"type\":\"BasicTickFormatter\"},{\"attributes\":{\"fill_color\":{\"value\":\"#1f77b4\"},\"line_color\":{\"value\":\"#1f77b4\"},\"size\":{\"value\":8},\"x\":{\"field\":\"x\"},\"y\":{\"field\":\"y\"}},\"id\":\"6765\",\"type\":\"Circle\"},{\"attributes\":{},\"id\":\"7062\",\"type\":\"Selection\"},{\"attributes\":{\"end\":100},\"id\":\"6734\",\"type\":\"Range1d\"},{\"attributes\":{\"coordinates\":null,\"data_source\":{\"id\":\"6764\"},\"glyph\":{\"id\":\"6765\"},\"group\":null,\"hover_glyph\":null,\"muted_glyph\":{\"id\":\"6767\"},\"nonselection_glyph\":{\"id\":\"6766\"},\"view\":{\"id\":\"6769\"}},\"id\":\"6768\",\"type\":\"GlyphRenderer\"},{\"attributes\":{},\"id\":\"7055\",\"type\":\"AllLabels\"},{\"attributes\":{\"coordinates\":null,\"group\":null,\"text\":\"Optimal TSP tour on 60 cities, length=673.752142\"},\"id\":\"6732\",\"type\":\"Title\"},{\"attributes\":{},\"id\":\"6740\",\"type\":\"LinearScale\"},{\"attributes\":{},\"id\":\"7057\",\"type\":\"BasicTickFormatter\"},{\"attributes\":{\"coordinates\":null,\"formatter\":{\"id\":\"7054\"},\"group\":null,\"major_label_policy\":{\"id\":\"7055\"},\"ticker\":{\"id\":\"6747\"}},\"id\":\"6746\",\"type\":\"LinearAxis\"},{\"attributes\":{\"axis\":{\"id\":\"6742\"},\"coordinates\":null,\"group\":null,\"ticker\":null},\"id\":\"6745\",\"type\":\"Grid\"},{\"attributes\":{\"source\":{\"id\":\"6770\"}},\"id\":\"6775\",\"type\":\"CDSView\"},{\"attributes\":{},\"id\":\"6738\",\"type\":\"LinearScale\"},{\"attributes\":{},\"id\":\"7058\",\"type\":\"AllLabels\"},{\"attributes\":{\"coordinates\":null,\"formatter\":{\"id\":\"7057\"},\"group\":null,\"major_label_policy\":{\"id\":\"7058\"},\"ticker\":{\"id\":\"6743\"}},\"id\":\"6742\",\"type\":\"LinearAxis\"},{\"attributes\":{},\"id\":\"6755\",\"type\":\"HelpTool\"},{\"attributes\":{\"fill_alpha\":{\"value\":0.2},\"fill_color\":{\"value\":\"#1f77b4\"},\"hatch_alpha\":{\"value\":0.2},\"line_alpha\":{\"value\":0.2},\"line_color\":{\"value\":\"#1f77b4\"},\"size\":{\"value\":8},\"x\":{\"field\":\"x\"},\"y\":{\"field\":\"y\"}},\"id\":\"6767\",\"type\":\"Circle\"},{\"attributes\":{\"axis\":{\"id\":\"6746\"},\"coordinates\":null,\"dimension\":1,\"group\":null,\"ticker\":null},\"id\":\"6749\",\"type\":\"Grid\"},{\"attributes\":{},\"id\":\"6747\",\"type\":\"BasicTicker\"},{\"attributes\":{\"data\":{\"x\":[100,97,82,75,75,70,61,57,44,32,40,37,2,5,1,3,3,3,0,13,15,28,23,17,20,12,11,22,38,50,64,57,56,54,53,55,50,53,42,54,62,63,70,97,99,90,75,75,83,84,91,97,95,94,83,92,86,85,87,92,100],\"y\":[26,8,12,4,13,29,31,34,29,15,3,2,3,39,48,49,60,67,89,99,95,97,80,72,66,62,56,46,36,47,50,60,63,64,71,77,82,85,92,92,93,97,89,98,86,78,74,63,69,65,64,58,51,47,48,37,28,24,27,29,26]},\"selected\":{\"id\":\"7062\"},\"selection_policy\":{\"id\":\"7061\"}},\"id\":\"6770\",\"type\":\"ColumnDataSource\"},{\"attributes\":{\"tools\":[{\"id\":\"6750\"},{\"id\":\"6751\"},{\"id\":\"6752\"},{\"id\":\"6753\"},{\"id\":\"6754\"},{\"id\":\"6755\"}]},\"id\":\"6757\",\"type\":\"Toolbar\"}],\"root_ids\":[\"6731\"]},\"title\":\"Bokeh Application\",\"version\":\"2.4.2\"}};\n",
       "  const render_items = [{\"docid\":\"947b57a7-e572-443e-872d-2fcf79b36d9e\",\"root_ids\":[\"6731\"],\"roots\":{\"6731\":\"d30eb312-4497-40fa-a3a1-5350632f007b\"}}];\n",
       "  root.Bokeh.embed.embed_items_notebook(docs_json, render_items);\n",
       "\n",
       "  }\n",
       "  if (root.Bokeh !== undefined) {\n",
       "    embed_document(root);\n",
       "  } else {\n",
       "    let attempts = 0;\n",
       "    const timer = setInterval(function(root) {\n",
       "      if (root.Bokeh !== undefined) {\n",
       "        clearInterval(timer);\n",
       "        embed_document(root);\n",
       "      } else {\n",
       "        attempts++;\n",
       "        if (attempts > 100) {\n",
       "          clearInterval(timer);\n",
       "          console.log(\"Bokeh: ERROR: Unable to run BokehJS code because BokehJS library is missing\");\n",
       "        }\n",
       "      }\n",
       "    }, 10, root)\n",
       "  }\n",
       "})(window);"
      ],
      "application/vnd.bokehjs_exec.v0+json": ""
     },
     "metadata": {
      "application/vnd.bokehjs_exec.v0+json": {
       "id": "6731"
      }
     },
     "output_type": "display_data"
    },
    {
     "name": "stdout",
     "output_type": "stream",
     "text": [
      "\n"
     ]
    }
   ],
   "source": [
    "m = tspmipwithfixed(n, dist)\n",
    "m.optimize(tspcb(fixcb(passfixsubtours)))\n",
    "checksol(m)"
   ]
  },
  {
   "cell_type": "markdown",
   "id": "cc0e55be",
   "metadata": {
    "slideshow": {
     "slide_type": "slide"
    }
   },
   "source": [
    "## Multiple heuristics\n",
    "Why not combine multiple heuristics together?"
   ]
  },
  {
   "cell_type": "markdown",
   "id": "13fc54a1",
   "metadata": {
    "slideshow": {
     "slide_type": "slide"
    }
   },
   "source": [
    "### Combination: Greedy + Swap"
   ]
  },
  {
   "cell_type": "code",
   "execution_count": 72,
   "id": "fbfdd07a",
   "metadata": {
    "slideshow": {
     "slide_type": "subslide"
    }
   },
   "outputs": [
    {
     "name": "stdout",
     "output_type": "stream",
     "text": [
      "Set parameter LazyConstraints to value 1\n",
      "Set parameter MIPGap to value 0\n",
      "Set parameter TimeLimit to value 60\n",
      "Set parameter MIPGapAbs to value 5.0765999888398028e-03\n",
      "gapabs: 0.005076599988839803\n",
      "Gurobi Optimizer version 9.5.1 build v9.5.1rc2 (mac64[x86])\n",
      "Thread count: 2 physical cores, 4 logical processors, using up to 4 threads\n",
      "Optimize a model with 60 rows, 1770 columns and 3540 nonzeros\n",
      "Model fingerprint: 0xe22ed164\n",
      "Variable types: 0 continuous, 1770 integer (1770 binary)\n",
      "Coefficient statistics:\n",
      "  Matrix range     [1e+00, 1e+00]\n",
      "  Objective range  [1e+00, 1e+02]\n",
      "  Bounds range     [1e+00, 1e+00]\n",
      "  RHS range        [2e+00, 2e+00]\n",
      "MIPSOL, subtours: [[9, 4, 30], [20, 15, 35, 51, 48, 50], [38, 23, 49, 11, 45, 21, 53], [7, 0, 44, 55, 5, 33, 37, 58, 14, 43, 8, 27, 47, 22, 26, 16, 10, 34, 59, 1, 42, 41, 36, 39, 28, 31, 46, 40, 54, 12, 57, 13, 19, 2, 18, 32, 25, 17, 52, 29, 24, 6, 56, 3]]\n",
      "MIPSOL, subtours len: 4\n",
      "Presolve time: 0.01s\n",
      "Presolved: 60 rows, 1770 columns, 3540 nonzeros\n",
      "Variable types: 0 continuous, 1770 integer (1770 binary)\n",
      "MIPSOL, subtours: [[30, 28, 31, 29], [32, 26, 33, 27], [34, 24, 35, 25], [36, 22, 37, 23], [38, 20, 39, 21], [40, 18, 41, 19], [42, 16, 43, 17], [44, 14, 45, 15], [46, 12, 47, 13], [48, 10, 49, 11], [50, 8, 51, 9], [52, 6, 53, 7], [54, 4, 55, 5], [56, 2, 57, 3], [58, 0, 59, 1]]\n",
      "MIPSOL, subtours len: 15\n",
      "\n",
      "Root relaxation: objective 6.321593e+02, 79 iterations, 0.00 seconds (0.00 work units)\n",
      "\n",
      "    Nodes    |    Current Node    |     Objective Bounds      |     Work\n",
      " Expl Unexpl |  Obj  Depth IntInf | Incumbent    BestBd   Gap | It/Node Time\n",
      "\n",
      "     0     0  632.15925    0    6          -  632.15925      -     -    0s\n",
      "MIPSOL, subtours: [[18, 8, 56], [24, 12, 42], [26, 19, 37], [33, 11, 51], [46, 3, 54], [47, 10, 57], [15, 13, 32, 5, 48, 43, 27, 35, 50, 0, 52, 7, 21, 55, 49, 45, 38, 25, 53, 40, 4, 23, 36, 29, 9, 59, 44, 20, 34, 22, 31, 2, 30, 14, 41, 1, 39, 58, 17, 6, 16, 28]]\n",
      "MIPSOL, subtours len: 7\n",
      "MIPSOL, subtours: [[50, 17, 58, 39], [21, 7, 52, 0, 31, 22, 34, 20, 44, 59, 9, 29, 36, 23, 4, 40, 53, 25, 38, 45, 49, 55], [6, 1, 41, 14, 30, 37, 26, 19, 24, 12, 42, 2, 16, 28, 15, 56, 18, 8, 11, 51, 33, 3, 54, 46, 10, 57, 47, 35, 27, 43, 48, 5, 32, 13]]\n",
      "MIPSOL, subtours len: 3\n",
      "MIPSOL, subtours: [[30, 1, 41], [39, 17, 50], [15, 2, 16, 28], [18, 8, 55, 21, 11, 51, 33, 22, 31, 0, 52, 7, 49, 45, 56], [13, 6, 32, 5, 48, 43, 27, 35, 57, 47, 10, 58, 46, 3, 54, 20, 34, 44, 59, 9, 29, 36, 23, 4, 40, 53, 38, 25, 12, 42, 24, 14, 37, 26, 19]]\n",
      "MIPSOL, subtours len: 5\n",
      "**** greedy heuristic tour=873.482710, obj=397.630030, tour: [31, 0, 52, 7, 21, 55, 49, 45, 38, 25, 53, 40, 4, 23, 36, 29, 9, 59, 44, 20, 34, 22, 33, 11, 51, 54, 3, 46, 58, 17, 39, 50, 35, 27, 43, 48, 5, 32, 13, 6, 1, 30, 41, 14, 37, 19, 26, 24, 12, 42, 2, 15, 28, 16, 56, 8, 18, 57, 10, 47]\n",
      "swap 0, 15\n",
      "swap 0, 28\n",
      "swap 0, 58\n",
      "swap 1, 3\n",
      "swap 1, 26\n",
      "swap 17, 19\n",
      "swap 19, 35\n",
      "swap 21, 28\n",
      "swap 22, 24\n",
      "swap 23, 25\n",
      "swap 25, 27\n",
      "swap 25, 28\n",
      "swap 26, 28\n",
      "swap 28, 37\n",
      "swap 45, 55\n",
      "swap 50, 55\n",
      "MIPNODE, len(tours): 1\n",
      "OBJBEST: 1e+100, tour cost: 734.2073790501755\n",
      "H    0     0                     734.2073791  663.52012  9.63%     -    0s\n",
      "     0     0  663.52012    0   18  734.20738  663.52012  9.63%     -    0s\n",
      "**** greedy heuristic tour=811.534875, obj=244.718924, tour: [31, 11, 21, 7, 52, 0, 49, 45, 38, 25, 2, 15, 28, 16, 56, 18, 8, 55, 33, 22, 34, 20, 44, 59, 9, 29, 36, 23, 4, 40, 53, 12, 42, 24, 37, 1, 30, 14, 41, 19, 13, 32, 26, 6, 48, 5, 43, 27, 35, 50, 17, 39, 58, 57, 47, 10, 46, 3, 54, 51]\n",
      "swap 11, 20\n",
      "swap 15, 18\n",
      "swap 37, 39\n",
      "swap 42, 45\n",
      "swap 43, 45\n",
      "swap 0, 2\n",
      "swap 1, 18\n",
      "swap 13, 15\n",
      "swap 13, 16\n",
      "swap 14, 16\n",
      "swap 14, 17\n",
      "swap 15, 17\n",
      "swap 18, 59\n",
      "swap 31, 33\n",
      "swap 33, 35\n",
      "swap 33, 36\n",
      "swap 34, 36\n",
      "swap 34, 37\n",
      "swap 36, 38\n",
      "swap 36, 42\n",
      "swap 37, 40\n",
      "swap 40, 42\n",
      "swap 40, 43\n",
      "swap 41, 43\n",
      "MIPNODE, len(tours): 2\n",
      "OBJBEST: 734.2073790501756, tour cost: 714.0914380140774\n",
      "H    0     0                     714.0914380  664.66091  6.92%     -    0s\n",
      "     0     0  664.66091    0   26  714.09144  664.66091  6.92%     -    0s\n",
      "**** greedy heuristic tour=916.051425, obj=394.966507, tour: [31, 11, 33, 22, 51, 0, 52, 7, 21, 55, 8, 18, 56, 16, 28, 15, 2, 25, 38, 45, 49, 53, 40, 4, 23, 36, 29, 9, 59, 44, 20, 54, 46, 3, 34, 58, 39, 17, 50, 35, 27, 43, 48, 5, 32, 13, 19, 37, 24, 14, 30, 1, 6, 26, 42, 12, 41, 57, 47, 10]\n",
      "swap 19, 43\n",
      "swap 22, 24\n",
      "swap 23, 36\n",
      "swap 41, 43\n",
      "swap 0, 4\n",
      "swap 0, 28\n",
      "swap 0, 32\n",
      "swap 0, 33\n",
      "swap 1, 34\n",
      "swap 4, 35\n",
      "swap 5, 33\n",
      "swap 6, 9\n",
      "swap 6, 10\n",
      "swap 27, 57\n",
      "swap 28, 30\n",
      "swap 28, 34\n",
      "swap 31, 37\n",
      "swap 32, 34\n",
      "swap 33, 36\n",
      "swap 45, 57\n",
      "swap 55, 57\n",
      "MIPNODE, len(tours): 2\n",
      "OBJBEST: 714.0914380140775, tour cost: 696.3201747205986\n",
      "H    0     0                     696.3201747  665.37508  4.44%     -    0s\n",
      "     0     0  665.37508    0   24  696.32017  665.37508  4.44%     -    0s\n",
      "**** greedy heuristic tour=824.456285, obj=248.291968, tour: [31, 11, 21, 7, 55, 8, 49, 45, 38, 25, 2, 15, 28, 16, 56, 18, 52, 0, 33, 22, 34, 20, 44, 9, 59, 29, 36, 23, 4, 40, 53, 12, 42, 24, 37, 1, 30, 14, 41, 19, 13, 32, 26, 6, 48, 5, 43, 27, 35, 50, 17, 39, 58, 57, 47, 10, 46, 3, 54, 51]\n",
      "swap 23, 35\n",
      "swap 0, 2\n",
      "swap 1, 18\n",
      "swap 2, 17\n",
      "swap 3, 16\n",
      "swap 18, 59\n",
      "swap 31, 33\n",
      "swap 33, 35\n",
      "swap 33, 36\n",
      "swap 34, 36\n",
      "swap 34, 37\n",
      "swap 36, 38\n",
      "swap 36, 42\n",
      "swap 37, 40\n",
      "swap 40, 42\n",
      "swap 40, 43\n",
      "swap 41, 43\n",
      "swap 52, 54\n",
      "MIPNODE, len(tours): 2\n",
      "OBJBEST: 696.320174720599, tour cost: 686.5819222848687\n",
      "H    0     0                     686.5819223  665.37508  3.09%     -    0s\n",
      "     0     0  665.37508    0   16  686.58192  665.37508  3.09%     -    0s\n",
      "**** greedy heuristic tour=796.821654, obj=222.969680, tour: [31, 11, 21, 7, 52, 0, 49, 45, 38, 25, 2, 15, 28, 16, 56, 18, 8, 55, 33, 22, 34, 20, 44, 59, 9, 29, 36, 23, 4, 40, 53, 12, 42, 24, 37, 19, 13, 32, 26, 6, 1, 30, 41, 14, 5, 48, 43, 27, 35, 50, 17, 39, 58, 57, 47, 10, 46, 3, 54, 51]\n",
      "swap 0, 2\n",
      "swap 1, 18\n",
      "swap 13, 15\n",
      "swap 13, 16\n",
      "swap 14, 16\n",
      "swap 14, 17\n",
      "swap 15, 17\n",
      "swap 18, 59\n",
      "swap 33, 38\n",
      "swap 33, 39\n",
      "swap 33, 40\n",
      "swap 34, 40\n",
      "swap 34, 41\n",
      "swap 40, 43\n",
      "MIPNODE, len(tours): 2\n",
      "OBJBEST: 686.5819222848688, tour cost: 686.5819222848687\n",
      "     0     0  666.96258    0   10  686.58192  666.96258  2.86%     -    0s\n",
      "MIPSOL, subtours: [[30, 14, 41], [6, 1, 37, 19, 26, 24, 42, 12, 53, 40, 4, 23, 36, 29, 9, 59, 31, 0, 52, 7, 49, 45, 38, 25, 2, 15, 28, 16, 56, 18, 8, 55, 21, 11, 51, 33, 22, 34, 44, 20, 54, 3, 46, 10, 47, 57, 58, 39, 17, 50, 35, 27, 43, 48, 5, 32, 13]]\n",
      "MIPSOL, subtours len: 2\n",
      "**** greedy heuristic tour=826.206460, obj=268.115551, tour: [31, 0, 52, 7, 49, 8, 45, 38, 25, 2, 15, 28, 16, 56, 18, 55, 21, 11, 51, 33, 22, 34, 20, 54, 46, 3, 44, 59, 9, 29, 36, 23, 4, 40, 53, 12, 42, 24, 26, 19, 37, 1, 6, 13, 32, 5, 48, 43, 27, 35, 50, 17, 39, 58, 57, 47, 10, 30, 14, 41]\n",
      "swap 0, 9\n",
      "swap 0, 58\n",
      "swap 1, 3\n",
      "swap 1, 6\n",
      "swap 1, 12\n",
      "swap 1, 13\n",
      "swap 1, 17\n",
      "swap 11, 13\n",
      "swap 11, 14\n",
      "swap 17, 20\n",
      "swap 23, 49\n",
      "swap 23, 57\n",
      "swap 25, 51\n",
      "swap 33, 36\n",
      "swap 34, 36\n",
      "MIPNODE, len(tours): 1\n",
      "MIPSOL, subtours: [[15, 2, 25, 38, 45, 49, 7, 52, 0, 31, 22, 33, 51, 11, 21, 55, 8, 18, 56, 16, 28], [6, 1, 30, 41, 14, 24, 42, 12, 53, 40, 4, 23, 36, 29, 9, 59, 44, 34, 20, 54, 3, 46, 10, 47, 57, 58, 39, 17, 50, 35, 27, 43, 48, 5, 32, 26, 37, 19, 13]]\n",
      "MIPSOL, subtours len: 2\n",
      "MIPSOL, subtours: [[15, 2, 25, 38, 45, 49, 7, 52, 0, 31, 34, 22, 33, 51, 11, 21, 55, 8, 18, 56, 16, 28], [6, 1, 30, 41, 14, 24, 42, 12, 53, 40, 4, 23, 36, 29, 9, 59, 44, 20, 54, 3, 46, 10, 47, 57, 58, 39, 17, 50, 35, 27, 43, 48, 5, 32, 26, 37, 19, 13]]\n",
      "MIPSOL, subtours len: 2\n",
      "     0     0  670.59128    0   14  686.58192  670.59128  2.33%     -    0s\n",
      "**** greedy heuristic tour=768.787173, obj=170.831955, tour: [31, 34, 22, 33, 51, 11, 21, 55, 8, 18, 56, 16, 45, 38, 53, 12, 25, 2, 28, 15, 42, 24, 14, 41, 30, 1, 6, 13, 19, 37, 26, 32, 5, 48, 43, 27, 35, 50, 17, 39, 58, 57, 47, 10, 46, 3, 54, 20, 44, 59, 9, 29, 36, 23, 4, 40, 52, 0, 7, 49]\n",
      "swap 0, 56\n",
      "swap 36, 44\n",
      "swap 42, 44\n",
      "swap 56, 58\n",
      "MIPNODE, len(tours): 1\n",
      "MIPSOL, subtours: [[15, 2, 28], [18, 8, 55, 21, 11, 51, 33, 22, 31, 0, 52, 7, 49, 45, 16, 56], [6, 1, 30, 41, 14, 24, 42, 12, 25, 38, 53, 40, 4, 23, 36, 29, 9, 59, 44, 34, 20, 54, 3, 46, 10, 47, 57, 58, 39, 17, 50, 35, 27, 43, 48, 5, 32, 26, 37, 19, 13]]\n",
      "MIPSOL, subtours len: 3\n",
      "MIPSOL, subtours: [[23, 4, 36], [31, 0, 52], [29, 9, 44, 59], [6, 1, 30, 41, 14, 24, 42, 12, 40, 53, 38, 25, 2, 15, 28, 16, 56, 18, 8, 45, 49, 7, 55, 21, 11, 51, 33, 22, 34, 20, 54, 3, 46, 10, 47, 57, 58, 39, 17, 50, 35, 27, 43, 48, 5, 32, 26, 37, 19, 13]]\n",
      "MIPSOL, subtours len: 4\n"
     ]
    },
    {
     "name": "stdout",
     "output_type": "stream",
     "text": [
      "*    0     0               0     673.7521420  673.75214  0.00%     -    0s\n",
      "\n",
      "Cutting planes:\n",
      "  Gomory: 6\n",
      "  Zero half: 5\n",
      "  Lazy constraints: 8\n",
      "\n",
      "Explored 1 nodes (242 simplex iterations) in 0.84 seconds (0.02 work units)\n",
      "Thread count was 4 (of 4 available processors)\n",
      "\n",
      "Solution count 5: 673.752 686.582 696.32 ... 734.207\n",
      "\n",
      "Optimal solution found (tolerance 0.00e+00)\n",
      "Best objective 6.737521419883e+02, best bound 6.737521419883e+02, gap 0.0000%\n",
      "\n",
      "User-callback calls 278, time in user-callback 0.56 sec\n",
      "\n",
      "Optimal TSP tour: [6, 1, 30, 41, 14, 24, 42, 12, 25, 2, 15, 28, 16, 56, 18, 8, 55, 21, 11, 51, 33, 22, 31, 0, 52, 7, 49, 45, 38, 53, 40, 4, 23, 36, 29, 9, 59, 44, 34, 20, 54, 3, 46, 10, 47, 57, 58, 39, 17, 50, 35, 27, 43, 48, 5, 32, 26, 37, 19, 13]\n",
      "Cost: 673.752\n"
     ]
    },
    {
     "data": {
      "text/html": [
       "\n",
       "\n",
       "\n",
       "\n",
       "\n",
       "\n",
       "  <div class=\"bk-root\" id=\"f99900b6-6b2a-403e-972f-9acd28b648ec\" data-root-id=\"10756\"></div>\n"
      ]
     },
     "metadata": {},
     "output_type": "display_data"
    },
    {
     "data": {
      "application/javascript": [
       "(function(root) {\n",
       "  function embed_document(root) {\n",
       "    \n",
       "  const docs_json = {\"6799e155-28ac-4f5e-a977-02365d31e015\":{\"defs\":[],\"roots\":{\"references\":[{\"attributes\":{\"below\":[{\"id\":\"10767\"}],\"center\":[{\"id\":\"10770\"},{\"id\":\"10774\"}],\"left\":[{\"id\":\"10771\"}],\"renderers\":[{\"id\":\"10793\"},{\"id\":\"10799\"}],\"title\":{\"id\":\"10757\"},\"toolbar\":{\"id\":\"10782\"},\"x_range\":{\"id\":\"10759\"},\"x_scale\":{\"id\":\"10763\"},\"y_range\":{\"id\":\"10761\"},\"y_scale\":{\"id\":\"10765\"}},\"id\":\"10756\",\"subtype\":\"Figure\",\"type\":\"Plot\"},{\"attributes\":{\"coordinates\":null,\"group\":null,\"text\":\"Optimal TSP tour on 60 cities, length=673.752142\"},\"id\":\"10757\",\"type\":\"Title\"},{\"attributes\":{\"overlay\":{\"id\":\"10781\"}},\"id\":\"10777\",\"type\":\"BoxZoomTool\"},{\"attributes\":{},\"id\":\"10768\",\"type\":\"BasicTicker\"},{\"attributes\":{},\"id\":\"11193\",\"type\":\"Selection\"},{\"attributes\":{},\"id\":\"10780\",\"type\":\"HelpTool\"},{\"attributes\":{\"bottom_units\":\"screen\",\"coordinates\":null,\"fill_alpha\":0.5,\"fill_color\":\"lightgrey\",\"group\":null,\"left_units\":\"screen\",\"level\":\"overlay\",\"line_alpha\":1.0,\"line_color\":\"black\",\"line_dash\":[4,4],\"line_width\":2,\"right_units\":\"screen\",\"syncable\":false,\"top_units\":\"screen\"},\"id\":\"10781\",\"type\":\"BoxAnnotation\"},{\"attributes\":{\"line_color\":\"#1f77b4\",\"x\":{\"field\":\"x\"},\"y\":{\"field\":\"y\"}},\"id\":\"10796\",\"type\":\"Line\"},{\"attributes\":{},\"id\":\"10763\",\"type\":\"LinearScale\"},{\"attributes\":{},\"id\":\"11187\",\"type\":\"BasicTickFormatter\"},{\"attributes\":{\"end\":100},\"id\":\"10759\",\"type\":\"Range1d\"},{\"attributes\":{\"data\":{\"x\":[17,97,32,63,57,83,100,12,3,55,97,0,57,92,75,40,2,83,1,87,54,3,28,56,70,44,86,97,37,53,82,23,92,15,42,91,54,85,38,75,64,75,61,95,53,22,70,99,94,11,84,13,20,50,62,3,5,90,75,50],\"y\":[72,8,15,97,60,48,26,62,49,77,98,89,34,29,13,3,3,69,48,27,92,67,97,63,29,29,28,58,2,71,12,80,37,95,92,64,64,24,36,63,50,4,31,51,85,46,89,86,47,56,65,99,66,47,93,60,39,78,74,82]},\"selected\":{\"id\":\"11193\"},\"selection_policy\":{\"id\":\"11192\"}},\"id\":\"10789\",\"type\":\"ColumnDataSource\"},{\"attributes\":{\"line_alpha\":0.1,\"line_color\":\"#1f77b4\",\"x\":{\"field\":\"x\"},\"y\":{\"field\":\"y\"}},\"id\":\"10797\",\"type\":\"Line\"},{\"attributes\":{\"source\":{\"id\":\"10795\"}},\"id\":\"10800\",\"type\":\"CDSView\"},{\"attributes\":{},\"id\":\"11192\",\"type\":\"UnionRenderers\"},{\"attributes\":{\"coordinates\":null,\"data_source\":{\"id\":\"10795\"},\"glyph\":{\"id\":\"10796\"},\"group\":null,\"hover_glyph\":null,\"muted_glyph\":{\"id\":\"10798\"},\"nonselection_glyph\":{\"id\":\"10797\"},\"view\":{\"id\":\"10800\"}},\"id\":\"10799\",\"type\":\"GlyphRenderer\"},{\"attributes\":{\"fill_color\":{\"value\":\"#1f77b4\"},\"line_color\":{\"value\":\"#1f77b4\"},\"size\":{\"value\":8},\"x\":{\"field\":\"x\"},\"y\":{\"field\":\"y\"}},\"id\":\"10790\",\"type\":\"Circle\"},{\"attributes\":{},\"id\":\"10778\",\"type\":\"SaveTool\"},{\"attributes\":{},\"id\":\"11190\",\"type\":\"BasicTickFormatter\"},{\"attributes\":{},\"id\":\"11188\",\"type\":\"AllLabels\"},{\"attributes\":{},\"id\":\"10765\",\"type\":\"LinearScale\"},{\"attributes\":{\"data\":{\"x\":[100,97,82,75,75,70,61,57,44,32,40,37,2,5,1,3,3,3,0,13,15,28,23,17,20,12,11,22,38,50,64,57,56,54,53,55,50,53,42,54,62,63,70,97,99,90,75,75,83,84,91,97,95,94,83,92,86,85,87,92,100],\"y\":[26,8,12,4,13,29,31,34,29,15,3,2,3,39,48,49,60,67,89,99,95,97,80,72,66,62,56,46,36,47,50,60,63,64,71,77,82,85,92,92,93,97,89,98,86,78,74,63,69,65,64,58,51,47,48,37,28,24,27,29,26]},\"selected\":{\"id\":\"11195\"},\"selection_policy\":{\"id\":\"11194\"}},\"id\":\"10795\",\"type\":\"ColumnDataSource\"},{\"attributes\":{},\"id\":\"10776\",\"type\":\"WheelZoomTool\"},{\"attributes\":{\"source\":{\"id\":\"10789\"}},\"id\":\"10794\",\"type\":\"CDSView\"},{\"attributes\":{},\"id\":\"11195\",\"type\":\"Selection\"},{\"attributes\":{\"coordinates\":null,\"data_source\":{\"id\":\"10789\"},\"glyph\":{\"id\":\"10790\"},\"group\":null,\"hover_glyph\":null,\"muted_glyph\":{\"id\":\"10792\"},\"nonselection_glyph\":{\"id\":\"10791\"},\"view\":{\"id\":\"10794\"}},\"id\":\"10793\",\"type\":\"GlyphRenderer\"},{\"attributes\":{\"fill_alpha\":{\"value\":0.2},\"fill_color\":{\"value\":\"#1f77b4\"},\"hatch_alpha\":{\"value\":0.2},\"line_alpha\":{\"value\":0.2},\"line_color\":{\"value\":\"#1f77b4\"},\"size\":{\"value\":8},\"x\":{\"field\":\"x\"},\"y\":{\"field\":\"y\"}},\"id\":\"10792\",\"type\":\"Circle\"},{\"attributes\":{\"line_alpha\":0.2,\"line_color\":\"#1f77b4\",\"x\":{\"field\":\"x\"},\"y\":{\"field\":\"y\"}},\"id\":\"10798\",\"type\":\"Line\"},{\"attributes\":{\"tools\":[{\"id\":\"10775\"},{\"id\":\"10776\"},{\"id\":\"10777\"},{\"id\":\"10778\"},{\"id\":\"10779\"},{\"id\":\"10780\"}]},\"id\":\"10782\",\"type\":\"Toolbar\"},{\"attributes\":{},\"id\":\"11191\",\"type\":\"AllLabels\"},{\"attributes\":{},\"id\":\"10779\",\"type\":\"ResetTool\"},{\"attributes\":{\"fill_alpha\":{\"value\":0.1},\"fill_color\":{\"value\":\"#1f77b4\"},\"hatch_alpha\":{\"value\":0.1},\"line_alpha\":{\"value\":0.1},\"line_color\":{\"value\":\"#1f77b4\"},\"size\":{\"value\":8},\"x\":{\"field\":\"x\"},\"y\":{\"field\":\"y\"}},\"id\":\"10791\",\"type\":\"Circle\"},{\"attributes\":{},\"id\":\"11194\",\"type\":\"UnionRenderers\"},{\"attributes\":{\"axis\":{\"id\":\"10771\"},\"coordinates\":null,\"dimension\":1,\"group\":null,\"ticker\":null},\"id\":\"10774\",\"type\":\"Grid\"},{\"attributes\":{\"axis\":{\"id\":\"10767\"},\"coordinates\":null,\"group\":null,\"ticker\":null},\"id\":\"10770\",\"type\":\"Grid\"},{\"attributes\":{\"coordinates\":null,\"formatter\":{\"id\":\"11187\"},\"group\":null,\"major_label_policy\":{\"id\":\"11188\"},\"ticker\":{\"id\":\"10772\"}},\"id\":\"10771\",\"type\":\"LinearAxis\"},{\"attributes\":{\"end\":100},\"id\":\"10761\",\"type\":\"Range1d\"},{\"attributes\":{},\"id\":\"10775\",\"type\":\"PanTool\"},{\"attributes\":{\"coordinates\":null,\"formatter\":{\"id\":\"11190\"},\"group\":null,\"major_label_policy\":{\"id\":\"11191\"},\"ticker\":{\"id\":\"10768\"}},\"id\":\"10767\",\"type\":\"LinearAxis\"},{\"attributes\":{},\"id\":\"10772\",\"type\":\"BasicTicker\"}],\"root_ids\":[\"10756\"]},\"title\":\"Bokeh Application\",\"version\":\"2.4.2\"}};\n",
       "  const render_items = [{\"docid\":\"6799e155-28ac-4f5e-a977-02365d31e015\",\"root_ids\":[\"10756\"],\"roots\":{\"10756\":\"f99900b6-6b2a-403e-972f-9acd28b648ec\"}}];\n",
       "  root.Bokeh.embed.embed_items_notebook(docs_json, render_items);\n",
       "\n",
       "  }\n",
       "  if (root.Bokeh !== undefined) {\n",
       "    embed_document(root);\n",
       "  } else {\n",
       "    let attempts = 0;\n",
       "    const timer = setInterval(function(root) {\n",
       "      if (root.Bokeh !== undefined) {\n",
       "        clearInterval(timer);\n",
       "        embed_document(root);\n",
       "      } else {\n",
       "        attempts++;\n",
       "        if (attempts > 100) {\n",
       "          clearInterval(timer);\n",
       "          console.log(\"Bokeh: ERROR: Unable to run BokehJS code because BokehJS library is missing\");\n",
       "        }\n",
       "      }\n",
       "    }, 10, root)\n",
       "  }\n",
       "})(window);"
      ],
      "application/vnd.bokehjs_exec.v0+json": ""
     },
     "metadata": {
      "application/vnd.bokehjs_exec.v0+json": {
       "id": "10756"
      }
     },
     "output_type": "display_data"
    },
    {
     "name": "stdout",
     "output_type": "stream",
     "text": [
      "\n"
     ]
    }
   ],
   "source": [
    "def combo(model, where):\n",
    "    greedycb(model, where)\n",
    "    swapcb(model, where)\n",
    "\n",
    "m = tspmip(n, dist)\n",
    "m.optimize(tspcb(combo))\n",
    "checksol(m)\n",
    "addruntimes(runtimes, 'GS', m)"
   ]
  },
  {
   "cell_type": "markdown",
   "id": "79f1726c",
   "metadata": {
    "slideshow": {
     "slide_type": "slide"
    }
   },
   "source": [
    "### Combination: Patch + Swap"
   ]
  },
  {
   "cell_type": "code",
   "execution_count": 73,
   "id": "efbc3575",
   "metadata": {
    "slideshow": {
     "slide_type": "subslide"
    }
   },
   "outputs": [
    {
     "name": "stdout",
     "output_type": "stream",
     "text": [
      "Set parameter LazyConstraints to value 1\n",
      "Set parameter MIPGap to value 0\n",
      "Set parameter TimeLimit to value 60\n",
      "Set parameter MIPGapAbs to value 5.0765999888398028e-03\n",
      "gapabs: 0.005076599988839803\n",
      "Gurobi Optimizer version 9.5.1 build v9.5.1rc2 (mac64[x86])\n",
      "Thread count: 2 physical cores, 4 logical processors, using up to 4 threads\n",
      "Optimize a model with 60 rows, 1770 columns and 3540 nonzeros\n",
      "Model fingerprint: 0xe22ed164\n",
      "Variable types: 0 continuous, 1770 integer (1770 binary)\n",
      "Coefficient statistics:\n",
      "  Matrix range     [1e+00, 1e+00]\n",
      "  Objective range  [1e+00, 1e+02]\n",
      "  Bounds range     [1e+00, 1e+00]\n",
      "  RHS range        [2e+00, 2e+00]\n",
      "MIPSOL, subtours: [[9, 4, 30], [20, 15, 35, 51, 48, 50], [38, 23, 49, 11, 45, 21, 53], [7, 0, 44, 55, 5, 33, 37, 58, 14, 43, 8, 27, 47, 22, 26, 16, 10, 34, 59, 1, 42, 41, 36, 39, 28, 31, 46, 40, 54, 12, 57, 13, 19, 2, 18, 32, 25, 17, 52, 29, 24, 6, 56, 3]]\n",
      "MIPSOL, subtours len: 4\n",
      "Presolve time: 0.01s\n",
      "Presolved: 60 rows, 1770 columns, 3540 nonzeros\n",
      "Variable types: 0 continuous, 1770 integer (1770 binary)\n",
      "MIPSOL, subtours: [[30, 28, 31, 29], [32, 26, 33, 27], [34, 24, 35, 25], [36, 22, 37, 23], [38, 20, 39, 21], [40, 18, 41, 19], [42, 16, 43, 17], [44, 14, 45, 15], [46, 12, 47, 13], [48, 10, 49, 11], [50, 8, 51, 9], [52, 6, 53, 7], [54, 4, 55, 5], [56, 2, 57, 3], [58, 0, 59, 1]]\n",
      "MIPSOL, subtours len: 15\n",
      "\n",
      "Root relaxation: objective 6.321593e+02, 79 iterations, 0.00 seconds (0.00 work units)\n",
      "\n",
      "    Nodes    |    Current Node    |     Objective Bounds      |     Work\n",
      " Expl Unexpl |  Obj  Depth IntInf | Incumbent    BestBd   Gap | It/Node Time\n",
      "\n",
      "     0     0  632.15925    0    6          -  632.15925      -     -    0s\n",
      "MIPSOL, subtours: [[18, 8, 56], [24, 12, 42], [26, 19, 37], [33, 11, 51], [46, 3, 54], [47, 10, 57], [15, 13, 32, 5, 48, 43, 27, 35, 50, 0, 52, 7, 21, 55, 49, 45, 38, 25, 53, 40, 4, 23, 36, 29, 9, 59, 44, 20, 34, 22, 31, 2, 30, 14, 41, 1, 39, 58, 17, 6, 16, 28]]\n",
      "MIPSOL, subtours len: 7\n",
      "MIPSOL, subtours: [[50, 17, 58, 39], [21, 7, 52, 0, 31, 22, 34, 20, 44, 59, 9, 29, 36, 23, 4, 40, 53, 25, 38, 45, 49, 55], [6, 1, 41, 14, 30, 37, 26, 19, 24, 12, 42, 2, 16, 28, 15, 56, 18, 8, 11, 51, 33, 3, 54, 46, 10, 57, 47, 35, 27, 43, 48, 5, 32, 13]]\n",
      "MIPSOL, subtours len: 3\n",
      "MIPSOL, subtours: [[30, 1, 41], [39, 17, 50], [15, 2, 16, 28], [18, 8, 55, 21, 11, 51, 33, 22, 31, 0, 52, 7, 49, 45, 56], [13, 6, 32, 5, 48, 43, 27, 35, 57, 47, 10, 58, 46, 3, 54, 20, 34, 44, 59, 9, 29, 36, 23, 4, 40, 53, 38, 25, 12, 42, 24, 14, 37, 26, 19]]\n",
      "MIPSOL, subtours len: 5\n",
      "swap 0, 2\n",
      "swap 0, 3\n",
      "swap 0, 24\n",
      "swap 0, 25\n",
      "swap 0, 40\n",
      "swap 0, 41\n",
      "swap 0, 49\n",
      "swap 0, 55\n",
      "swap 1, 4\n",
      "swap 1, 5\n",
      "swap 1, 6\n",
      "swap 1, 7\n",
      "swap 1, 9\n",
      "swap 1, 12\n",
      "swap 1, 13\n",
      "swap 1, 15\n",
      "swap 1, 16\n",
      "swap 1, 20\n",
      "swap 1, 21\n",
      "swap 1, 24\n",
      "swap 2, 26\n",
      "swap 2, 27\n",
      "swap 3, 14\n",
      "swap 3, 15\n",
      "swap 3, 20\n",
      "swap 3, 47\n",
      "swap 3, 48\n",
      "swap 6, 29\n",
      "swap 6, 30\n",
      "swap 6, 47\n",
      "swap 6, 50\n",
      "swap 7, 9\n",
      "swap 7, 10\n",
      "swap 7, 23\n",
      "swap 7, 53\n",
      "swap 8, 11\n",
      "swap 8, 37\n",
      "swap 8, 38\n",
      "swap 8, 56\n",
      "swap 8, 57\n",
      "swap 9, 41\n",
      "swap 9, 42\n",
      "swap 10, 51\n",
      "swap 10, 52\n",
      "swap 10, 53\n",
      "swap 10, 54\n",
      "swap 11, 13\n",
      "swap 11, 55\n",
      "swap 12, 14\n",
      "swap 12, 18\n",
      "swap 12, 20\n",
      "swap 12, 38\n",
      "swap 12, 39\n",
      "swap 12, 50\n",
      "swap 12, 51\n",
      "swap 12, 57\n",
      "swap 12, 58\n",
      "swap 13, 17\n",
      "swap 13, 19\n",
      "swap 13, 20\n",
      "swap 13, 24\n",
      "swap 13, 25\n",
      "swap 14, 27\n",
      "swap 16, 26\n",
      "swap 16, 27\n",
      "swap 16, 43\n",
      "swap 16, 48\n",
      "swap 17, 19\n",
      "swap 17, 22\n",
      "swap 18, 30\n",
      "swap 18, 32\n",
      "swap 18, 43\n",
      "swap 18, 48\n",
      "swap 19, 28\n",
      "swap 19, 29\n",
      "swap 19, 48\n",
      "swap 20, 22\n",
      "swap 20, 37\n",
      "swap 20, 38\n",
      "swap 20, 45\n",
      "swap 20, 49\n",
      "swap 20, 51\n",
      "swap 20, 52\n",
      "swap 21, 23\n",
      "swap 22, 24\n",
      "swap 24, 27\n",
      "swap 27, 29\n",
      "swap 27, 30\n",
      "swap 27, 31\n",
      "swap 27, 44\n",
      "swap 27, 58\n",
      "swap 28, 32\n",
      "swap 28, 33\n",
      "swap 28, 41\n",
      "swap 28, 42\n",
      "swap 30, 43\n",
      "swap 31, 37\n",
      "swap 31, 39\n",
      "swap 31, 43\n",
      "swap 31, 44\n",
      "swap 32, 57\n",
      "swap 32, 59\n",
      "swap 33, 35\n",
      "swap 33, 36\n",
      "swap 33, 37\n",
      "swap 33, 41\n",
      "swap 33, 52\n",
      "swap 33, 56\n",
      "swap 33, 57\n",
      "swap 33, 58\n",
      "swap 34, 36\n",
      "swap 34, 37\n",
      "swap 34, 38\n",
      "swap 34, 39\n",
      "swap 34, 43\n",
      "swap 35, 37\n",
      "swap 35, 43\n",
      "swap 36, 40\n",
      "swap 36, 41\n",
      "swap 36, 43\n",
      "swap 38, 40\n",
      "swap 43, 50\n",
      "swap 44, 46\n",
      "swap 44, 57\n",
      "swap 44, 58\n",
      "swap 46, 48\n",
      "swap 46, 51\n",
      "swap 46, 52\n",
      "swap 46, 53\n",
      "swap 46, 58\n",
      "swap 46, 59\n",
      "swap 48, 50\n",
      "swap 53, 59\n",
      "swap 0, 4\n",
      "swap 0, 6\n",
      "swap 0, 7\n",
      "swap 0, 9\n",
      "swap 0, 13\n",
      "swap 0, 15\n",
      "swap 0, 17\n",
      "swap 0, 19\n",
      "swap 0, 26\n",
      "swap 0, 27\n",
      "swap 0, 28\n",
      "swap 0, 29\n",
      "swap 0, 31\n",
      "swap 0, 33\n",
      "swap 0, 34\n",
      "swap 0, 36\n",
      "swap 0, 43\n",
      "swap 0, 44\n",
      "swap 0, 45\n",
      "swap 0, 47\n",
      "swap 0, 49\n",
      "swap 0, 50\n",
      "swap 0, 51\n",
      "swap 0, 53\n",
      "swap 0, 54\n",
      "swap 0, 56\n",
      "swap 0, 57\n",
      "swap 1, 14\n",
      "swap 1, 19\n",
      "swap 1, 21\n",
      "swap 1, 23\n",
      "swap 1, 24\n",
      "swap 1, 26\n",
      "swap 1, 32\n",
      "swap 1, 42\n",
      "swap 1, 47\n",
      "swap 1, 48\n",
      "swap 1, 49\n",
      "swap 1, 50\n",
      "swap 2, 6\n",
      "swap 2, 7\n",
      "swap 2, 12\n",
      "swap 2, 13\n",
      "swap 2, 22\n",
      "swap 2, 24\n",
      "swap 2, 49\n",
      "swap 3, 6\n",
      "swap 3, 7\n",
      "swap 4, 8\n",
      "swap 4, 27\n",
      "swap 4, 49\n",
      "swap 4, 50\n",
      "swap 5, 10\n",
      "swap 5, 11\n",
      "swap 5, 16\n",
      "swap 5, 28\n",
      "swap 7, 9\n",
      "swap 9, 14\n",
      "swap 9, 15\n",
      "swap 9, 16\n",
      "swap 9, 17\n",
      "swap 10, 12\n",
      "swap 12, 15\n",
      "swap 12, 18\n",
      "swap 13, 17\n",
      "swap 13, 19\n",
      "swap 16, 31\n",
      "swap 16, 32\n",
      "swap 16, 35\n",
      "swap 16, 36\n",
      "swap 17, 19\n",
      "swap 17, 57\n",
      "swap 17, 59\n",
      "swap 18, 27\n",
      "swap 18, 28\n",
      "swap 18, 40\n",
      "swap 18, 41\n",
      "swap 20, 29\n",
      "swap 20, 30\n",
      "swap 20, 56\n",
      "swap 20, 57\n",
      "swap 22, 26\n",
      "swap 23, 26\n",
      "swap 28, 57\n",
      "swap 29, 44\n",
      "swap 29, 46\n",
      "swap 30, 32\n",
      "swap 30, 48\n",
      "swap 30, 49\n",
      "swap 31, 54\n",
      "swap 31, 56\n",
      "swap 32, 34\n",
      "swap 32, 47\n",
      "swap 32, 51\n",
      "swap 32, 54\n",
      "swap 32, 55\n",
      "swap 33, 35\n",
      "swap 33, 39\n",
      "swap 34, 39\n",
      "swap 34, 52\n",
      "swap 34, 53\n",
      "swap 36, 39\n",
      "swap 40, 54\n",
      "swap 41, 53\n",
      "swap 43, 45\n",
      "swap 43, 46\n",
      "swap 43, 49\n",
      "swap 49, 51\n",
      "swap 49, 52\n",
      "swap 50, 52\n",
      "swap 54, 57\n",
      "swap 57, 59\n",
      "swap 0, 2\n",
      "swap 0, 3\n",
      "swap 0, 21\n",
      "swap 0, 24\n",
      "swap 0, 26\n",
      "swap 0, 27\n",
      "swap 1, 7\n",
      "swap 1, 25\n",
      "swap 1, 26\n",
      "swap 2, 6\n",
      "swap 4, 59\n",
      "swap 5, 7\n",
      "swap 5, 13\n",
      "swap 5, 14\n",
      "swap 5, 17\n",
      "swap 5, 18\n",
      "swap 5, 21\n",
      "swap 5, 22\n",
      "swap 8, 11\n",
      "swap 8, 19\n",
      "swap 8, 38\n",
      "swap 8, 59\n",
      "swap 12, 16\n",
      "swap 12, 59\n",
      "swap 14, 18\n",
      "swap 14, 50\n",
      "swap 20, 22\n",
      "swap 22, 24\n",
      "swap 22, 25\n",
      "swap 25, 29\n",
      "swap 25, 38\n",
      "swap 25, 39\n",
      "swap 26, 47\n",
      "swap 27, 44\n",
      "swap 29, 31\n",
      "swap 29, 32\n",
      "swap 32, 34\n",
      "swap 32, 35\n",
      "swap 41, 47\n",
      "swap 45, 47\n",
      "swap 48, 50\n",
      "swap 50, 54\n",
      "swap 52, 54\n",
      "swap 56, 58\n",
      "swap 2, 56\n",
      "swap 2, 58\n",
      "swap 18, 20\n",
      "swap 21, 23\n",
      "swap 23, 27\n",
      "swap 25, 27\n",
      "swap 30, 40\n",
      "swap 30, 42\n",
      "swap 35, 37\n",
      "swap 35, 38\n",
      "swap 36, 55\n",
      "swap 54, 56\n",
      "swap 55, 57\n",
      "swap 0, 2\n",
      "swap 0, 3\n",
      "swap 0, 58\n",
      "swap 4, 21\n",
      "swap 8, 21\n",
      "swap 16, 32\n",
      "swap 16, 33\n",
      "swap 18, 32\n",
      "swap 18, 33\n",
      "swap 39, 44\n",
      "swap 40, 42\n",
      "swap 42, 44\n",
      "swap 42, 45\n",
      "swap 43, 45\n",
      "swap 51, 55\n",
      "MIPNODE, len(tours): 5\n",
      "OBJBEST: 1e+100, tour cost: 716.8404563291849\n",
      "H    0     0                     716.8404563  663.52012  7.44%     -    0s\n",
      "     0     0  663.52012    0   18  716.84046  663.52012  7.44%     -    0s\n",
      "swap 11, 33\n",
      "swap 20, 41\n",
      "swap 28, 31\n",
      "swap 29, 31\n",
      "MIPNODE, len(tours): 1\n",
      "OBJBEST: 716.8404563291849, tour cost: 693.9893011623957\n",
      "H    0     0                     693.9893012  664.66091  4.23%     -    0s\n",
      "     0     0  664.66091    0   26  693.98930  664.66091  4.23%     -    0s\n",
      "swap 18, 20\n",
      "MIPNODE, len(tours): 1\n",
      "OBJBEST: 693.989301162396, tour cost: 691.8246046916362\n",
      "H    0     0                     691.8246047  664.66091  3.93%     -    0s\n",
      "     0     0  664.66091    0   16  691.82460  664.66091  3.93%     -    0s\n",
      "MIPNODE, len(tours): 1\n",
      "OBJBEST: 691.8246046916364, tour cost: 691.8246046916362\n",
      "     0     0  665.24910    0   24  691.82460  665.24910  3.84%     -    0s\n",
      "MIPSOL, subtours: [[30, 14, 41], [15, 2, 25, 38, 45, 49, 7, 52, 0, 31, 22, 33, 51, 11, 21, 55, 8, 18, 56, 16, 28], [6, 1, 37, 19, 26, 24, 42, 12, 53, 40, 4, 23, 36, 29, 9, 59, 44, 34, 20, 54, 3, 46, 10, 47, 57, 58, 39, 17, 50, 35, 27, 43, 48, 5, 32, 13]]\n",
      "MIPSOL, subtours len: 3\n",
      "H    0     0                     683.8902338  665.24910  2.73%     -    0s\n",
      "swap 0, 2\n",
      "swap 1, 59\n",
      "swap 3, 58\n",
      "swap 4, 58\n",
      "swap 6, 8\n",
      "swap 6, 28\n",
      "swap 7, 26\n",
      "swap 7, 27\n",
      "swap 7, 28\n",
      "MIPNODE, len(tours): 2\n",
      "OBJBEST: 683.8902337890871, tour cost: 680.8464082428474\n",
      "MIPSOL, subtours: [[15, 2, 25, 38, 45, 49, 7, 52, 0, 31, 34, 22, 33, 51, 11, 21, 55, 8, 18, 56, 16, 28], [6, 1, 30, 41, 14, 24, 42, 12, 53, 40, 4, 23, 36, 29, 9, 59, 44, 20, 54, 3, 46, 10, 47, 57, 58, 39, 17, 50, 35, 27, 43, 48, 5, 32, 26, 37, 19, 13]]\n",
      "MIPSOL, subtours len: 2\n",
      "H    0     0                     680.8464082  670.59128  1.51%     -    0s\n",
      "     0     0  670.59128    0   14  680.84641  670.59128  1.51%     -    0s\n",
      "swap 3, 42\n",
      "swap 5, 7\n",
      "swap 5, 8\n",
      "MIPNODE, len(tours): 2\n",
      "OBJBEST: 680.8464082428475, tour cost: 676.9756649664658\n",
      "MIPSOL, subtours: [[15, 2, 28], [18, 8, 55, 21, 11, 51, 33, 22, 31, 0, 52, 7, 49, 45, 16, 56], [6, 1, 30, 41, 14, 24, 42, 12, 25, 38, 53, 40, 4, 23, 36, 29, 9, 59, 44, 34, 20, 54, 3, 46, 10, 47, 57, 58, 39, 17, 50, 35, 27, 43, 48, 5, 32, 26, 37, 19, 13]]\n",
      "MIPSOL, subtours len: 3\n"
     ]
    },
    {
     "name": "stdout",
     "output_type": "stream",
     "text": [
      "MIPSOL, subtours: [[23, 4, 36], [31, 0, 52], [29, 9, 44, 59], [6, 1, 30, 41, 14, 24, 42, 12, 40, 53, 38, 25, 2, 15, 28, 16, 56, 18, 8, 45, 49, 7, 55, 21, 11, 51, 33, 22, 34, 20, 54, 3, 46, 10, 47, 57, 58, 39, 17, 50, 35, 27, 43, 48, 5, 32, 26, 37, 19, 13]]\n",
      "MIPSOL, subtours len: 4\n",
      "*    0     0               0     673.7521420  673.75214  0.00%     -    0s\n",
      "\n",
      "Cutting planes:\n",
      "  Gomory: 6\n",
      "  Zero half: 4\n",
      "  Lazy constraints: 8\n",
      "\n",
      "Explored 1 nodes (217 simplex iterations) in 0.84 seconds (0.02 work units)\n",
      "Thread count was 4 (of 4 available processors)\n",
      "\n",
      "Solution count 6: 673.752 680.846 683.89 ... 716.84\n",
      "\n",
      "Optimal solution found (tolerance 0.00e+00)\n",
      "Best objective 6.737521419883e+02, best bound 6.737521419883e+02, gap 0.0000%\n",
      "\n",
      "User-callback calls 266, time in user-callback 0.58 sec\n",
      "\n",
      "Optimal TSP tour: [6, 1, 30, 41, 14, 24, 42, 12, 25, 2, 15, 28, 16, 56, 18, 8, 55, 21, 11, 51, 33, 22, 31, 0, 52, 7, 49, 45, 38, 53, 40, 4, 23, 36, 29, 9, 59, 44, 34, 20, 54, 3, 46, 10, 47, 57, 58, 39, 17, 50, 35, 27, 43, 48, 5, 32, 26, 37, 19, 13]\n",
      "Cost: 673.752\n"
     ]
    },
    {
     "data": {
      "text/html": [
       "\n",
       "\n",
       "\n",
       "\n",
       "\n",
       "\n",
       "  <div class=\"bk-root\" id=\"95bb4826-b786-49fd-b7ee-2f95304f98f3\" data-root-id=\"11257\"></div>\n"
      ]
     },
     "metadata": {},
     "output_type": "display_data"
    },
    {
     "data": {
      "application/javascript": [
       "(function(root) {\n",
       "  function embed_document(root) {\n",
       "    \n",
       "  const docs_json = {\"fca87579-e814-4f04-97dc-d6d37b46d352\":{\"defs\":[],\"roots\":{\"references\":[{\"attributes\":{\"below\":[{\"id\":\"11268\"}],\"center\":[{\"id\":\"11271\"},{\"id\":\"11275\"}],\"left\":[{\"id\":\"11272\"}],\"renderers\":[{\"id\":\"11294\"},{\"id\":\"11300\"}],\"title\":{\"id\":\"11258\"},\"toolbar\":{\"id\":\"11283\"},\"x_range\":{\"id\":\"11260\"},\"x_scale\":{\"id\":\"11264\"},\"y_range\":{\"id\":\"11262\"},\"y_scale\":{\"id\":\"11266\"}},\"id\":\"11257\",\"subtype\":\"Figure\",\"type\":\"Plot\"},{\"attributes\":{\"axis\":{\"id\":\"11272\"},\"coordinates\":null,\"dimension\":1,\"group\":null,\"ticker\":null},\"id\":\"11275\",\"type\":\"Grid\"},{\"attributes\":{},\"id\":\"11705\",\"type\":\"UnionRenderers\"},{\"attributes\":{\"fill_alpha\":{\"value\":0.1},\"fill_color\":{\"value\":\"#1f77b4\"},\"hatch_alpha\":{\"value\":0.1},\"line_alpha\":{\"value\":0.1},\"line_color\":{\"value\":\"#1f77b4\"},\"size\":{\"value\":8},\"x\":{\"field\":\"x\"},\"y\":{\"field\":\"y\"}},\"id\":\"11292\",\"type\":\"Circle\"},{\"attributes\":{\"overlay\":{\"id\":\"11282\"}},\"id\":\"11278\",\"type\":\"BoxZoomTool\"},{\"attributes\":{\"source\":{\"id\":\"11290\"}},\"id\":\"11295\",\"type\":\"CDSView\"},{\"attributes\":{\"line_alpha\":0.1,\"line_color\":\"#1f77b4\",\"x\":{\"field\":\"x\"},\"y\":{\"field\":\"y\"}},\"id\":\"11298\",\"type\":\"Line\"},{\"attributes\":{\"source\":{\"id\":\"11296\"}},\"id\":\"11301\",\"type\":\"CDSView\"},{\"attributes\":{},\"id\":\"11279\",\"type\":\"SaveTool\"},{\"attributes\":{},\"id\":\"11700\",\"type\":\"BasicTickFormatter\"},{\"attributes\":{\"fill_color\":{\"value\":\"#1f77b4\"},\"line_color\":{\"value\":\"#1f77b4\"},\"size\":{\"value\":8},\"x\":{\"field\":\"x\"},\"y\":{\"field\":\"y\"}},\"id\":\"11291\",\"type\":\"Circle\"},{\"attributes\":{},\"id\":\"11704\",\"type\":\"AllLabels\"},{\"attributes\":{\"line_alpha\":0.2,\"line_color\":\"#1f77b4\",\"x\":{\"field\":\"x\"},\"y\":{\"field\":\"y\"}},\"id\":\"11299\",\"type\":\"Line\"},{\"attributes\":{},\"id\":\"11276\",\"type\":\"PanTool\"},{\"attributes\":{},\"id\":\"11708\",\"type\":\"Selection\"},{\"attributes\":{},\"id\":\"11280\",\"type\":\"ResetTool\"},{\"attributes\":{},\"id\":\"11273\",\"type\":\"BasicTicker\"},{\"attributes\":{},\"id\":\"11707\",\"type\":\"UnionRenderers\"},{\"attributes\":{\"coordinates\":null,\"data_source\":{\"id\":\"11290\"},\"glyph\":{\"id\":\"11291\"},\"group\":null,\"hover_glyph\":null,\"muted_glyph\":{\"id\":\"11293\"},\"nonselection_glyph\":{\"id\":\"11292\"},\"view\":{\"id\":\"11295\"}},\"id\":\"11294\",\"type\":\"GlyphRenderer\"},{\"attributes\":{\"coordinates\":null,\"data_source\":{\"id\":\"11296\"},\"glyph\":{\"id\":\"11297\"},\"group\":null,\"hover_glyph\":null,\"muted_glyph\":{\"id\":\"11299\"},\"nonselection_glyph\":{\"id\":\"11298\"},\"view\":{\"id\":\"11301\"}},\"id\":\"11300\",\"type\":\"GlyphRenderer\"},{\"attributes\":{\"axis\":{\"id\":\"11268\"},\"coordinates\":null,\"group\":null,\"ticker\":null},\"id\":\"11271\",\"type\":\"Grid\"},{\"attributes\":{},\"id\":\"11277\",\"type\":\"WheelZoomTool\"},{\"attributes\":{\"fill_alpha\":{\"value\":0.2},\"fill_color\":{\"value\":\"#1f77b4\"},\"hatch_alpha\":{\"value\":0.2},\"line_alpha\":{\"value\":0.2},\"line_color\":{\"value\":\"#1f77b4\"},\"size\":{\"value\":8},\"x\":{\"field\":\"x\"},\"y\":{\"field\":\"y\"}},\"id\":\"11293\",\"type\":\"Circle\"},{\"attributes\":{\"tools\":[{\"id\":\"11276\"},{\"id\":\"11277\"},{\"id\":\"11278\"},{\"id\":\"11279\"},{\"id\":\"11280\"},{\"id\":\"11281\"}]},\"id\":\"11283\",\"type\":\"Toolbar\"},{\"attributes\":{},\"id\":\"11701\",\"type\":\"AllLabels\"},{\"attributes\":{\"end\":100},\"id\":\"11260\",\"type\":\"Range1d\"},{\"attributes\":{},\"id\":\"11706\",\"type\":\"Selection\"},{\"attributes\":{},\"id\":\"11264\",\"type\":\"LinearScale\"},{\"attributes\":{\"coordinates\":null,\"formatter\":{\"id\":\"11703\"},\"group\":null,\"major_label_policy\":{\"id\":\"11704\"},\"ticker\":{\"id\":\"11269\"}},\"id\":\"11268\",\"type\":\"LinearAxis\"},{\"attributes\":{\"end\":100},\"id\":\"11262\",\"type\":\"Range1d\"},{\"attributes\":{\"data\":{\"x\":[100,97,82,75,75,70,61,57,44,32,40,37,2,5,1,3,3,3,0,13,15,28,23,17,20,12,11,22,38,50,64,57,56,54,53,55,50,53,42,54,62,63,70,97,99,90,75,75,83,84,91,97,95,94,83,92,86,85,87,92,100],\"y\":[26,8,12,4,13,29,31,34,29,15,3,2,3,39,48,49,60,67,89,99,95,97,80,72,66,62,56,46,36,47,50,60,63,64,71,77,82,85,92,92,93,97,89,98,86,78,74,63,69,65,64,58,51,47,48,37,28,24,27,29,26]},\"selected\":{\"id\":\"11708\"},\"selection_policy\":{\"id\":\"11707\"}},\"id\":\"11296\",\"type\":\"ColumnDataSource\"},{\"attributes\":{\"bottom_units\":\"screen\",\"coordinates\":null,\"fill_alpha\":0.5,\"fill_color\":\"lightgrey\",\"group\":null,\"left_units\":\"screen\",\"level\":\"overlay\",\"line_alpha\":1.0,\"line_color\":\"black\",\"line_dash\":[4,4],\"line_width\":2,\"right_units\":\"screen\",\"syncable\":false,\"top_units\":\"screen\"},\"id\":\"11282\",\"type\":\"BoxAnnotation\"},{\"attributes\":{},\"id\":\"11266\",\"type\":\"LinearScale\"},{\"attributes\":{},\"id\":\"11281\",\"type\":\"HelpTool\"},{\"attributes\":{},\"id\":\"11269\",\"type\":\"BasicTicker\"},{\"attributes\":{\"coordinates\":null,\"formatter\":{\"id\":\"11700\"},\"group\":null,\"major_label_policy\":{\"id\":\"11701\"},\"ticker\":{\"id\":\"11273\"}},\"id\":\"11272\",\"type\":\"LinearAxis\"},{\"attributes\":{\"coordinates\":null,\"group\":null,\"text\":\"Optimal TSP tour on 60 cities, length=673.752142\"},\"id\":\"11258\",\"type\":\"Title\"},{\"attributes\":{},\"id\":\"11703\",\"type\":\"BasicTickFormatter\"},{\"attributes\":{\"data\":{\"x\":[17,97,32,63,57,83,100,12,3,55,97,0,57,92,75,40,2,83,1,87,54,3,28,56,70,44,86,97,37,53,82,23,92,15,42,91,54,85,38,75,64,75,61,95,53,22,70,99,94,11,84,13,20,50,62,3,5,90,75,50],\"y\":[72,8,15,97,60,48,26,62,49,77,98,89,34,29,13,3,3,69,48,27,92,67,97,63,29,29,28,58,2,71,12,80,37,95,92,64,64,24,36,63,50,4,31,51,85,46,89,86,47,56,65,99,66,47,93,60,39,78,74,82]},\"selected\":{\"id\":\"11706\"},\"selection_policy\":{\"id\":\"11705\"}},\"id\":\"11290\",\"type\":\"ColumnDataSource\"},{\"attributes\":{\"line_color\":\"#1f77b4\",\"x\":{\"field\":\"x\"},\"y\":{\"field\":\"y\"}},\"id\":\"11297\",\"type\":\"Line\"}],\"root_ids\":[\"11257\"]},\"title\":\"Bokeh Application\",\"version\":\"2.4.2\"}};\n",
       "  const render_items = [{\"docid\":\"fca87579-e814-4f04-97dc-d6d37b46d352\",\"root_ids\":[\"11257\"],\"roots\":{\"11257\":\"95bb4826-b786-49fd-b7ee-2f95304f98f3\"}}];\n",
       "  root.Bokeh.embed.embed_items_notebook(docs_json, render_items);\n",
       "\n",
       "  }\n",
       "  if (root.Bokeh !== undefined) {\n",
       "    embed_document(root);\n",
       "  } else {\n",
       "    let attempts = 0;\n",
       "    const timer = setInterval(function(root) {\n",
       "      if (root.Bokeh !== undefined) {\n",
       "        clearInterval(timer);\n",
       "        embed_document(root);\n",
       "      } else {\n",
       "        attempts++;\n",
       "        if (attempts > 100) {\n",
       "          clearInterval(timer);\n",
       "          console.log(\"Bokeh: ERROR: Unable to run BokehJS code because BokehJS library is missing\");\n",
       "        }\n",
       "      }\n",
       "    }, 10, root)\n",
       "  }\n",
       "})(window);"
      ],
      "application/vnd.bokehjs_exec.v0+json": ""
     },
     "metadata": {
      "application/vnd.bokehjs_exec.v0+json": {
       "id": "11257"
      }
     },
     "output_type": "display_data"
    },
    {
     "name": "stdout",
     "output_type": "stream",
     "text": [
      "\n"
     ]
    }
   ],
   "source": [
    "def combo(model, where):\n",
    "    patchcb(model, where)\n",
    "    swapcb(model, where)\n",
    "\n",
    "m = tspmip(n, dist)\n",
    "m.optimize(tspcb(combo))\n",
    "checksol(m)\n",
    "addruntimes(runtimes, 'PS', m)"
   ]
  },
  {
   "cell_type": "markdown",
   "id": "f5cd777a",
   "metadata": {
    "slideshow": {
     "slide_type": "slide"
    }
   },
   "source": [
    "### Combination: Patch + Greedy + Swap"
   ]
  },
  {
   "cell_type": "code",
   "execution_count": 74,
   "id": "88ea9caa",
   "metadata": {
    "slideshow": {
     "slide_type": "subslide"
    }
   },
   "outputs": [
    {
     "name": "stdout",
     "output_type": "stream",
     "text": [
      "Set parameter LazyConstraints to value 1\n",
      "Set parameter MIPGap to value 0\n",
      "Set parameter TimeLimit to value 60\n",
      "Set parameter MIPGapAbs to value 5.0765999888398028e-03\n",
      "gapabs: 0.005076599988839803\n",
      "Gurobi Optimizer version 9.5.1 build v9.5.1rc2 (mac64[x86])\n",
      "Thread count: 2 physical cores, 4 logical processors, using up to 4 threads\n",
      "Optimize a model with 60 rows, 1770 columns and 3540 nonzeros\n",
      "Model fingerprint: 0xe22ed164\n",
      "Variable types: 0 continuous, 1770 integer (1770 binary)\n",
      "Coefficient statistics:\n",
      "  Matrix range     [1e+00, 1e+00]\n",
      "  Objective range  [1e+00, 1e+02]\n",
      "  Bounds range     [1e+00, 1e+00]\n",
      "  RHS range        [2e+00, 2e+00]\n",
      "MIPSOL, subtours: [[9, 4, 30], [20, 15, 35, 51, 48, 50], [38, 23, 49, 11, 45, 21, 53], [7, 0, 44, 55, 5, 33, 37, 58, 14, 43, 8, 27, 47, 22, 26, 16, 10, 34, 59, 1, 42, 41, 36, 39, 28, 31, 46, 40, 54, 12, 57, 13, 19, 2, 18, 32, 25, 17, 52, 29, 24, 6, 56, 3]]\n",
      "MIPSOL, subtours len: 4\n",
      "Presolve time: 0.01s\n",
      "Presolved: 60 rows, 1770 columns, 3540 nonzeros\n",
      "Variable types: 0 continuous, 1770 integer (1770 binary)\n",
      "MIPSOL, subtours: [[30, 28, 31, 29], [32, 26, 33, 27], [34, 24, 35, 25], [36, 22, 37, 23], [38, 20, 39, 21], [40, 18, 41, 19], [42, 16, 43, 17], [44, 14, 45, 15], [46, 12, 47, 13], [48, 10, 49, 11], [50, 8, 51, 9], [52, 6, 53, 7], [54, 4, 55, 5], [56, 2, 57, 3], [58, 0, 59, 1]]\n",
      "MIPSOL, subtours len: 15\n",
      "\n",
      "Root relaxation: objective 6.321593e+02, 79 iterations, 0.00 seconds (0.00 work units)\n",
      "\n",
      "    Nodes    |    Current Node    |     Objective Bounds      |     Work\n",
      " Expl Unexpl |  Obj  Depth IntInf | Incumbent    BestBd   Gap | It/Node Time\n",
      "\n",
      "     0     0  632.15925    0    6          -  632.15925      -     -    0s\n",
      "MIPSOL, subtours: [[18, 8, 56], [24, 12, 42], [26, 19, 37], [33, 11, 51], [46, 3, 54], [47, 10, 57], [15, 13, 32, 5, 48, 43, 27, 35, 50, 0, 52, 7, 21, 55, 49, 45, 38, 25, 53, 40, 4, 23, 36, 29, 9, 59, 44, 20, 34, 22, 31, 2, 30, 14, 41, 1, 39, 58, 17, 6, 16, 28]]\n",
      "MIPSOL, subtours len: 7\n",
      "MIPSOL, subtours: [[50, 17, 58, 39], [21, 7, 52, 0, 31, 22, 34, 20, 44, 59, 9, 29, 36, 23, 4, 40, 53, 25, 38, 45, 49, 55], [6, 1, 41, 14, 30, 37, 26, 19, 24, 12, 42, 2, 16, 28, 15, 56, 18, 8, 11, 51, 33, 3, 54, 46, 10, 57, 47, 35, 27, 43, 48, 5, 32, 13]]\n",
      "MIPSOL, subtours len: 3\n",
      "MIPSOL, subtours: [[30, 1, 41], [39, 17, 50], [15, 2, 16, 28], [18, 8, 55, 21, 11, 51, 33, 22, 31, 0, 52, 7, 49, 45, 56], [13, 6, 32, 5, 48, 43, 27, 35, 57, 47, 10, 58, 46, 3, 54, 20, 34, 44, 59, 9, 29, 36, 23, 4, 40, 53, 38, 25, 12, 42, 24, 14, 37, 26, 19]]\n",
      "MIPSOL, subtours len: 5\n",
      "**** greedy heuristic tour=873.482710, obj=397.630030, tour: [31, 0, 52, 7, 21, 55, 49, 45, 38, 25, 53, 40, 4, 23, 36, 29, 9, 59, 44, 20, 34, 22, 33, 11, 51, 54, 3, 46, 58, 17, 39, 50, 35, 27, 43, 48, 5, 32, 13, 6, 1, 30, 41, 14, 37, 19, 26, 24, 12, 42, 2, 15, 28, 16, 56, 8, 18, 57, 10, 47]\n",
      "swap 0, 2\n",
      "swap 0, 3\n",
      "swap 0, 24\n",
      "swap 0, 25\n",
      "swap 0, 40\n",
      "swap 0, 41\n",
      "swap 0, 49\n",
      "swap 0, 55\n",
      "swap 1, 4\n",
      "swap 1, 5\n",
      "swap 1, 6\n",
      "swap 1, 7\n",
      "swap 1, 9\n",
      "swap 1, 12\n",
      "swap 1, 13\n",
      "swap 1, 15\n",
      "swap 1, 16\n",
      "swap 1, 20\n",
      "swap 1, 21\n",
      "swap 1, 24\n",
      "swap 2, 26\n",
      "swap 2, 27\n",
      "swap 3, 14\n",
      "swap 3, 15\n",
      "swap 3, 20\n",
      "swap 3, 47\n",
      "swap 3, 48\n",
      "swap 6, 29\n",
      "swap 6, 30\n",
      "swap 6, 47\n",
      "swap 6, 50\n",
      "swap 7, 9\n",
      "swap 7, 10\n",
      "swap 7, 23\n",
      "swap 7, 53\n",
      "swap 8, 11\n",
      "swap 8, 37\n",
      "swap 8, 38\n",
      "swap 8, 56\n",
      "swap 8, 57\n",
      "swap 9, 41\n",
      "swap 9, 42\n",
      "swap 10, 51\n",
      "swap 10, 52\n",
      "swap 10, 53\n",
      "swap 10, 54\n",
      "swap 11, 13\n",
      "swap 11, 55\n",
      "swap 12, 14\n",
      "swap 12, 18\n",
      "swap 12, 20\n",
      "swap 12, 38\n",
      "swap 12, 39\n",
      "swap 12, 50\n",
      "swap 12, 51\n",
      "swap 12, 57\n",
      "swap 12, 58\n",
      "swap 13, 17\n",
      "swap 13, 19\n",
      "swap 13, 20\n",
      "swap 13, 24\n",
      "swap 13, 25\n",
      "swap 14, 27\n",
      "swap 16, 26\n",
      "swap 16, 27\n",
      "swap 16, 43\n",
      "swap 16, 48\n",
      "swap 17, 19\n",
      "swap 17, 22\n",
      "swap 18, 30\n",
      "swap 18, 32\n",
      "swap 18, 43\n",
      "swap 18, 48\n",
      "swap 19, 28\n",
      "swap 19, 29\n",
      "swap 19, 48\n",
      "swap 20, 22\n",
      "swap 20, 37\n",
      "swap 20, 38\n",
      "swap 20, 45\n",
      "swap 20, 49\n",
      "swap 20, 51\n",
      "swap 20, 52\n",
      "swap 21, 23\n",
      "swap 22, 24\n",
      "swap 24, 27\n",
      "swap 27, 29\n",
      "swap 27, 30\n",
      "swap 27, 31\n",
      "swap 27, 44\n",
      "swap 27, 58\n",
      "swap 28, 32\n",
      "swap 28, 33\n",
      "swap 28, 41\n",
      "swap 28, 42\n",
      "swap 30, 43\n",
      "swap 31, 37\n",
      "swap 31, 39\n",
      "swap 31, 43\n",
      "swap 31, 44\n",
      "swap 32, 57\n",
      "swap 32, 59\n",
      "swap 33, 35\n",
      "swap 33, 36\n",
      "swap 33, 37\n",
      "swap 33, 41\n",
      "swap 33, 52\n",
      "swap 33, 56\n",
      "swap 33, 57\n",
      "swap 33, 58\n",
      "swap 34, 36\n",
      "swap 34, 37\n",
      "swap 34, 38\n",
      "swap 34, 39\n",
      "swap 34, 43\n",
      "swap 35, 37\n",
      "swap 35, 43\n",
      "swap 36, 40\n",
      "swap 36, 41\n",
      "swap 36, 43\n",
      "swap 38, 40\n",
      "swap 43, 50\n",
      "swap 44, 46\n",
      "swap 44, 57\n",
      "swap 44, 58\n",
      "swap 46, 48\n",
      "swap 46, 51\n",
      "swap 46, 52\n",
      "swap 46, 53\n",
      "swap 46, 58\n",
      "swap 46, 59\n",
      "swap 48, 50\n",
      "swap 53, 59\n",
      "swap 0, 4\n",
      "swap 0, 6\n",
      "swap 0, 7\n",
      "swap 0, 9\n",
      "swap 0, 13\n",
      "swap 0, 15\n",
      "swap 0, 17\n",
      "swap 0, 19\n",
      "swap 0, 26\n",
      "swap 0, 27\n",
      "swap 0, 28\n",
      "swap 0, 29\n",
      "swap 0, 31\n",
      "swap 0, 33\n",
      "swap 0, 34\n",
      "swap 0, 36\n",
      "swap 0, 43\n",
      "swap 0, 44\n",
      "swap 0, 45\n",
      "swap 0, 47\n",
      "swap 0, 49\n",
      "swap 0, 50\n",
      "swap 0, 51\n",
      "swap 0, 53\n",
      "swap 0, 54\n",
      "swap 0, 56\n",
      "swap 0, 57\n",
      "swap 1, 14\n",
      "swap 1, 19\n",
      "swap 1, 21\n",
      "swap 1, 23\n",
      "swap 1, 24\n",
      "swap 1, 26\n",
      "swap 1, 32\n",
      "swap 1, 42\n",
      "swap 1, 47\n",
      "swap 1, 48\n",
      "swap 1, 49\n",
      "swap 1, 50\n",
      "swap 2, 6\n",
      "swap 2, 7\n",
      "swap 2, 12\n",
      "swap 2, 13\n",
      "swap 2, 22\n",
      "swap 2, 24\n",
      "swap 2, 49\n",
      "swap 3, 6\n",
      "swap 3, 7\n",
      "swap 4, 8\n",
      "swap 4, 27\n",
      "swap 4, 49\n",
      "swap 4, 50\n",
      "swap 5, 10\n",
      "swap 5, 11\n",
      "swap 5, 16\n",
      "swap 5, 28\n",
      "swap 7, 9\n",
      "swap 9, 14\n",
      "swap 9, 15\n",
      "swap 9, 16\n",
      "swap 9, 17\n",
      "swap 10, 12\n",
      "swap 12, 15\n",
      "swap 12, 18\n",
      "swap 13, 17\n",
      "swap 13, 19\n",
      "swap 16, 31\n",
      "swap 16, 32\n",
      "swap 16, 35\n",
      "swap 16, 36\n",
      "swap 17, 19\n",
      "swap 17, 57\n",
      "swap 17, 59\n",
      "swap 18, 27\n",
      "swap 18, 28\n",
      "swap 18, 40\n",
      "swap 18, 41\n",
      "swap 20, 29\n",
      "swap 20, 30\n",
      "swap 20, 56\n",
      "swap 20, 57\n",
      "swap 22, 26\n",
      "swap 23, 26\n",
      "swap 28, 57\n",
      "swap 29, 44\n",
      "swap 29, 46\n",
      "swap 30, 32\n",
      "swap 30, 48\n",
      "swap 30, 49\n",
      "swap 31, 54\n",
      "swap 31, 56\n",
      "swap 32, 34\n",
      "swap 32, 47\n",
      "swap 32, 51\n",
      "swap 32, 54\n",
      "swap 32, 55\n",
      "swap 33, 35\n",
      "swap 33, 39\n",
      "swap 34, 39\n",
      "swap 34, 52\n",
      "swap 34, 53\n",
      "swap 36, 39\n",
      "swap 40, 54\n",
      "swap 41, 53\n",
      "swap 43, 45\n",
      "swap 43, 46\n",
      "swap 43, 49\n",
      "swap 49, 51\n",
      "swap 49, 52\n",
      "swap 50, 52\n",
      "swap 54, 57\n",
      "swap 57, 59\n",
      "swap 0, 2\n",
      "swap 0, 3\n",
      "swap 0, 21\n",
      "swap 0, 24\n",
      "swap 0, 26\n",
      "swap 0, 27\n",
      "swap 1, 7\n",
      "swap 1, 25\n",
      "swap 1, 26\n",
      "swap 2, 6\n",
      "swap 4, 59\n",
      "swap 5, 7\n",
      "swap 5, 13\n",
      "swap 5, 14\n",
      "swap 5, 17\n",
      "swap 5, 18\n",
      "swap 5, 21\n",
      "swap 5, 22\n",
      "swap 8, 11\n",
      "swap 8, 19\n",
      "swap 8, 38\n",
      "swap 8, 59\n",
      "swap 12, 16\n",
      "swap 12, 59\n",
      "swap 14, 18\n",
      "swap 14, 50\n",
      "swap 20, 22\n",
      "swap 22, 24\n",
      "swap 22, 25\n",
      "swap 25, 29\n",
      "swap 25, 38\n",
      "swap 25, 39\n",
      "swap 26, 47\n",
      "swap 27, 44\n",
      "swap 29, 31\n",
      "swap 29, 32\n",
      "swap 32, 34\n",
      "swap 32, 35\n",
      "swap 41, 47\n",
      "swap 45, 47\n",
      "swap 48, 50\n",
      "swap 50, 54\n",
      "swap 52, 54\n",
      "swap 56, 58\n",
      "swap 2, 56\n",
      "swap 2, 58\n",
      "swap 18, 20\n",
      "swap 21, 23\n",
      "swap 23, 27\n",
      "swap 25, 27\n",
      "swap 30, 40\n",
      "swap 30, 42\n",
      "swap 35, 37\n",
      "swap 35, 38\n",
      "swap 36, 55\n",
      "swap 54, 56\n",
      "swap 55, 57\n",
      "swap 0, 2\n",
      "swap 0, 3\n",
      "swap 0, 58\n",
      "swap 4, 21\n",
      "swap 8, 21\n",
      "swap 16, 32\n",
      "swap 16, 33\n",
      "swap 18, 32\n",
      "swap 18, 33\n",
      "swap 39, 44\n",
      "swap 40, 42\n",
      "swap 42, 44\n",
      "swap 42, 45\n",
      "swap 43, 45\n",
      "swap 51, 55\n",
      "swap 0, 15\n",
      "swap 0, 28\n",
      "swap 0, 58\n",
      "swap 1, 3\n",
      "swap 1, 26\n",
      "swap 17, 19\n",
      "swap 19, 35\n",
      "swap 21, 28\n",
      "swap 22, 24\n",
      "swap 23, 25\n",
      "swap 25, 27\n",
      "swap 25, 28\n",
      "swap 26, 28\n",
      "swap 28, 37\n",
      "swap 45, 55\n",
      "swap 50, 55\n",
      "MIPNODE, len(tours): 6\n",
      "OBJBEST: 1e+100, tour cost: 716.8404563291849\n",
      "H    0     0                     716.8404563  663.52012  7.44%     -    0s\n",
      "     0     0  663.52012    0   18  716.84046  663.52012  7.44%     -    0s\n",
      "**** greedy heuristic tour=811.534875, obj=244.718924, tour: [31, 11, 21, 7, 52, 0, 49, 45, 38, 25, 2, 15, 28, 16, 56, 18, 8, 55, 33, 22, 34, 20, 44, 59, 9, 29, 36, 23, 4, 40, 53, 12, 42, 24, 37, 1, 30, 14, 41, 19, 13, 32, 26, 6, 48, 5, 43, 27, 35, 50, 17, 39, 58, 57, 47, 10, 46, 3, 54, 51]\n",
      "swap 11, 33\n",
      "swap 20, 41\n",
      "swap 28, 31\n",
      "swap 29, 31\n",
      "swap 0, 2\n",
      "swap 1, 18\n",
      "swap 13, 15\n",
      "swap 13, 16\n",
      "swap 14, 16\n",
      "swap 14, 17\n",
      "swap 15, 17\n",
      "swap 18, 59\n",
      "swap 31, 33\n",
      "swap 33, 35\n",
      "swap 33, 36\n",
      "swap 34, 36\n",
      "swap 34, 37\n",
      "swap 36, 38\n",
      "swap 36, 42\n",
      "swap 37, 40\n",
      "swap 40, 42\n",
      "swap 40, 43\n",
      "swap 41, 43\n",
      "MIPNODE, len(tours): 2\n",
      "OBJBEST: 716.8404563291849, tour cost: 693.9893011623957\n",
      "H    0     0                     693.9893012  664.66091  4.23%     -    0s\n",
      "     0     0  664.66091    0   26  693.98930  664.66091  4.23%     -    0s\n",
      "**** greedy heuristic tour=916.051425, obj=394.966507, tour: [31, 11, 33, 22, 51, 0, 52, 7, 21, 55, 8, 18, 56, 16, 28, 15, 2, 25, 38, 45, 49, 53, 40, 4, 23, 36, 29, 9, 59, 44, 20, 54, 46, 3, 34, 58, 39, 17, 50, 35, 27, 43, 48, 5, 32, 13, 19, 37, 24, 14, 30, 1, 6, 26, 42, 12, 41, 57, 47, 10]\n",
      "swap 18, 20\n",
      "swap 0, 4\n",
      "swap 0, 28\n",
      "swap 0, 32\n",
      "swap 0, 33\n",
      "swap 1, 34\n",
      "swap 4, 35\n",
      "swap 5, 33\n",
      "swap 6, 9\n",
      "swap 6, 10\n",
      "swap 27, 57\n",
      "swap 28, 30\n",
      "swap 28, 34\n",
      "swap 31, 37\n",
      "swap 32, 34\n",
      "swap 33, 36\n",
      "swap 45, 57\n",
      "swap 55, 57\n",
      "MIPNODE, len(tours): 2\n",
      "OBJBEST: 693.989301162396, tour cost: 691.8246046916362\n",
      "H    0     0                     691.8246047  664.66091  3.93%     -    0s\n"
     ]
    },
    {
     "name": "stdout",
     "output_type": "stream",
     "text": [
      "     0     0  664.66091    0   16  691.82460  664.66091  3.93%     -    0s\n",
      "**** greedy heuristic tour=796.821654, obj=222.969680, tour: [31, 11, 21, 7, 52, 0, 49, 45, 38, 25, 2, 15, 28, 16, 56, 18, 8, 55, 33, 22, 34, 20, 44, 59, 9, 29, 36, 23, 4, 40, 53, 12, 42, 24, 37, 19, 13, 32, 26, 6, 1, 30, 41, 14, 5, 48, 43, 27, 35, 50, 17, 39, 58, 57, 47, 10, 46, 3, 54, 51]\n",
      "swap 0, 2\n",
      "swap 1, 18\n",
      "swap 13, 15\n",
      "swap 13, 16\n",
      "swap 14, 16\n",
      "swap 14, 17\n",
      "swap 15, 17\n",
      "swap 18, 59\n",
      "swap 33, 38\n",
      "swap 33, 39\n",
      "swap 33, 40\n",
      "swap 34, 40\n",
      "swap 34, 41\n",
      "swap 40, 43\n",
      "MIPNODE, len(tours): 2\n",
      "OBJBEST: 691.8246046916364, tour cost: 691.8246046916362\n",
      "     0     0  665.24910    0   24  691.82460  665.24910  3.84%     -    1s\n",
      "MIPSOL, subtours: [[30, 14, 41], [15, 2, 25, 38, 45, 49, 7, 52, 0, 31, 22, 33, 51, 11, 21, 55, 8, 18, 56, 16, 28], [6, 1, 37, 19, 26, 24, 42, 12, 53, 40, 4, 23, 36, 29, 9, 59, 44, 34, 20, 54, 3, 46, 10, 47, 57, 58, 39, 17, 50, 35, 27, 43, 48, 5, 32, 13]]\n",
      "MIPSOL, subtours len: 3\n",
      "H    0     0                     683.8902338  665.24910  2.73%     -    1s\n",
      "**** greedy heuristic tour=893.076839, obj=335.077934, tour: [31, 11, 21, 7, 49, 8, 55, 18, 56, 16, 28, 15, 2, 25, 38, 45, 52, 0, 33, 22, 34, 20, 54, 46, 3, 44, 59, 9, 29, 36, 23, 4, 40, 53, 12, 42, 24, 37, 1, 30, 14, 41, 19, 13, 6, 32, 5, 48, 43, 27, 35, 50, 17, 39, 58, 57, 47, 10, 26, 51]\n",
      "swap 0, 2\n",
      "swap 1, 59\n",
      "swap 3, 58\n",
      "swap 4, 58\n",
      "swap 6, 8\n",
      "swap 6, 28\n",
      "swap 7, 26\n",
      "swap 7, 27\n",
      "swap 7, 28\n",
      "swap 0, 2\n",
      "swap 1, 18\n",
      "swap 2, 17\n",
      "swap 2, 59\n",
      "swap 3, 5\n",
      "swap 3, 8\n",
      "swap 3, 14\n",
      "swap 3, 15\n",
      "swap 3, 19\n",
      "swap 6, 23\n",
      "swap 7, 10\n",
      "swap 10, 24\n",
      "swap 18, 20\n",
      "swap 18, 21\n",
      "swap 36, 38\n",
      "swap 42, 59\n",
      "swap 45, 47\n",
      "MIPNODE, len(tours): 3\n",
      "OBJBEST: 683.8902337890871, tour cost: 680.8464082428474\n",
      "MIPSOL, subtours: [[15, 2, 25, 38, 45, 49, 7, 52, 0, 31, 34, 22, 33, 51, 11, 21, 55, 8, 18, 56, 16, 28], [6, 1, 30, 41, 14, 24, 42, 12, 53, 40, 4, 23, 36, 29, 9, 59, 44, 20, 54, 3, 46, 10, 47, 57, 58, 39, 17, 50, 35, 27, 43, 48, 5, 32, 26, 37, 19, 13]]\n",
      "MIPSOL, subtours len: 2\n",
      "H    0     0                     680.8464082  670.59128  1.51%     -    1s\n",
      "     0     0  670.59128    0   14  680.84641  670.59128  1.51%     -    1s\n",
      "**** greedy heuristic tour=860.869318, obj=267.156973, tour: [31, 22, 34, 20, 44, 59, 9, 29, 36, 23, 4, 40, 53, 38, 45, 16, 28, 2, 25, 12, 42, 24, 14, 41, 30, 1, 6, 13, 19, 37, 26, 32, 5, 48, 43, 27, 35, 50, 17, 39, 58, 57, 47, 10, 46, 3, 54, 33, 51, 11, 21, 55, 8, 18, 56, 49, 7, 52, 0, 15]\n",
      "swap 3, 42\n",
      "swap 5, 7\n",
      "swap 5, 8\n",
      "swap 0, 13\n",
      "swap 0, 14\n",
      "swap 0, 17\n",
      "swap 2, 18\n",
      "swap 2, 59\n",
      "swap 3, 57\n",
      "swap 4, 46\n",
      "swap 33, 58\n",
      "swap 34, 57\n",
      "MIPNODE, len(tours): 3\n",
      "OBJBEST: 680.8464082428475, tour cost: 676.9756649664658\n",
      "MIPSOL, subtours: [[15, 2, 28], [18, 8, 55, 21, 11, 51, 33, 22, 31, 0, 52, 7, 49, 45, 16, 56], [6, 1, 30, 41, 14, 24, 42, 12, 25, 38, 53, 40, 4, 23, 36, 29, 9, 59, 44, 34, 20, 54, 3, 46, 10, 47, 57, 58, 39, 17, 50, 35, 27, 43, 48, 5, 32, 26, 37, 19, 13]]\n",
      "MIPSOL, subtours len: 3\n",
      "MIPSOL, subtours: [[23, 4, 36], [31, 0, 52], [29, 9, 44, 59], [6, 1, 30, 41, 14, 24, 42, 12, 40, 53, 38, 25, 2, 15, 28, 16, 56, 18, 8, 45, 49, 7, 55, 21, 11, 51, 33, 22, 34, 20, 54, 3, 46, 10, 47, 57, 58, 39, 17, 50, 35, 27, 43, 48, 5, 32, 26, 37, 19, 13]]\n",
      "MIPSOL, subtours len: 4\n",
      "*    0     0               0     673.7521420  673.75214  0.00%     -    1s\n",
      "\n",
      "Cutting planes:\n",
      "  Gomory: 6\n",
      "  Zero half: 4\n",
      "  Lazy constraints: 8\n",
      "\n",
      "Explored 1 nodes (217 simplex iterations) in 1.35 seconds (0.02 work units)\n",
      "Thread count was 4 (of 4 available processors)\n",
      "\n",
      "Solution count 6: 673.752 680.846 683.89 ... 716.84\n",
      "\n",
      "Optimal solution found (tolerance 0.00e+00)\n",
      "Best objective 6.737521419883e+02, best bound 6.737521419883e+02, gap 0.0000%\n",
      "\n",
      "User-callback calls 279, time in user-callback 0.98 sec\n",
      "\n",
      "Optimal TSP tour: [6, 1, 30, 41, 14, 24, 42, 12, 25, 2, 15, 28, 16, 56, 18, 8, 55, 21, 11, 51, 33, 22, 31, 0, 52, 7, 49, 45, 38, 53, 40, 4, 23, 36, 29, 9, 59, 44, 34, 20, 54, 3, 46, 10, 47, 57, 58, 39, 17, 50, 35, 27, 43, 48, 5, 32, 26, 37, 19, 13]\n",
      "Cost: 673.752\n"
     ]
    },
    {
     "data": {
      "text/html": [
       "\n",
       "\n",
       "\n",
       "\n",
       "\n",
       "\n",
       "  <div class=\"bk-root\" id=\"1bc42b9f-58c8-4b0c-8f08-947cb0378d4b\" data-root-id=\"11770\"></div>\n"
      ]
     },
     "metadata": {},
     "output_type": "display_data"
    },
    {
     "data": {
      "application/javascript": [
       "(function(root) {\n",
       "  function embed_document(root) {\n",
       "    \n",
       "  const docs_json = {\"f0ac704d-d8aa-4ed8-a657-b03a6c4ed478\":{\"defs\":[],\"roots\":{\"references\":[{\"attributes\":{\"below\":[{\"id\":\"11781\"}],\"center\":[{\"id\":\"11784\"},{\"id\":\"11788\"}],\"left\":[{\"id\":\"11785\"}],\"renderers\":[{\"id\":\"11807\"},{\"id\":\"11813\"}],\"title\":{\"id\":\"11771\"},\"toolbar\":{\"id\":\"11796\"},\"x_range\":{\"id\":\"11773\"},\"x_scale\":{\"id\":\"11777\"},\"y_range\":{\"id\":\"11775\"},\"y_scale\":{\"id\":\"11779\"}},\"id\":\"11770\",\"subtype\":\"Figure\",\"type\":\"Plot\"},{\"attributes\":{\"end\":100},\"id\":\"11773\",\"type\":\"Range1d\"},{\"attributes\":{\"coordinates\":null,\"group\":null,\"text\":\"Optimal TSP tour on 60 cities, length=673.752142\"},\"id\":\"11771\",\"type\":\"Title\"},{\"attributes\":{},\"id\":\"11790\",\"type\":\"WheelZoomTool\"},{\"attributes\":{},\"id\":\"11794\",\"type\":\"HelpTool\"},{\"attributes\":{\"line_alpha\":0.1,\"line_color\":\"#1f77b4\",\"x\":{\"field\":\"x\"},\"y\":{\"field\":\"y\"}},\"id\":\"11811\",\"type\":\"Line\"},{\"attributes\":{},\"id\":\"12231\",\"type\":\"Selection\"},{\"attributes\":{\"data\":{\"x\":[17,97,32,63,57,83,100,12,3,55,97,0,57,92,75,40,2,83,1,87,54,3,28,56,70,44,86,97,37,53,82,23,92,15,42,91,54,85,38,75,64,75,61,95,53,22,70,99,94,11,84,13,20,50,62,3,5,90,75,50],\"y\":[72,8,15,97,60,48,26,62,49,77,98,89,34,29,13,3,3,69,48,27,92,67,97,63,29,29,28,58,2,71,12,80,37,95,92,64,64,24,36,63,50,4,31,51,85,46,89,86,47,56,65,99,66,47,93,60,39,78,74,82]},\"selected\":{\"id\":\"12231\"},\"selection_policy\":{\"id\":\"12230\"}},\"id\":\"11803\",\"type\":\"ColumnDataSource\"},{\"attributes\":{},\"id\":\"11786\",\"type\":\"BasicTicker\"},{\"attributes\":{},\"id\":\"11777\",\"type\":\"LinearScale\"},{\"attributes\":{\"data\":{\"x\":[100,97,82,75,75,70,61,57,44,32,40,37,2,5,1,3,3,3,0,13,15,28,23,17,20,12,11,22,38,50,64,57,56,54,53,55,50,53,42,54,62,63,70,97,99,90,75,75,83,84,91,97,95,94,83,92,86,85,87,92,100],\"y\":[26,8,12,4,13,29,31,34,29,15,3,2,3,39,48,49,60,67,89,99,95,97,80,72,66,62,56,46,36,47,50,60,63,64,71,77,82,85,92,92,93,97,89,98,86,78,74,63,69,65,64,58,51,47,48,37,28,24,27,29,26]},\"selected\":{\"id\":\"12233\"},\"selection_policy\":{\"id\":\"12232\"}},\"id\":\"11809\",\"type\":\"ColumnDataSource\"},{\"attributes\":{\"end\":100},\"id\":\"11775\",\"type\":\"Range1d\"},{\"attributes\":{\"line_alpha\":0.2,\"line_color\":\"#1f77b4\",\"x\":{\"field\":\"x\"},\"y\":{\"field\":\"y\"}},\"id\":\"11812\",\"type\":\"Line\"},{\"attributes\":{},\"id\":\"11792\",\"type\":\"SaveTool\"},{\"attributes\":{\"tools\":[{\"id\":\"11789\"},{\"id\":\"11790\"},{\"id\":\"11791\"},{\"id\":\"11792\"},{\"id\":\"11793\"},{\"id\":\"11794\"}]},\"id\":\"11796\",\"type\":\"Toolbar\"},{\"attributes\":{},\"id\":\"12228\",\"type\":\"BasicTickFormatter\"},{\"attributes\":{\"fill_color\":{\"value\":\"#1f77b4\"},\"line_color\":{\"value\":\"#1f77b4\"},\"size\":{\"value\":8},\"x\":{\"field\":\"x\"},\"y\":{\"field\":\"y\"}},\"id\":\"11804\",\"type\":\"Circle\"},{\"attributes\":{},\"id\":\"11793\",\"type\":\"ResetTool\"},{\"attributes\":{},\"id\":\"12226\",\"type\":\"AllLabels\"},{\"attributes\":{},\"id\":\"12229\",\"type\":\"AllLabels\"},{\"attributes\":{},\"id\":\"11779\",\"type\":\"LinearScale\"},{\"attributes\":{\"coordinates\":null,\"formatter\":{\"id\":\"12225\"},\"group\":null,\"major_label_policy\":{\"id\":\"12226\"},\"ticker\":{\"id\":\"11786\"}},\"id\":\"11785\",\"type\":\"LinearAxis\"},{\"attributes\":{\"coordinates\":null,\"data_source\":{\"id\":\"11803\"},\"glyph\":{\"id\":\"11804\"},\"group\":null,\"hover_glyph\":null,\"muted_glyph\":{\"id\":\"11806\"},\"nonselection_glyph\":{\"id\":\"11805\"},\"view\":{\"id\":\"11808\"}},\"id\":\"11807\",\"type\":\"GlyphRenderer\"},{\"attributes\":{},\"id\":\"12233\",\"type\":\"Selection\"},{\"attributes\":{\"overlay\":{\"id\":\"11795\"}},\"id\":\"11791\",\"type\":\"BoxZoomTool\"},{\"attributes\":{},\"id\":\"12232\",\"type\":\"UnionRenderers\"},{\"attributes\":{\"coordinates\":null,\"formatter\":{\"id\":\"12228\"},\"group\":null,\"major_label_policy\":{\"id\":\"12229\"},\"ticker\":{\"id\":\"11782\"}},\"id\":\"11781\",\"type\":\"LinearAxis\"},{\"attributes\":{\"axis\":{\"id\":\"11785\"},\"coordinates\":null,\"dimension\":1,\"group\":null,\"ticker\":null},\"id\":\"11788\",\"type\":\"Grid\"},{\"attributes\":{},\"id\":\"12225\",\"type\":\"BasicTickFormatter\"},{\"attributes\":{\"axis\":{\"id\":\"11781\"},\"coordinates\":null,\"group\":null,\"ticker\":null},\"id\":\"11784\",\"type\":\"Grid\"},{\"attributes\":{\"line_color\":\"#1f77b4\",\"x\":{\"field\":\"x\"},\"y\":{\"field\":\"y\"}},\"id\":\"11810\",\"type\":\"Line\"},{\"attributes\":{\"coordinates\":null,\"data_source\":{\"id\":\"11809\"},\"glyph\":{\"id\":\"11810\"},\"group\":null,\"hover_glyph\":null,\"muted_glyph\":{\"id\":\"11812\"},\"nonselection_glyph\":{\"id\":\"11811\"},\"view\":{\"id\":\"11814\"}},\"id\":\"11813\",\"type\":\"GlyphRenderer\"},{\"attributes\":{},\"id\":\"12230\",\"type\":\"UnionRenderers\"},{\"attributes\":{\"fill_alpha\":{\"value\":0.2},\"fill_color\":{\"value\":\"#1f77b4\"},\"hatch_alpha\":{\"value\":0.2},\"line_alpha\":{\"value\":0.2},\"line_color\":{\"value\":\"#1f77b4\"},\"size\":{\"value\":8},\"x\":{\"field\":\"x\"},\"y\":{\"field\":\"y\"}},\"id\":\"11806\",\"type\":\"Circle\"},{\"attributes\":{},\"id\":\"11782\",\"type\":\"BasicTicker\"},{\"attributes\":{\"source\":{\"id\":\"11803\"}},\"id\":\"11808\",\"type\":\"CDSView\"},{\"attributes\":{\"bottom_units\":\"screen\",\"coordinates\":null,\"fill_alpha\":0.5,\"fill_color\":\"lightgrey\",\"group\":null,\"left_units\":\"screen\",\"level\":\"overlay\",\"line_alpha\":1.0,\"line_color\":\"black\",\"line_dash\":[4,4],\"line_width\":2,\"right_units\":\"screen\",\"syncable\":false,\"top_units\":\"screen\"},\"id\":\"11795\",\"type\":\"BoxAnnotation\"},{\"attributes\":{\"source\":{\"id\":\"11809\"}},\"id\":\"11814\",\"type\":\"CDSView\"},{\"attributes\":{\"fill_alpha\":{\"value\":0.1},\"fill_color\":{\"value\":\"#1f77b4\"},\"hatch_alpha\":{\"value\":0.1},\"line_alpha\":{\"value\":0.1},\"line_color\":{\"value\":\"#1f77b4\"},\"size\":{\"value\":8},\"x\":{\"field\":\"x\"},\"y\":{\"field\":\"y\"}},\"id\":\"11805\",\"type\":\"Circle\"},{\"attributes\":{},\"id\":\"11789\",\"type\":\"PanTool\"}],\"root_ids\":[\"11770\"]},\"title\":\"Bokeh Application\",\"version\":\"2.4.2\"}};\n",
       "  const render_items = [{\"docid\":\"f0ac704d-d8aa-4ed8-a657-b03a6c4ed478\",\"root_ids\":[\"11770\"],\"roots\":{\"11770\":\"1bc42b9f-58c8-4b0c-8f08-947cb0378d4b\"}}];\n",
       "  root.Bokeh.embed.embed_items_notebook(docs_json, render_items);\n",
       "\n",
       "  }\n",
       "  if (root.Bokeh !== undefined) {\n",
       "    embed_document(root);\n",
       "  } else {\n",
       "    let attempts = 0;\n",
       "    const timer = setInterval(function(root) {\n",
       "      if (root.Bokeh !== undefined) {\n",
       "        clearInterval(timer);\n",
       "        embed_document(root);\n",
       "      } else {\n",
       "        attempts++;\n",
       "        if (attempts > 100) {\n",
       "          clearInterval(timer);\n",
       "          console.log(\"Bokeh: ERROR: Unable to run BokehJS code because BokehJS library is missing\");\n",
       "        }\n",
       "      }\n",
       "    }, 10, root)\n",
       "  }\n",
       "})(window);"
      ],
      "application/vnd.bokehjs_exec.v0+json": ""
     },
     "metadata": {
      "application/vnd.bokehjs_exec.v0+json": {
       "id": "11770"
      }
     },
     "output_type": "display_data"
    },
    {
     "name": "stdout",
     "output_type": "stream",
     "text": [
      "\n"
     ]
    }
   ],
   "source": [
    "def combo(model, where):\n",
    "    patchcb(model, where)\n",
    "    greedycb(model, where)\n",
    "    swapcb(model, where)\n",
    "\n",
    "m = tspmip(n, dist)\n",
    "m.optimize(tspcb(combo))\n",
    "checksol(m)\n",
    "addruntimes(runtimes, 'PGS', m)"
   ]
  },
  {
   "cell_type": "markdown",
   "id": "849692b9",
   "metadata": {
    "slideshow": {
     "slide_type": "slide"
    }
   },
   "source": [
    "# Performance\n",
    "Compare performance of the different heuristics"
   ]
  },
  {
   "cell_type": "code",
   "execution_count": 80,
   "id": "9d9658a0",
   "metadata": {
    "slideshow": {
     "slide_type": "subslide"
    }
   },
   "outputs": [
    {
     "data": {
      "text/html": [
       "\n",
       "\n",
       "\n",
       "\n",
       "\n",
       "\n",
       "  <div class=\"bk-root\" id=\"edbb5f2c-6bab-4aaa-b7f7-239ed1974120\" data-root-id=\"13970\"></div>\n"
      ]
     },
     "metadata": {},
     "output_type": "display_data"
    },
    {
     "data": {
      "application/javascript": [
       "(function(root) {\n",
       "  function embed_document(root) {\n",
       "    \n",
       "  const docs_json = {\"8c4fab4a-0804-4cb9-83eb-0c4e61ed3136\":{\"defs\":[],\"roots\":{\"references\":[{\"attributes\":{\"below\":[{\"id\":\"13981\"}],\"center\":[{\"id\":\"13983\"},{\"id\":\"13987\"},{\"id\":\"14020\"}],\"left\":[{\"id\":\"13984\"}],\"renderers\":[{\"id\":\"14008\"},{\"id\":\"14028\"}],\"title\":{\"id\":\"13971\"},\"toolbar\":{\"id\":\"13995\"},\"x_range\":{\"id\":\"13973\"},\"x_scale\":{\"id\":\"13977\"},\"y_range\":{\"id\":\"13975\"},\"y_scale\":{\"id\":\"13979\"}},\"id\":\"13970\",\"subtype\":\"Figure\",\"type\":\"Plot\"},{\"attributes\":{},\"id\":\"13979\",\"type\":\"LinearScale\"},{\"attributes\":{\"range\":{\"id\":\"13973\"},\"value\":-0.2},\"id\":\"14002\",\"type\":\"Dodge\"},{\"attributes\":{\"coordinates\":null,\"formatter\":{\"id\":\"14015\"},\"group\":null,\"major_label_policy\":{\"id\":\"14016\"},\"ticker\":{\"id\":\"13982\"}},\"id\":\"13981\",\"type\":\"CategoricalAxis\"},{\"attributes\":{\"fill_alpha\":{\"value\":0.1},\"fill_color\":{\"value\":\"blue\"},\"hatch_alpha\":{\"value\":0.1},\"hatch_color\":{\"value\":\"blue\"},\"line_alpha\":{\"value\":0.1},\"line_color\":{\"value\":\"blue\"},\"top\":{\"field\":\"optimal\"},\"width\":{\"value\":0.3},\"x\":{\"field\":\"methods\",\"transform\":{\"id\":\"14022\"}}},\"id\":\"14026\",\"type\":\"VBar\"},{\"attributes\":{\"axis\":{\"id\":\"13981\"},\"coordinates\":null,\"group\":null,\"ticker\":null},\"id\":\"13983\",\"type\":\"Grid\"},{\"attributes\":{\"coordinates\":null,\"data_source\":{\"id\":\"14023\"},\"glyph\":{\"id\":\"14025\"},\"group\":null,\"hover_glyph\":null,\"muted_glyph\":{\"id\":\"14027\"},\"nonselection_glyph\":{\"id\":\"14026\"},\"view\":{\"id\":\"14029\"}},\"id\":\"14028\",\"type\":\"GlyphRenderer\"},{\"attributes\":{\"label\":{\"value\":\"Optimality\"},\"renderers\":[{\"id\":\"14028\"}]},\"id\":\"14042\",\"type\":\"LegendItem\"},{\"attributes\":{\"fill_alpha\":{\"value\":0.2},\"fill_color\":{\"value\":\"red\"},\"hatch_alpha\":{\"value\":0.2},\"hatch_color\":{\"value\":\"red\"},\"line_alpha\":{\"value\":0.2},\"line_color\":{\"value\":\"red\"},\"top\":{\"field\":\"firstsol\"},\"width\":{\"value\":0.3},\"x\":{\"field\":\"methods\",\"transform\":{\"id\":\"14002\"}}},\"id\":\"14007\",\"type\":\"VBar\"},{\"attributes\":{},\"id\":\"13982\",\"type\":\"CategoricalTicker\"},{\"attributes\":{\"fill_color\":{\"value\":\"red\"},\"hatch_color\":{\"value\":\"red\"},\"line_color\":{\"value\":\"red\"},\"top\":{\"field\":\"firstsol\"},\"width\":{\"value\":0.3},\"x\":{\"field\":\"methods\",\"transform\":{\"id\":\"14002\"}}},\"id\":\"14005\",\"type\":\"VBar\"},{\"attributes\":{\"source\":{\"id\":\"14023\"}},\"id\":\"14029\",\"type\":\"CDSView\"},{\"attributes\":{},\"id\":\"13991\",\"type\":\"SaveTool\"},{\"attributes\":{},\"id\":\"14012\",\"type\":\"BasicTickFormatter\"},{\"attributes\":{},\"id\":\"13977\",\"type\":\"CategoricalScale\"},{\"attributes\":{},\"id\":\"13975\",\"type\":\"DataRange1d\"},{\"attributes\":{},\"id\":\"13992\",\"type\":\"ResetTool\"},{\"attributes\":{},\"id\":\"13985\",\"type\":\"BasicTicker\"},{\"attributes\":{},\"id\":\"14013\",\"type\":\"AllLabels\"},{\"attributes\":{},\"id\":\"14040\",\"type\":\"Selection\"},{\"attributes\":{\"coordinates\":null,\"group\":null,\"text\":\"Runtimes\"},\"id\":\"13971\",\"type\":\"Title\"},{\"attributes\":{\"fill_alpha\":{\"value\":0.1},\"fill_color\":{\"value\":\"red\"},\"hatch_alpha\":{\"value\":0.1},\"hatch_color\":{\"value\":\"red\"},\"line_alpha\":{\"value\":0.1},\"line_color\":{\"value\":\"red\"},\"top\":{\"field\":\"firstsol\"},\"width\":{\"value\":0.3},\"x\":{\"field\":\"methods\",\"transform\":{\"id\":\"14002\"}}},\"id\":\"14006\",\"type\":\"VBar\"},{\"attributes\":{\"axis\":{\"id\":\"13984\"},\"coordinates\":null,\"dimension\":1,\"group\":null,\"ticker\":null},\"id\":\"13987\",\"type\":\"Grid\"},{\"attributes\":{},\"id\":\"14015\",\"type\":\"CategoricalTickFormatter\"},{\"attributes\":{},\"id\":\"14039\",\"type\":\"UnionRenderers\"},{\"attributes\":{\"coordinates\":null,\"data_source\":{\"id\":\"14003\"},\"glyph\":{\"id\":\"14005\"},\"group\":null,\"hover_glyph\":null,\"muted_glyph\":{\"id\":\"14007\"},\"nonselection_glyph\":{\"id\":\"14006\"},\"view\":{\"id\":\"14009\"}},\"id\":\"14008\",\"type\":\"GlyphRenderer\"},{\"attributes\":{},\"id\":\"13993\",\"type\":\"HelpTool\"},{\"attributes\":{\"data\":{\"firstsol\":[0.3408019542694092,0.5681600570678711,0.25847792625427246,0.36775803565979004,0.6458539962768555,0.529803991317749,0.23249316215515137],\"methods\":[\"greedy\",\"swap\",\"GS\",\"PS\",\"PGS\",\"noheur\",\"patch\"],\"optimal\":[0.9188060760498047,0.7310190200805664,0.8760809898376465,0.8867530822753906,1.3829729557037354,0.6963648796081543,0.7278141975402832]},\"selected\":{\"id\":\"14018\"},\"selection_policy\":{\"id\":\"14017\"}},\"id\":\"14003\",\"type\":\"ColumnDataSource\"},{\"attributes\":{},\"id\":\"14016\",\"type\":\"AllLabels\"},{\"attributes\":{\"source\":{\"id\":\"14003\"}},\"id\":\"14009\",\"type\":\"CDSView\"},{\"attributes\":{\"coordinates\":null,\"group\":null,\"items\":[{\"id\":\"14021\"},{\"id\":\"14042\"}]},\"id\":\"14020\",\"type\":\"Legend\"},{\"attributes\":{\"label\":{\"value\":\"First solution\"},\"renderers\":[{\"id\":\"14008\"}]},\"id\":\"14021\",\"type\":\"LegendItem\"},{\"attributes\":{\"overlay\":{\"id\":\"13994\"}},\"id\":\"13990\",\"type\":\"BoxZoomTool\"},{\"attributes\":{},\"id\":\"14017\",\"type\":\"UnionRenderers\"},{\"attributes\":{},\"id\":\"13988\",\"type\":\"PanTool\"},{\"attributes\":{},\"id\":\"13989\",\"type\":\"WheelZoomTool\"},{\"attributes\":{},\"id\":\"14018\",\"type\":\"Selection\"},{\"attributes\":{\"tools\":[{\"id\":\"13988\"},{\"id\":\"13989\"},{\"id\":\"13990\"},{\"id\":\"13991\"},{\"id\":\"13992\"},{\"id\":\"13993\"}]},\"id\":\"13995\",\"type\":\"Toolbar\"},{\"attributes\":{\"bottom_units\":\"screen\",\"coordinates\":null,\"fill_alpha\":0.5,\"fill_color\":\"lightgrey\",\"group\":null,\"left_units\":\"screen\",\"level\":\"overlay\",\"line_alpha\":1.0,\"line_color\":\"black\",\"line_dash\":[4,4],\"line_width\":2,\"right_units\":\"screen\",\"syncable\":false,\"top_units\":\"screen\"},\"id\":\"13994\",\"type\":\"BoxAnnotation\"},{\"attributes\":{\"fill_alpha\":{\"value\":0.2},\"fill_color\":{\"value\":\"blue\"},\"hatch_alpha\":{\"value\":0.2},\"hatch_color\":{\"value\":\"blue\"},\"line_alpha\":{\"value\":0.2},\"line_color\":{\"value\":\"blue\"},\"top\":{\"field\":\"optimal\"},\"width\":{\"value\":0.3},\"x\":{\"field\":\"methods\",\"transform\":{\"id\":\"14022\"}}},\"id\":\"14027\",\"type\":\"VBar\"},{\"attributes\":{\"data\":{\"firstsol\":[0.3408019542694092,0.5681600570678711,0.25847792625427246,0.36775803565979004,0.6458539962768555,0.529803991317749,0.23249316215515137],\"methods\":[\"greedy\",\"swap\",\"GS\",\"PS\",\"PGS\",\"noheur\",\"patch\"],\"optimal\":[0.9188060760498047,0.7310190200805664,0.8760809898376465,0.8867530822753906,1.3829729557037354,0.6963648796081543,0.7278141975402832]},\"selected\":{\"id\":\"14040\"},\"selection_policy\":{\"id\":\"14039\"}},\"id\":\"14023\",\"type\":\"ColumnDataSource\"},{\"attributes\":{\"range\":{\"id\":\"13973\"},\"value\":0.2},\"id\":\"14022\",\"type\":\"Dodge\"},{\"attributes\":{\"factors\":[\"greedy\",\"swap\",\"GS\",\"PS\",\"PGS\",\"noheur\",\"patch\"]},\"id\":\"13973\",\"type\":\"FactorRange\"},{\"attributes\":{\"fill_color\":{\"value\":\"blue\"},\"hatch_color\":{\"value\":\"blue\"},\"line_color\":{\"value\":\"blue\"},\"top\":{\"field\":\"optimal\"},\"width\":{\"value\":0.3},\"x\":{\"field\":\"methods\",\"transform\":{\"id\":\"14022\"}}},\"id\":\"14025\",\"type\":\"VBar\"},{\"attributes\":{\"coordinates\":null,\"formatter\":{\"id\":\"14012\"},\"group\":null,\"major_label_policy\":{\"id\":\"14013\"},\"ticker\":{\"id\":\"13985\"}},\"id\":\"13984\",\"type\":\"LinearAxis\"}],\"root_ids\":[\"13970\"]},\"title\":\"Bokeh Application\",\"version\":\"2.4.2\"}};\n",
       "  const render_items = [{\"docid\":\"8c4fab4a-0804-4cb9-83eb-0c4e61ed3136\",\"root_ids\":[\"13970\"],\"roots\":{\"13970\":\"edbb5f2c-6bab-4aaa-b7f7-239ed1974120\"}}];\n",
       "  root.Bokeh.embed.embed_items_notebook(docs_json, render_items);\n",
       "\n",
       "  }\n",
       "  if (root.Bokeh !== undefined) {\n",
       "    embed_document(root);\n",
       "  } else {\n",
       "    let attempts = 0;\n",
       "    const timer = setInterval(function(root) {\n",
       "      if (root.Bokeh !== undefined) {\n",
       "        clearInterval(timer);\n",
       "        embed_document(root);\n",
       "      } else {\n",
       "        attempts++;\n",
       "        if (attempts > 100) {\n",
       "          clearInterval(timer);\n",
       "          console.log(\"Bokeh: ERROR: Unable to run BokehJS code because BokehJS library is missing\");\n",
       "        }\n",
       "      }\n",
       "    }, 10, root)\n",
       "  }\n",
       "})(window);"
      ],
      "application/vnd.bokehjs_exec.v0+json": ""
     },
     "metadata": {
      "application/vnd.bokehjs_exec.v0+json": {
       "id": "13970"
      }
     },
     "output_type": "display_data"
    }
   ],
   "source": [
    "from bokeh.transform import dodge\n",
    "\n",
    "fig = figure(x_range=runtimes['methods'], title=\"Runtimes\")\n",
    "fig.vbar(x=dodge('methods', -0.2, range=fig.x_range),\n",
    "         top='firstsol', source=runtimes, width=0.3, color=\"red\",\n",
    "         legend_label=\"First solution\")\n",
    "fig.vbar(x=dodge('methods', 0.2, range=fig.x_range),\n",
    "         top='optimal', source=runtimes, width=0.3, color=\"blue\",\n",
    "         legend_label=\"Optimality\")\n",
    "show(fig)"
   ]
  },
  {
   "cell_type": "markdown",
   "id": "f7857aeb",
   "metadata": {
    "slideshow": {
     "slide_type": "slide"
    }
   },
   "source": [
    "# General model\n",
    "- The MIP TSP *does not* require a Euclidean distance function\n",
    "- It does not even require the triangle inequality!\n",
    "\n",
    "Let's try some purely random distances:"
   ]
  },
  {
   "cell_type": "code",
   "execution_count": 83,
   "id": "10e8ed7c",
   "metadata": {
    "slideshow": {
     "slide_type": "subslide"
    }
   },
   "outputs": [
    {
     "name": "stdout",
     "output_type": "stream",
     "text": [
      "Set parameter LazyConstraints to value 1\n",
      "Set parameter MIPGap to value 0\n",
      "Set parameter TimeLimit to value 60\n",
      "Set parameter MIPGapAbs to value 6.3903540448162488e-05\n",
      "gapabs: 6.390354044816249e-05\n",
      "Gurobi Optimizer version 9.5.1 build v9.5.1rc2 (mac64[x86])\n",
      "Thread count: 2 physical cores, 4 logical processors, using up to 4 threads\n",
      "Optimize a model with 60 rows, 1770 columns and 3540 nonzeros\n",
      "Model fingerprint: 0x59a7a4d5\n",
      "Variable types: 0 continuous, 1770 integer (1770 binary)\n",
      "Coefficient statistics:\n",
      "  Matrix range     [1e+00, 1e+00]\n",
      "  Objective range  [8e-03, 1e+02]\n",
      "  Bounds range     [1e+00, 1e+00]\n",
      "  RHS range        [2e+00, 2e+00]\n",
      "MIPSOL, subtours: [[9, 4, 30], [20, 15, 35, 51, 48, 50], [38, 23, 49, 11, 45, 21, 53], [7, 0, 44, 55, 5, 33, 37, 58, 14, 43, 8, 27, 47, 22, 26, 16, 10, 34, 59, 1, 42, 41, 36, 39, 28, 31, 46, 40, 54, 12, 57, 13, 19, 2, 18, 32, 25, 17, 52, 29, 24, 6, 56, 3]]\n",
      "MIPSOL, subtours len: 4\n",
      "Presolve time: 0.01s\n",
      "Presolved: 60 rows, 1770 columns, 3540 nonzeros\n",
      "Variable types: 0 continuous, 1770 integer (1770 binary)\n",
      "MIPSOL, subtours: [[30, 28, 31, 29], [32, 26, 33, 27], [34, 24, 35, 25], [36, 22, 37, 23], [38, 20, 39, 21], [40, 18, 41, 19], [42, 16, 43, 17], [44, 14, 45, 15], [46, 12, 47, 13], [48, 10, 49, 11], [50, 8, 51, 9], [52, 6, 53, 7], [54, 4, 55, 5], [56, 2, 57, 3], [58, 0, 59, 1]]\n",
      "MIPSOL, subtours len: 15\n",
      "\n",
      "Root relaxation: objective 1.802193e+02, 85 iterations, 0.00 seconds (0.00 work units)\n",
      "\n",
      "    Nodes    |    Current Node    |     Objective Bounds      |     Work\n",
      " Expl Unexpl |  Obj  Depth IntInf | Incumbent    BestBd   Gap | It/Node Time\n",
      "\n",
      "     0     0  180.21929    0    8          -  180.21929      -     -    0s\n",
      "MIPSOL, subtours: [[28, 12, 32], [9, 3, 56, 11, 40, 21, 19, 1, 23, 53, 58, 17, 2, 43, 34, 20, 38, 57, 35, 31, 50], [7, 5, 45, 4, 24, 39, 49, 48, 54, 51, 41, 0, 15, 55, 22, 26, 33, 8, 47, 42, 10, 13, 6, 29, 59, 25, 46, 37, 36, 16, 44, 27, 14, 18, 52, 30]]\n",
      "MIPSOL, subtours len: 3\n",
      "H    0     0                     624.2722578  180.21929  71.1%     -    0s\n",
      "H    0     0                     200.4352596  180.21929  10.1%     -    0s\n",
      "H    0     0                     181.7241922  180.21929  0.83%     -    0s\n",
      "MIPNODE, len(tours): 6\n",
      "     0     0     cutoff    0       181.72419  181.72419  0.00%     -    0s\n",
      "\n",
      "Cutting planes:\n",
      "  Zero half: 2\n",
      "  Lazy constraints: 16\n",
      "\n",
      "Explored 1 nodes (94 simplex iterations) in 0.40 seconds (0.01 work units)\n",
      "Thread count was 4 (of 4 available processors)\n",
      "\n",
      "Solution count 3: 181.724 200.435 624.272 \n",
      "\n",
      "Optimal solution found (tolerance 0.00e+00)\n",
      "Best objective 1.817241921573e+02, best bound 1.817241921573e+02, gap 0.0000%\n",
      "\n",
      "User-callback calls 146, time in user-callback 0.19 sec\n",
      "\n",
      "Optimal TSP tour: [9, 3, 56, 11, 10, 42, 47, 8, 33, 26, 5, 45, 4, 24, 39, 49, 48, 54, 51, 41, 0, 15, 55, 22, 28, 32, 12, 53, 23, 1, 19, 21, 40, 6, 29, 59, 25, 46, 37, 36, 16, 44, 27, 14, 18, 52, 30, 7, 13, 58, 17, 2, 43, 34, 20, 38, 57, 35, 31, 50]\n",
      "Cost: 181.724\n",
      "\n"
     ]
    }
   ],
   "source": [
    "n = 60\n",
    "\n",
    "random.seed(20)\n",
    "dist = {(i, j): random.uniform(0,100)\n",
    "        for i in range(n) for j in range(i)}\n",
    "\n",
    "m = tspmip(n, dist)\n",
    "\n",
    "m.optimize(tspcb(patchcb))\n",
    "\n",
    "checksol(m, plot=False)"
   ]
  },
  {
   "cell_type": "markdown",
   "id": "8f3a3ae4",
   "metadata": {},
   "source": [
    "## Models that are likely to benefit from custom MIP heuristics\n",
    "- Where it is difficult to find integer solutions via the LP relaxation\n",
    "- Where it is easy to construct or improve an integer solution"
   ]
  },
  {
   "cell_type": "markdown",
   "id": "8b8577ea",
   "metadata": {},
   "source": [
    "## Models that are unlikely to benefit from custom heuristics\n",
    "- Where it is easy to find integer solutions\n",
    "- Where default MIP heuristics perform well\n",
    "    - Ex: knapsack problems"
   ]
  },
  {
   "cell_type": "markdown",
   "id": "4fdd1f33",
   "metadata": {
    "slideshow": {
     "slide_type": "slide"
    }
   },
   "source": [
    "## Example models that are likely to benefit from custom MIP heuristics\n",
    "\n",
    "- Models with some possibility\n",
    "  - Set covering/packing: Can you do better than general MIP rounding?\n",
    "- Promising models with disjunctive constraints\n",
    "  - Sequencing / disjunctive scheduling\n",
    "  - 2D/3D bin packing\n",
    "  - Open pit mining"
   ]
  },
  {
   "cell_type": "markdown",
   "id": "2da3dbbf",
   "metadata": {
    "slideshow": {
     "slide_type": "slide"
    }
   },
   "source": [
    "## Remember the Disclaimers\n",
    "- We use the Traveling Salesman Problem (TSP) **for illustration purposes**\n",
    "  - Why TSP? Because it is a rich model that is easy to understand\n",
    "- This is *not* designed to show the fastest method for the TSP\n",
    "  - Special-purpose TSP codes outperform this model\n",
    "  - If you want to solve a TSP, consider a state-of-the-art system like [Concorde TSP Solver](http://www.math.uwaterloo.ca/tsp/concorde.html)"
   ]
  },
  {
   "cell_type": "markdown",
   "id": "2c3df393",
   "metadata": {
    "slideshow": {
     "slide_type": "slide"
    }
   },
   "source": [
    "# How to get this code\n",
    "Available for download on Github: https://github.com/Gurobi/pres-mipheur\n",
    "\n",
    "**NOTE**: The sample data is too large to run using a _free trial license_; please do one of the following:\n",
    "- Commercial prospects: [Contact Gurobi sales](https://www.gurobi.com/company/contact-us/) to get a time-limited evaluation license\n",
    "- Academic users: Get a [free academic license](https://www.gurobi.com/academia/academic-program-and-licenses/) (if you qualify)\n",
    "- Anyone: Reduce the value of n to get a smaller model instance"
   ]
  },
  {
   "cell_type": "markdown",
   "id": "892140b2",
   "metadata": {
    "slideshow": {
     "slide_type": "slide"
    }
   },
   "source": [
    "# Questions/Discussion"
   ]
  },
  {
   "cell_type": "code",
   "execution_count": null,
   "id": "184daee1",
   "metadata": {
    "slideshow": {
     "slide_type": "skip"
    }
   },
   "outputs": [],
   "source": []
  }
 ],
 "metadata": {
  "jupytext": {
   "encoding": "# -*- coding: utf-8 -*-",
   "formats": "ipynb,py:percent,md"
  },
  "kernelspec": {
   "display_name": "Python 3",
   "language": "python",
   "name": "python3"
  },
  "language_info": {
   "codemirror_mode": {
    "name": "ipython",
    "version": 3
   },
   "file_extension": ".py",
   "mimetype": "text/x-python",
   "name": "python",
   "nbconvert_exporter": "python",
   "pygments_lexer": "ipython3",
   "version": "3.9.10"
  },
  "rise": {
   "center": false,
   "height": "90%",
   "scroll": true
  },
  "toc": {
   "nav_menu": {},
   "number_sections": true,
   "sideBar": false,
   "skip_h1_title": false,
   "toc_cell": false,
   "toc_position": {
    "height": "778.547px",
    "left": "2px",
    "right": "20px",
    "top": "91.8438px",
    "width": "531.594px"
   },
   "toc_section_display": "block",
   "toc_window_display": true
  }
 },
 "nbformat": 4,
 "nbformat_minor": 5
}
